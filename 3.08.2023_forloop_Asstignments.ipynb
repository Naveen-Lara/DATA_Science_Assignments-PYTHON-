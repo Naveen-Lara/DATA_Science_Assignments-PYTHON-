{
 "cells": [
  {
   "cell_type": "markdown",
   "id": "109a624f-a5dc-402d-b984-bff9afb0acfd",
   "metadata": {},
   "source": [
    "# Basic Level:"
   ]
  },
  {
   "cell_type": "markdown",
   "id": "1481b486-79f5-4af7-bb82-e78b68b90047",
   "metadata": {},
   "source": [
    "## 1. Write a Python program to print the numbers from 1 to 10 using a `for` loop."
   ]
  },
  {
   "cell_type": "code",
   "execution_count": 4,
   "id": "23a0bb30-eec6-457a-ab6e-5fe6fffc672e",
   "metadata": {},
   "outputs": [
    {
     "name": "stdout",
     "output_type": "stream",
     "text": [
      "1\n",
      "2\n",
      "3\n",
      "4\n",
      "5\n",
      "6\n",
      "7\n",
      "8\n",
      "9\n",
      "10\n"
     ]
    }
   ],
   "source": [
    "for i in range(1,11):\n",
    "    print(i)"
   ]
  },
  {
   "cell_type": "markdown",
   "id": "b81448f4-543b-4324-9e80-bf2b5d9d04ba",
   "metadata": {},
   "source": [
    "# 2. Create a program that calculates the sum of all numbers in a list using a `for` loop."
   ]
  },
  {
   "cell_type": "code",
   "execution_count": 6,
   "id": "d605f556-c858-48da-8832-9da072c9b41d",
   "metadata": {},
   "outputs": [
    {
     "name": "stdout",
     "output_type": "stream",
     "text": [
      "The sum of all numbers in the list is 300\n"
     ]
    }
   ],
   "source": [
    "num_list= list(range(25))\n",
    "j=0\n",
    "for i in num_list:\n",
    "    j=j+i\n",
    "    \n",
    "print(f\"The sum of all numbers in the list is {j}\")\n",
    "    "
   ]
  },
  {
   "cell_type": "markdown",
   "id": "66514fa5-7384-4a41-93c8-d1ae3c4ef5ff",
   "metadata": {},
   "source": [
    "## 3. Write a program to print the characters of a string in reverse order using a `for` loop."
   ]
  },
  {
   "cell_type": "code",
   "execution_count": 31,
   "id": "d1843b24-65e6-4779-8fad-7a327f626afe",
   "metadata": {},
   "outputs": [
    {
     "name": "stdout",
     "output_type": "stream",
     "text": [
      "the reversed string is \n",
      " pool rof a gnisu redro esrever ni gnirts a fo sretcarahc eht tnirp ot margorp a etirW\n"
     ]
    }
   ],
   "source": [
    "string=list(\"Write a program to print the characters of a string in reverse order using a for loop\")\n",
    "r_string=\"\"\n",
    "for i in range(len(string),0,-1):\n",
    "    r_string+= string[i-1]\n",
    "    \n",
    "print(f\"the reversed string is \\n {r_string}\")    "
   ]
  },
  {
   "cell_type": "markdown",
   "id": "18993349-4b44-4de0-aacb-a68dd37bdde7",
   "metadata": {},
   "source": [
    "## 4. Develop a program that finds the factorial of a given number using a `for` loop."
   ]
  },
  {
   "cell_type": "code",
   "execution_count": 32,
   "id": "9f26b037-487a-4bee-a40f-e9fa601c714b",
   "metadata": {},
   "outputs": [],
   "source": [
    "import math"
   ]
  },
  {
   "cell_type": "code",
   "execution_count": 34,
   "id": "23cf05be-2324-4060-a443-91a8389eaace",
   "metadata": {},
   "outputs": [
    {
     "name": "stdout",
     "output_type": "stream",
     "text": [
      "Factorial of 5 is 120\n",
      "Factorial of 6 is 720\n",
      "Factorial of 7 is 5040\n",
      "Factorial of 8 is 40320\n",
      "Factorial of 9 is 362880\n",
      "Factorial of 10 is 3628800\n",
      "Factorial of 11 is 39916800\n"
     ]
    }
   ],
   "source": [
    "for i in range(5,12):\n",
    "    print(f\"Factorial of {i} is {math.factorial(i)}\")"
   ]
  },
  {
   "cell_type": "markdown",
   "id": "210df755-b7c5-4398-b008-eaea983faaac",
   "metadata": {},
   "source": [
    "## 5. Create a program to print the multiplication table of a given number using a `for` loop."
   ]
  },
  {
   "cell_type": "code",
   "execution_count": 36,
   "id": "85c71536-c848-4e02-a4b1-0a37538890a4",
   "metadata": {},
   "outputs": [
    {
     "name": "stdin",
     "output_type": "stream",
     "text": [
      "Enter a number to get multiplication table:  25\n"
     ]
    },
    {
     "name": "stdout",
     "output_type": "stream",
     "text": [
      "25 * 1 = 25 \n",
      "25 * 2 = 50 \n",
      "25 * 3 = 75 \n",
      "25 * 4 = 100 \n",
      "25 * 5 = 125 \n",
      "25 * 6 = 150 \n",
      "25 * 7 = 175 \n",
      "25 * 8 = 200 \n",
      "25 * 9 = 225 \n",
      "25 * 10 = 250 \n"
     ]
    }
   ],
   "source": [
    "num=int(input(\"Enter a number to get multiplication table: \"))\n",
    "for i in range(1,11):\n",
    "    print(\"%d * %d = %d \"% (num,i,num*i))\n",
    "    "
   ]
  },
  {
   "cell_type": "markdown",
   "id": "3192db02-3369-4899-bbe6-e60ecac74c9b",
   "metadata": {},
   "source": [
    "## 6. Write a program that counts the number of even and odd numbers in a list using a `for` loop."
   ]
  },
  {
   "cell_type": "code",
   "execution_count": 3,
   "id": "03f128ca-104c-4e65-8f38-2cc9dca23b32",
   "metadata": {},
   "outputs": [
    {
     "name": "stdout",
     "output_type": "stream",
     "text": [
      "The list contains 38 even numbers and 37 odd numbers\n"
     ]
    }
   ],
   "source": [
    "num_list=list(range(75))\n",
    "eve_num=[]\n",
    "odd_num=[]\n",
    "for i in num_list:\n",
    "    if i%2==0:\n",
    "        eve_num.append(i)\n",
    "    elif i%2!=0:\n",
    "        odd_num.append(i)\n",
    "print(f\"The list contains {len(eve_num)} even numbers and {len(odd_num)} odd numbers\")\n",
    "        "
   ]
  },
  {
   "cell_type": "markdown",
   "id": "5fa57341-d1a6-4d81-9ba2-b67e49633ae1",
   "metadata": {},
   "source": [
    "## 7. Develop a program that prints the squares of numbers from 1 to 5 using a `for` loop."
   ]
  },
  {
   "cell_type": "code",
   "execution_count": 6,
   "id": "2602dda1-3549-4648-9f79-1e001f60215b",
   "metadata": {},
   "outputs": [
    {
     "name": "stdout",
     "output_type": "stream",
     "text": [
      "the squares of numbers from 1 to 5  is [1, 4, 9, 16, 25]\n"
     ]
    }
   ],
   "source": [
    "sq_num=[]\n",
    "for i in range(1,6):\n",
    "    i=i*i\n",
    "    sq_num.append(i)\n",
    "print(f\"the squares of numbers from 1 to 5  is {sq_num}\")"
   ]
  },
  {
   "cell_type": "markdown",
   "id": "cdfd432d-0a67-4465-9bca-027f4510e190",
   "metadata": {},
   "source": [
    "## 8. Create a program to find the length of a string without using the `len()` function."
   ]
  },
  {
   "cell_type": "code",
   "execution_count": 22,
   "id": "c6b17d87-92d2-4cb9-b0d7-5bd816c4e7a4",
   "metadata": {},
   "outputs": [
    {
     "name": "stdout",
     "output_type": "stream",
     "text": [
      "The len of the string is 68\n"
     ]
    }
   ],
   "source": [
    "string=list(\"Create a program to find the length of a string without using the `len()` function\")\n",
    "y=0\n",
    "for i in string:\n",
    "    if i!=\" \":\n",
    "        y+=1\n",
    "print(f\"The len of the string is %d\"%(y))\n",
    "        "
   ]
  },
  {
   "cell_type": "markdown",
   "id": "37a9b5b9-3626-459c-82a2-1bed84ef5bf3",
   "metadata": {},
   "source": [
    "## 9. Write a program that calculates the average of a list of numbers using a `for` loop."
   ]
  },
  {
   "cell_type": "code",
   "execution_count": 34,
   "id": "6f9cbad0-5df7-4b4d-ac6a-b769414d2f83",
   "metadata": {},
   "outputs": [
    {
     "name": "stdout",
     "output_type": "stream",
     "text": [
      "The Avg value for list of numbers is 4.5\n"
     ]
    }
   ],
   "source": [
    "avg_num=list(range(10))\n",
    "last_num=0\n",
    "for i in avg_num:\n",
    "    mean=avg_num[i]+last_num \n",
    "    last_num=mean\n",
    "print(f\"The Avg value for list of numbers is {mean/len(avg_num)}\")"
   ]
  },
  {
   "cell_type": "markdown",
   "id": "f742a2a5-ce05-4e4a-a797-87a4c362527e",
   "metadata": {},
   "source": [
    "## 10. Develop a program that prints the first `n` Fibonacci numbers using a `for` loop."
   ]
  },
  {
   "cell_type": "code",
   "execution_count": 2,
   "id": "dc57a881-5a37-4949-b8a3-66fc5333c613",
   "metadata": {},
   "outputs": [
    {
     "name": "stdout",
     "output_type": "stream",
     "text": [
      "0\n",
      "1\n",
      "3\n",
      "6\n",
      "10\n",
      "15\n",
      "21\n",
      "28\n",
      "36\n",
      "45\n"
     ]
    }
   ],
   "source": [
    "last_num=0\n",
    "for i in range(10):\n",
    "    r=range(10)[i]+last_num\n",
    "    last_num=r\n",
    "    print(r)\n",
    "    "
   ]
  },
  {
   "cell_type": "markdown",
   "id": "c13d04c0-9a83-46e2-9ecc-953c296b3748",
   "metadata": {},
   "source": [
    "# Intermediate Level:"
   ]
  },
  {
   "cell_type": "markdown",
   "id": "df8f6e39-a9cb-4e39-9de8-07bd05640333",
   "metadata": {},
   "source": [
    "## 11. Write a program to check if a given list contains any duplicates using a `for` loop."
   ]
  },
  {
   "cell_type": "code",
   "execution_count": 14,
   "id": "f339a89d-7e2e-4fe1-8197-fe9a1f527a96",
   "metadata": {},
   "outputs": [
    {
     "name": "stdout",
     "output_type": "stream",
     "text": [
      "The list contains Duplicates\n"
     ]
    }
   ],
   "source": [
    "l1=[\"black\",\"orange\",\"blue\",\"green\",\"rose\",'yellow',\"blue\"]\n",
    "for color in l1:\n",
    "    if l1.count(color) >1:#count fn is used to find the duplicates in the list \n",
    "        print(\"The list contains Duplicates\")\n",
    "        break \n",
    "    elif l1.index(color)==(len(l1)-1): # If The list doesnot have any duplicates the below statement is printed\n",
    "        print(\"The List does not contains Duplicates\")"
   ]
  },
  {
   "cell_type": "markdown",
   "id": "a0c6dede-34cd-449f-b30c-77ee32e0cbb8",
   "metadata": {},
   "source": [
    "## 12. Create a program that prints the prime numbers in a given range using a `for` loop."
   ]
  },
  {
   "cell_type": "code",
   "execution_count": 17,
   "id": "cf8fe0de-95fe-46e0-b162-207ed8a4d26c",
   "metadata": {},
   "outputs": [
    {
     "name": "stdout",
     "output_type": "stream",
     "text": [
      "1\n",
      "2\n",
      "3\n",
      "5\n",
      "7\n",
      "11\n",
      "13\n",
      "17\n",
      "19\n",
      "23\n",
      "29\n",
      "31\n",
      "37\n",
      "41\n",
      "43\n",
      "47\n"
     ]
    }
   ],
   "source": [
    "prime_numbers=[2,3,5,7]\n",
    "for i in range(50):\n",
    "    if i not in prime_numbers:\n",
    "        if i%2!=0 and i%3!=0 and i%5!=0 and i%7!=0:\n",
    "            print(i)\n",
    "    else:\n",
    "        print(i)\n",
    "    "
   ]
  },
  {
   "cell_type": "markdown",
   "id": "38eae644-7b02-4490-ae53-74fe1b90d8b5",
   "metadata": {},
   "source": [
    "## 13. Develop a program that counts the number of vowels in a string using a `for` loop."
   ]
  },
  {
   "cell_type": "code",
   "execution_count": 24,
   "id": "fc24fcf8-a150-428b-afac-4c93a011061e",
   "metadata": {},
   "outputs": [
    {
     "name": "stdout",
     "output_type": "stream",
     "text": [
      "5 number of vowels present in the string\n"
     ]
    }
   ],
   "source": [
    "string=set(\"Develop a program that counts the number of vowels in a string using a `for` loop\")\n",
    "vowels=['a',\"e\",\"i\",\"o\",\"u\"]\n",
    "y=0\n",
    "for i in string:\n",
    "    if i in vowels:\n",
    "        y+=1\n",
    "print(\"%d number of vowels present in the string\"%(y))"
   ]
  },
  {
   "cell_type": "markdown",
   "id": "95ca912e-acaf-4d09-ac7a-8782ca284848",
   "metadata": {},
   "source": [
    "## 14. Write a program to find the maximum element in a 2D list using a nested `for` loop."
   ]
  },
  {
   "cell_type": "code",
   "execution_count": 33,
   "id": "8442e813-4e60-49a9-b56b-38468be156cb",
   "metadata": {},
   "outputs": [
    {
     "name": "stdout",
     "output_type": "stream",
     "text": [
      "The maximum number in the list is 101\n"
     ]
    }
   ],
   "source": [
    "D2=[2,5,8,9,[78,55],[99,101]]\n",
    "max_num=[]\n",
    "for i in D2:\n",
    "    if type(i)==list:\n",
    "        for j in i:\n",
    "            max_num.append(j)\n",
    "    else:\n",
    "        max_num.append(i)\n",
    "        \n",
    "print(f\"The maximum number in the list is {max(max_num)}\")"
   ]
  },
  {
   "cell_type": "markdown",
   "id": "a2a5becc-afe2-4fa8-945f-5137621e7a36",
   "metadata": {},
   "source": [
    "## 15. Create a program that removes all occurrences of a specific element from a list using a `for` loop."
   ]
  },
  {
   "cell_type": "code",
   "execution_count": 48,
   "id": "ea993d28-ca83-4849-9613-a37da4aaba57",
   "metadata": {},
   "outputs": [
    {
     "name": "stdout",
     "output_type": "stream",
     "text": [
      "Create program that removes all occurrences of specific element from list using `for` loop\n"
     ]
    }
   ],
   "source": [
    "strr=(\"Create a program that removes all occurrences of a specific element from a list using a `for` loop\").split()\n",
    "rem_str=[]\n",
    "for i in strr:\n",
    "    if i==\"a\":\n",
    "        strr.remove(i)\n",
    "\n",
    "print(\" \".join(strr)) ## \"a\" is removed from the above string"
   ]
  },
  {
   "cell_type": "markdown",
   "id": "e135f3b6-2ad0-425d-9adb-5c2f584bd5f2",
   "metadata": {},
   "source": [
    "## 16. Develop a program that generates a multiplication table for numbers from 1 to 5 using a nested `for` loop"
   ]
  },
  {
   "cell_type": "code",
   "execution_count": 2,
   "id": "e7669971-9e47-497e-a4fb-6a445f91367f",
   "metadata": {},
   "outputs": [
    {
     "name": "stdin",
     "output_type": "stream",
     "text": [
      "Enter a num:  5\n"
     ]
    },
    {
     "name": "stdout",
     "output_type": "stream",
     "text": [
      "1*1=1\n",
      "1*2=2\n",
      "1*3=3\n",
      "1*4=4\n",
      "1*5=5\n",
      "2*1=2\n",
      "2*2=4\n",
      "2*3=6\n",
      "2*4=8\n",
      "2*5=10\n",
      "3*1=3\n",
      "3*2=6\n",
      "3*3=9\n",
      "3*4=12\n",
      "3*5=15\n",
      "4*1=4\n",
      "4*2=8\n",
      "4*3=12\n",
      "4*4=16\n",
      "4*5=20\n",
      "5*1=5\n",
      "5*2=10\n",
      "5*3=15\n",
      "5*4=20\n",
      "5*5=25\n"
     ]
    }
   ],
   "source": [
    "num=int(input(\"Enter a num: \"))\n",
    "for i in range(1,num+1):\n",
    "    for j in range(1,num+1):\n",
    "        print(f\"{i}*{j}={i*j}\")"
   ]
  },
  {
   "cell_type": "markdown",
   "id": "e6f51723-47d2-4ec7-bdd6-740f2f600f58",
   "metadata": {},
   "source": [
    "## 17. Write a program that converts a list of Fahrenheit temperatures to Celsius using a `for` loop"
   ]
  },
  {
   "cell_type": "code",
   "execution_count": 4,
   "id": "e5b4bf78-3156-4b77-a888-762e024c24d2",
   "metadata": {},
   "outputs": [
    {
     "name": "stdout",
     "output_type": "stream",
     "text": [
      "99 Fahrenheits is equal to 210 Celcius\n",
      "182 Fahrenheits is equal to 359 Celcius\n",
      "35 Fahrenheits is equal to 95 Celcius\n",
      "88 Fahrenheits is equal to 190 Celcius\n",
      "101 Fahrenheits is equal to 213 Celcius\n",
      "65 Fahrenheits is equal to 149 Celcius\n"
     ]
    }
   ],
   "source": [
    "farh_item=[99,182,35,88,101,65]\n",
    "for values in farh_item:\n",
    "    f=values * (9/5) + 32\n",
    "    print(\"%d Fahrenheits is equal to %d Celcius\"%(values,f))"
   ]
  },
  {
   "cell_type": "markdown",
   "id": "9831323a-56c4-4d8f-b0f2-9844dcfe417c",
   "metadata": {},
   "source": [
    "## 18. Create a program to print the common elements from two lists using a `for` loop"
   ]
  },
  {
   "cell_type": "code",
   "execution_count": 13,
   "id": "1d634741-a3dc-44dc-a62e-dba2172ae175",
   "metadata": {},
   "outputs": [
    {
     "name": "stdout",
     "output_type": "stream",
     "text": [
      "The common elements present on the list are {'from', 'a', 'for', 'Create', 'using', 'loop', 'program'}\n"
     ]
    }
   ],
   "source": [
    "string_l1=(\"Create a program to print the common elements from two lists using a for loop\")\n",
    "string_l2=(\"Create a program that removes all occurrences of a specific element from a list using a for loop\")\n",
    "com=[] # used a list to append common values\n",
    "for i in string_l1.split(): # split fn to convert in single elements \n",
    "    if i in string_l2.split():\n",
    "        com.append(i) \n",
    "print(f\"The common elements present on the list are {set(com)}\" ) #set comprehension to eleiminate duplicates "
   ]
  },
  {
   "cell_type": "markdown",
   "id": "aac1eaa0-7f82-4be3-8023-d666e1a12c62",
   "metadata": {},
   "source": [
    "## 19. Develop a program that prints the pattern of right-angled triangles using a `for` loop. Use ‘*’ to draw the pattern"
   ]
  },
  {
   "cell_type": "code",
   "execution_count": 17,
   "id": "d7cd8a15-765c-4ea3-a2fc-866cb8035c12",
   "metadata": {},
   "outputs": [
    {
     "name": "stdout",
     "output_type": "stream",
     "text": [
      "\n",
      "*\n",
      "**\n",
      "***\n",
      "****\n",
      "*****\n",
      "******\n",
      "*******\n",
      "********\n",
      "*********\n",
      "**********\n",
      "***********\n",
      "************\n",
      "*************\n",
      "**************\n",
      "***************\n",
      "****************\n",
      "*****************\n",
      "******************\n",
      "*******************\n"
     ]
    }
   ],
   "source": [
    "for i in range(20):\n",
    "    print(\"*\"*i)"
   ]
  },
  {
   "cell_type": "markdown",
   "id": "2a5945ea-608c-4a75-a42f-9247097e4dde",
   "metadata": {},
   "source": [
    "## 20. Write a program to find the greatest common divisor (GCD) of two numbers using a `for` loop."
   ]
  },
  {
   "cell_type": "code",
   "execution_count": 8,
   "id": "ce7fe938-6c65-401a-8d62-f08c214ec3b7",
   "metadata": {},
   "outputs": [
    {
     "name": "stdin",
     "output_type": "stream",
     "text": [
      "Enter a number to find greatest common divisor:  29\n"
     ]
    },
    {
     "name": "stdout",
     "output_type": "stream",
     "text": [
      "The GCD for 29 is 29\n"
     ]
    }
   ],
   "source": [
    "import math\n",
    "num=int(input(\"Enter a number to find greatest common divisor: \"))\n",
    "y=[]\n",
    "for i in range(1,50):\n",
    "    gcd= math.gcd(num,i)\n",
    "    y.append(gcd)\n",
    "print(f\"The GCD for {num} is {max(y)}\")"
   ]
  },
  {
   "cell_type": "markdown",
   "id": "18845e5c-67c0-4650-a422-e5e9d7b295a4",
   "metadata": {},
   "source": [
    "# Advanced Level"
   ]
  },
  {
   "cell_type": "markdown",
   "id": "4f04e24a-7c01-4315-b276-9c6a29b26688",
   "metadata": {},
   "source": [
    "## 21. Create a program that calculates the sum of the digits of numbers in a list using a list comprehension."
   ]
  },
  {
   "cell_type": "code",
   "execution_count": 26,
   "id": "6f85278e-6a15-41be-8495-3af57e51b73e",
   "metadata": {},
   "outputs": [
    {
     "name": "stdin",
     "output_type": "stream",
     "text": [
      "Enter the digits of numbers:   72164996788445257\n"
     ]
    },
    {
     "name": "stdout",
     "output_type": "stream",
     "text": [
      "94\n"
     ]
    }
   ],
   "source": [
    "digit=(input(\"Enter the digits of numbers:  \"))\n",
    "y=0 #initialising variable to store the previous iterations\n",
    "y=[y:=int(i)+y for i in digit]# type casting i into integer\n",
    "print(max(y))\n"
   ]
  },
  {
   "cell_type": "markdown",
   "id": "9a7fe1dd-7479-4be4-8eb3-b950f45fd5f5",
   "metadata": {},
   "source": [
    "## 22. Write a program to find the prime factors of a given number using a `for` loop and list comprehension."
   ]
  },
  {
   "cell_type": "code",
   "execution_count": 14,
   "id": "edc2fe48-2bae-46b6-a883-d8476863b07b",
   "metadata": {},
   "outputs": [
    {
     "name": "stdin",
     "output_type": "stream",
     "text": [
      "Enter the number  96\n"
     ]
    },
    {
     "name": "stdout",
     "output_type": "stream",
     "text": [
      "Prime factors of 96 are: [2, 3]\n"
     ]
    }
   ],
   "source": [
    "n = int(input(\"Enter the number \"))\n",
    "factors = [i for i in range(2, n + 1) if n % i == 0]\n",
    "prime_factors = []\n",
    "#print(factors)\n",
    "for factor in factors:\n",
    "    is_prime = True\n",
    "    for i in range(2, int(factor**0.5) + 1):\n",
    "        if factor % i == 0:\n",
    "            is_prime = False\n",
    "            break\n",
    "    if is_prime:\n",
    "        prime_factors.append(factor)\n",
    "\n",
    "print(\"Prime factors of\", n, \"are:\", prime_factors)"
   ]
  },
  {
   "cell_type": "markdown",
   "id": "5799cbd7-af19-4f42-ad8a-91d7a449afd0",
   "metadata": {},
   "source": [
    "## 23. Develop a program that extracts unique elements from a list and stores them in a new list using a list comprehension."
   ]
  },
  {
   "cell_type": "code",
   "execution_count": 18,
   "id": "c840e2d6-b7b3-4fee-8397-9972dc92c1c3",
   "metadata": {},
   "outputs": [
    {
     "name": "stdout",
     "output_type": "stream",
     "text": [
      "[85, 25, 33, 66, 789, 102]\n"
     ]
    }
   ],
   "source": [
    "l2=[52,2,85,52,25,33,66,789,102,2]\n",
    "x=[i for i in l2 if l2.count(i)==1]\n",
    "print(x)"
   ]
  },
  {
   "cell_type": "markdown",
   "id": "8752ff5c-56e2-4b07-82fc-6c8b0f88165e",
   "metadata": {},
   "source": [
    "## 24. Create a program that generates a list of all palindromic numbers up to a specified limit using a list  comprehension."
   ]
  },
  {
   "cell_type": "code",
   "execution_count": 25,
   "id": "7ed2506f-3117-44f8-8ae3-6fc845e29094",
   "metadata": {},
   "outputs": [
    {
     "name": "stdin",
     "output_type": "stream",
     "text": [
      "Enter a number:  1000\n"
     ]
    },
    {
     "name": "stdout",
     "output_type": "stream",
     "text": [
      "[11, 22, 33, 44, 55, 66, 77, 88, 99, 101, 111, 121, 131, 141, 151, 161, 171, 181, 191, 202, 212, 222, 232, 242, 252, 262, 272, 282, 292, 303, 313, 323, 333, 343, 353, 363, 373, 383, 393, 404, 414, 424, 434, 444, 454, 464, 474, 484, 494, 505, 515, 525, 535, 545, 555, 565, 575, 585, 595, 606, 616, 626, 636, 646, 656, 666, 676, 686, 696, 707, 717, 727, 737, 747, 757, 767, 777, 787, 797, 808, 818, 828, 838, 848, 858, 868, 878, 888, 898, 909, 919, 929, 939, 949, 959, 969, 979, 989, 999]\n"
     ]
    }
   ],
   "source": [
    "n=int(input(\"Enter a number: \"))\n",
    "palindromic_num=[i for i in  range(2,n+1) if str(i)==str(i)[::-1] and len(str(i))>=2]\n",
    "print(palindromic_num)"
   ]
  },
  {
   "cell_type": "markdown",
   "id": "4edd2924-a1b4-4873-960d-bdb6372462cf",
   "metadata": {},
   "source": [
    "## 25. Write a program to flatten a nested list using list comprehension"
   ]
  },
  {
   "cell_type": "code",
   "execution_count": 27,
   "id": "66a6995b-6091-4cf9-a46f-11793aeca36a",
   "metadata": {},
   "outputs": [
    {
     "name": "stdout",
     "output_type": "stream",
     "text": [
      "[2, 5, 7, 11, 99, 25, 365]\n"
     ]
    }
   ],
   "source": [
    "list1=[[2,5],[7,11],[99,25,365]]\n",
    "flatened_list=[j for i in list1 for j in i]\n",
    "print(flatened_list)"
   ]
  },
  {
   "cell_type": "markdown",
   "id": "302ce49c-9918-484a-874a-afe05265fb1d",
   "metadata": {},
   "source": [
    "## 26. Develop a program that computes the sum of even and odd numbers in a list separately using list comprehension."
   ]
  },
  {
   "cell_type": "code",
   "execution_count": 4,
   "id": "86229619-d5c3-4d38-ac56-a47d68f0d323",
   "metadata": {},
   "outputs": [
    {
     "name": "stdout",
     "output_type": "stream",
     "text": [
      "The sum of odd_num in numlist is 10000\n",
      "The sum of eve_num in numlist is 9900\n"
     ]
    }
   ],
   "source": [
    "num_list=list(range(1,200))\n",
    "sum_evenum=[i for i in num_list if i%2==0]\n",
    "sum_oddnum=[i for i in num_list if i%2!=0]\n",
    "print(f'The sum of odd_num in numlist is {sum(sum_oddnum)}\\nThe sum of eve_num in numlist is {sum(sum_evenum)}')"
   ]
  },
  {
   "cell_type": "markdown",
   "id": "142ff7de-5f07-47bf-9e5e-6f1e5896a7e9",
   "metadata": {},
   "source": [
    "## 27. Create a program that generates a list of squares of odd numbers between 1 and 10 using list comprehension."
   ]
  },
  {
   "cell_type": "code",
   "execution_count": 5,
   "id": "cc54297b-16c0-4311-95ef-49fc2f607c7a",
   "metadata": {},
   "outputs": [
    {
     "name": "stdout",
     "output_type": "stream",
     "text": [
      "[1, 9, 25, 49, 81]\n"
     ]
    }
   ],
   "source": [
    "list_of_squares=[i**2 for i in range(1,10) if i%2!=0]\n",
    "print(list_of_squares)"
   ]
  },
  {
   "cell_type": "markdown",
   "id": "b75b3f8b-a2d9-477a-831f-bce50f05f1d7",
   "metadata": {},
   "source": [
    "## 28. Write a program that combines two lists into a dictionary using list comprehension."
   ]
  },
  {
   "cell_type": "code",
   "execution_count": 15,
   "id": "8cd667da-96aa-4614-9854-a9e590e11c18",
   "metadata": {},
   "outputs": [
    {
     "name": "stdout",
     "output_type": "stream",
     "text": [
      "{'pwskills': 1, 'ineuron': 2, 'skilllync': 3, 'upgrad': 4}\n"
     ]
    }
   ],
   "source": [
    "keys=[\"pwskills\",\"ineuron\",\"skilllync\",\"upgrad\"]\n",
    "values=[1,2,3,4]\n",
    "dictionary={i:j for i,j in zip(keys,values)} # dictinary comprehension\n",
    "print(dictionary)"
   ]
  },
  {
   "cell_type": "markdown",
   "id": "1fbed01f-0302-48ed-be10-2008e3dce797",
   "metadata": {},
   "source": [
    "## 29. Develop a program that extracts the vowels from a string and stores them in a list using list comprehension."
   ]
  },
  {
   "cell_type": "code",
   "execution_count": 18,
   "id": "892b86d3-6b8b-4325-b377-0a38c32ba112",
   "metadata": {},
   "outputs": [
    {
     "name": "stdout",
     "output_type": "stream",
     "text": [
      "The vowels in the list are ['i', 'u', 'e', 'o', 'a']\n"
     ]
    }
   ],
   "source": [
    "vowels=['a','e','i','o','u']\n",
    "string=\"Develop a program that extracts the vowels from a string and stores them in a list using list comprehension\"\n",
    "vowels_in_list=[i for i in string if i in vowels]\n",
    "print(f\"The vowels in the list are {list(set(vowels_in_list))}\")"
   ]
  },
  {
   "cell_type": "markdown",
   "id": "20d0cd03-3d08-41bb-bc19-094f0587ac5d",
   "metadata": {},
   "source": [
    "## 30. Create a program that removes all non-numeric characters from a list of strings using list comprehension."
   ]
  },
  {
   "cell_type": "code",
   "execution_count": 29,
   "id": "90fa6728-7cf3-4edc-b85d-3de10347b2a9",
   "metadata": {},
   "outputs": [
    {
     "name": "stdout",
     "output_type": "stream",
     "text": [
      "The numeric removed string is: There are areas that are explored by humans with in the last years\n"
     ]
    }
   ],
   "source": [
    "string=\"There are 55 areas that are explored by humans with in the last 100 years \"\n",
    "removed_string=[i for i in  string.split() if i.isalpha()==True]\n",
    "print(f\"The numeric removed string is: {' '.join(removed_string)}\")"
   ]
  },
  {
   "cell_type": "markdown",
   "id": "1507c5e7-704c-46fa-b181-0326e92d3f31",
   "metadata": {},
   "source": [
    "# Advanced"
   ]
  },
  {
   "cell_type": "markdown",
   "id": "57e8eb3d-b7be-4aa9-bb2e-3e0be177909b",
   "metadata": {},
   "source": [
    "## 31. Write a program to generate a list of prime numbers using the Sieve of Eratosthenes algorithm and list comprehension."
   ]
  },
  {
   "cell_type": "code",
   "execution_count": 23,
   "id": "4b20183c-7bc4-43b5-a285-b3920faf7c40",
   "metadata": {},
   "outputs": [
    {
     "name": "stdin",
     "output_type": "stream",
     "text": [
      "Enter a number:  25\n"
     ]
    },
    {
     "name": "stdout",
     "output_type": "stream",
     "text": [
      "[2, 3, 5, 7, 11, 13, 17, 19, 23]\n"
     ]
    }
   ],
   "source": [
    "num=int(input(\"Enter a number: \"))\n",
    "prime=[True for _ in range(num+1)]\n",
    "prime[0],prime[1]= False,False\n",
    "for i in range(2,int(num**0.5)+1):\n",
    "    for j in range(2*i,num+1,i):\n",
    "        prime[j]=False\n",
    "prime=[p for p in range(num+1) if prime[p]]\n",
    "print(prime)"
   ]
  },
  {
   "cell_type": "markdown",
   "id": "43387f6b-d1f2-4731-978b-ddc0ab096001",
   "metadata": {},
   "source": [
    "## 32. Create a program that generates a list of all Pythagorean triplets up to a specified limit using list comprehension."
   ]
  },
  {
   "cell_type": "code",
   "execution_count": 31,
   "id": "d7ae7616-c633-4a4a-8719-5f943cd91d53",
   "metadata": {},
   "outputs": [
    {
     "name": "stdin",
     "output_type": "stream",
     "text": [
      "Enter the Limit:  50\n"
     ]
    },
    {
     "name": "stdout",
     "output_type": "stream",
     "text": [
      "3 4 5\n",
      "8 6 10\n",
      "5 12 13\n",
      "15 8 17\n",
      "12 16 20\n",
      "7 24 25\n",
      "24 10 26\n",
      "21 20 29\n",
      "16 30 34\n",
      "9 40 41\n"
     ]
    }
   ],
   "source": [
    "limit= int(input(\"Enter the Limit: \"))\n",
    "m,c=2,0\n",
    "while c<limit:\n",
    "    for n in range(1,m+1):\n",
    "        a= m*m-n*n\n",
    "        b=2*m*n\n",
    "        c=m*m+n*n\n",
    "        if (c>limit):\n",
    "            break\n",
    "        if (a==0 or b==0 or c== 0):\n",
    "            break\n",
    "        print(a , b, c)\n",
    "    m=m+1\n"
   ]
  },
  {
   "cell_type": "markdown",
   "id": "90e3cd36-5782-4a2f-afba-47b16c81d42c",
   "metadata": {},
   "source": [
    "## 33. Develop a program that generates a list of all possible combinations of two lists using list comprehension"
   ]
  },
  {
   "cell_type": "code",
   "execution_count": 2,
   "id": "d5653895-ce85-4e28-a3f1-a383e7761c6f",
   "metadata": {},
   "outputs": [],
   "source": [
    "import itertools # inporting itertools"
   ]
  },
  {
   "cell_type": "code",
   "execution_count": 3,
   "id": "8f80e1e2-4eeb-4be1-abb0-524caa4fc7bd",
   "metadata": {},
   "outputs": [],
   "source": [
    "from itertools import permutations # importing permuattions fn from iutertools"
   ]
  },
  {
   "cell_type": "code",
   "execution_count": 26,
   "id": "d5a80cf2-09e3-4468-8352-bf045c8070ae",
   "metadata": {},
   "outputs": [
    {
     "name": "stdout",
     "output_type": "stream",
     "text": [
      "<itertools.permutations object at 0x7f928ff22160>\n",
      "[[('a', 1), ('p', 2), ('c', 3), ('d', 4)], [('a', 1), ('p', 2), ('d', 3), ('c', 4)], [('a', 1), ('c', 2), ('p', 3), ('d', 4)], [('a', 1), ('c', 2), ('d', 3), ('p', 4)], [('a', 1), ('d', 2), ('p', 3), ('c', 4)], [('a', 1), ('d', 2), ('c', 3), ('p', 4)], [('p', 1), ('a', 2), ('c', 3), ('d', 4)], [('p', 1), ('a', 2), ('d', 3), ('c', 4)], [('p', 1), ('c', 2), ('a', 3), ('d', 4)], [('p', 1), ('c', 2), ('d', 3), ('a', 4)], [('p', 1), ('d', 2), ('a', 3), ('c', 4)], [('p', 1), ('d', 2), ('c', 3), ('a', 4)], [('c', 1), ('a', 2), ('p', 3), ('d', 4)], [('c', 1), ('a', 2), ('d', 3), ('p', 4)], [('c', 1), ('p', 2), ('a', 3), ('d', 4)], [('c', 1), ('p', 2), ('d', 3), ('a', 4)], [('c', 1), ('d', 2), ('a', 3), ('p', 4)], [('c', 1), ('d', 2), ('p', 3), ('a', 4)], [('d', 1), ('a', 2), ('p', 3), ('c', 4)], [('d', 1), ('a', 2), ('c', 3), ('p', 4)], [('d', 1), ('p', 2), ('a', 3), ('c', 4)], [('d', 1), ('p', 2), ('c', 3), ('a', 4)], [('d', 1), ('c', 2), ('a', 3), ('p', 4)], [('d', 1), ('c', 2), ('p', 3), ('a', 4)]]\n"
     ]
    }
   ],
   "source": [
    "list1=[\"a\",\"p\",'c','d']\n",
    "list2=[1,2,3,4]\n",
    "combinations=[] # list to append zipped permuattions\n",
    "permut= itertools.permutations(list1,len(list2))\n",
    "combinations = [list(zip(i, list2)) for i in permut]\n",
    "print(combinations)"
   ]
  },
  {
   "cell_type": "markdown",
   "id": "d87637c2-0e51-44f0-a73c-4389ad58d2cc",
   "metadata": {},
   "source": [
    "## 34. Write a program that calculates the mean, median, and mode of a list of numbers using list comprehension."
   ]
  },
  {
   "cell_type": "code",
   "execution_count": 31,
   "id": "e4677873-8cf7-4443-b9d5-9fa13c4e48a5",
   "metadata": {},
   "outputs": [
    {
     "name": "stdout",
     "output_type": "stream",
     "text": [
      "Mean : 5.0 \n",
      " Median : 5 \n",
      " Mode: [1, 2, 3, 4, 5, 6, 7, 8, 9]\n"
     ]
    }
   ],
   "source": [
    "numbers=[1,2,3,4,5,6,7,8,9]\n",
    "mean= sum(numbers)/len(numbers)\n",
    "median= (numbers[len(numbers)-1//2] + numbers[len(numbers)//2])/2 if len(numbers)%2==0 else numbers[len(numbers)//2]\n",
    "counts={num:numbers.count(num) for num in numbers}\n",
    "mode=[num for num, count in counts.items() if count== max(counts.values()) ]\n",
    "print(f\"Mean : {mean} \\n Median : {median} \\n Mode: {mode}\")"
   ]
  },
  {
   "cell_type": "markdown",
   "id": "438cedcc-9371-4f26-852b-98d62bfe5646",
   "metadata": {},
   "source": [
    "## 35. Create a program that generates Pascal's triangle up to a specified number of rows using list comprehension."
   ]
  },
  {
   "cell_type": "code",
   "execution_count": 1,
   "id": "1c76315f-dff4-42ef-806e-96b3357ddeff",
   "metadata": {},
   "outputs": [
    {
     "name": "stdin",
     "output_type": "stream",
     "text": [
      "Enter the number of rows:  5\n"
     ]
    }
   ],
   "source": [
    "n=int(input(\"Enter the number of rows: \"))"
   ]
  },
  {
   "cell_type": "code",
   "execution_count": 10,
   "id": "b6faddee-0c43-41d2-9c0e-af35db4dc32d",
   "metadata": {},
   "outputs": [
    {
     "name": "stdout",
     "output_type": "stream",
     "text": [
      "[[1], [1, 1], [1, 2, 1], [1, 3, 3, 1], [1, 4, 6, 4, 1]]\n"
     ]
    }
   ],
   "source": [
    "res=[[1]]\n",
    "for i in range(n-1):\n",
    "    temp=[0]+res[-1]+[0]\n",
    "    row=[]\n",
    "    for j in range(len(res)+1):\n",
    "        row.append(temp[j]+temp[j+1])\n",
    "    res.append(row)\n",
    "print(res)"
   ]
  },
  {
   "cell_type": "markdown",
   "id": "63a3950b-5344-42ea-9f1f-15aafe6362f3",
   "metadata": {},
   "source": [
    "## 36. Develop a program that calculates the sum of the digits of a factorial of numbers from 1 to 5 using list comprehension."
   ]
  },
  {
   "cell_type": "code",
   "execution_count": 30,
   "id": "eaaa926b-bc58-42a6-9473-eb4ba9fb0f29",
   "metadata": {},
   "outputs": [
    {
     "name": "stdout",
     "output_type": "stream",
     "text": [
      "3\n"
     ]
    }
   ],
   "source": [
    "fact=1\n",
    "final_fact=[fact:=fact*i for i in range(1,6)]\n",
    "final_fact[-1]\n",
    "y=0\n",
    "sum_dig=[y:=y+int(j) for j in str(final_fact[-1])]\n",
    "print(sum_dig[-1])"
   ]
  },
  {
   "cell_type": "markdown",
   "id": "31ce1795-abbd-4131-b357-2058f1bbb1f3",
   "metadata": {},
   "source": [
    "## 37. Write a program that finds the longest word in a sentence using list comprehension"
   ]
  },
  {
   "cell_type": "code",
   "execution_count": 13,
   "id": "1b8efe1a-f1ea-444a-a76d-255b76c909d8",
   "metadata": {},
   "outputs": [
    {
     "name": "stdout",
     "output_type": "stream",
     "text": [
      "the longest word in the sentence is comprehension\n"
     ]
    }
   ],
   "source": [
    "string=\"Write a program that finds the longest word in a sentence using list comprehension\"\n",
    "str_=string.split()\n",
    "longest_word= max(str_,key=len)\n",
    "print(f\"the longest word in the sentence is {longest_word}\")\n"
   ]
  },
  {
   "cell_type": "markdown",
   "id": "8e79949a-eca6-419e-a45d-07e242b92d0a",
   "metadata": {},
   "source": [
    "## 38. Create a program that filters a list of strings to include only those with more than three vowels using list comprehension"
   ]
  },
  {
   "cell_type": "code",
   "execution_count": 29,
   "id": "18df9204-f57b-4495-b071-a0fcd70b75c9",
   "metadata": {},
   "outputs": [
    {
     "name": "stdout",
     "output_type": "stream",
     "text": [
      "['include', 'comprehension']\n"
     ]
    }
   ],
   "source": [
    "striing=\"Create a program that filters a list of strings to include only those with more than three vowels using list comprehension\".split()\n",
    "vowels=[\"a\",'e','i',\"o\",\"u\"]\n",
    "words=[]\n",
    "for i in striing:\n",
    "    y=0\n",
    "    for j in set(i):\n",
    "        if j in vowels:\n",
    "            y+=1\n",
    "    if y>=3:\n",
    "        words.append(i)\n",
    "        \n",
    "print(words) \n"
   ]
  },
  {
   "cell_type": "markdown",
   "id": "dee00fb8-7b19-45ac-a4b5-c8174a82fafb",
   "metadata": {},
   "source": [
    "## 39. Develop a program that calculates the sum of the digits of numbers from 1 to 1000 using list comprehension."
   ]
  },
  {
   "cell_type": "code",
   "execution_count": 22,
   "id": "567a7da7-01d4-4b35-a182-20eeee07c36d",
   "metadata": {},
   "outputs": [
    {
     "name": "stdout",
     "output_type": "stream",
     "text": [
      "The sum of digits of 1 to 1000 is: 500500\n"
     ]
    }
   ],
   "source": [
    "digits=list(range(1,1001))\n",
    "y=0\n",
    "sum_digits=[y:=i+y for i in digits ]\n",
    "print(\"The sum of digits of 1 to 1000 is:\" ,max(sum_digits))\n"
   ]
  },
  {
   "cell_type": "markdown",
   "id": "8d88a18c-4ba9-42b1-89d9-abb58a5787c5",
   "metadata": {},
   "source": [
    "## 40. Write a program that generates a list of prime palindromic numbers using list comprehension"
   ]
  },
  {
   "cell_type": "code",
   "execution_count": 28,
   "id": "48cea5d2-f1b7-4a56-b4c9-1ade995305b5",
   "metadata": {},
   "outputs": [
    {
     "name": "stdout",
     "output_type": "stream",
     "text": [
      "Prime Palindromic Numbers:\n",
      "[11, 101, 131, 151, 181, 191, 313, 353, 373, 383, 727, 757, 787, 797, 919, 929, 1021, 1031, 1051, 1061, 1091, 1151, 1171, 1181, 1201, 1231, 1291, 1301, 1321, 1361, 1381, 1451, 1471, 1481, 1511, 1531, 1571, 1601, 1621, 1721, 1741, 1801, 1811, 1831, 1861, 1871, 1901, 1931, 1951, 3023, 3083, 3163, 3203, 3253, 3313, 3323, 3343, 3373, 3413, 3433, 3463, 3533, 3583, 3593, 3613, 3623, 3643, 3673, 3733, 3793, 3803, 3823, 3833, 3853, 3863, 3923, 3943, 7027, 7057, 7127, 7177, 7187, 7207, 7237, 7247, 7297, 7307, 7417, 7457, 7477, 7487, 7507, 7517, 7537, 7547, 7577, 7607, 7687, 7717, 7727, 7757, 7817, 7867, 7877, 7907, 7927, 7937, 9029, 9049, 9059, 9109, 9199, 9209, 9239, 9319, 9349, 9419, 9439, 9479, 9539, 9619, 9629, 9649, 9679, 9689, 9719, 9739, 9749, 9769, 9829, 9839, 9859, 9929, 9949]\n"
     ]
    }
   ],
   "source": [
    "def is_prime(num):\n",
    "    if num < 2:\n",
    "        return False\n",
    "    for i in range(2, int(num**0.5) + 1):\n",
    "        if num % i == 0:\n",
    "            return False\n",
    "    return True\n",
    "\n",
    "num = list(range(1, 10000))\n",
    "palindrome_primes = [i for i in num if len(str(i)) > 1 and str(i)[0] == str(i)[-1] and is_prime(i)]\n",
    "\n",
    "print(\"Prime Palindromic Numbers:\")\n",
    "print(palindrome_primes)\n"
   ]
  },
  {
   "cell_type": "code",
   "execution_count": null,
   "id": "19f045f4-2ebe-4036-95b2-9f41d2af5fb9",
   "metadata": {},
   "outputs": [],
   "source": []
  }
 ],
 "metadata": {
  "kernelspec": {
   "display_name": "Python 3 (ipykernel)",
   "language": "python",
   "name": "python3"
  },
  "language_info": {
   "codemirror_mode": {
    "name": "ipython",
    "version": 3
   },
   "file_extension": ".py",
   "mimetype": "text/x-python",
   "name": "python",
   "nbconvert_exporter": "python",
   "pygments_lexer": "ipython3",
   "version": "3.10.8"
  }
 },
 "nbformat": 4,
 "nbformat_minor": 5
}
