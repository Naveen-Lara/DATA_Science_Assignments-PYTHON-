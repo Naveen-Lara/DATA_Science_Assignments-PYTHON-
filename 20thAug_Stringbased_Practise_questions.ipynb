{
 "cells": [
  {
   "cell_type": "markdown",
   "id": "f535aaf0-6888-43ac-817b-f76d2c87f928",
   "metadata": {},
   "source": [
    "# TOPIC: String Based Assignment Problem"
   ]
  },
  {
   "cell_type": "markdown",
   "id": "c7a8af79-ba28-431e-907b-95c0e47b7bce",
   "metadata": {},
   "source": [
    "##  1. Write a program to reverse a string."
   ]
  },
  {
   "cell_type": "code",
   "execution_count": 2,
   "id": "8edee002-2ccb-4c0e-8daf-4a904c4a0145",
   "metadata": {},
   "outputs": [
    {
     "name": "stdin",
     "output_type": "stream",
     "text": [
      "Enter a string:  Naveen Lara\n"
     ]
    }
   ],
   "source": [
    "ip=input(\"Enter a string: \")"
   ]
  },
  {
   "cell_type": "code",
   "execution_count": 8,
   "id": "10f4dbf4-c3a5-4994-b611-6cb7b3e4fa98",
   "metadata": {},
   "outputs": [
    {
     "name": "stdout",
     "output_type": "stream",
     "text": [
      "araL neevaN\n"
     ]
    }
   ],
   "source": [
    "rev_ip= ip[::-1]# slicing notation, start with index 0.ends with the default length of the string, increment with -1 \n",
    "print(rev_ip)"
   ]
  },
  {
   "cell_type": "markdown",
   "id": "dc402cbe-f6ab-4c86-b047-663a14684c9f",
   "metadata": {},
   "source": [
    "# 2. Check if a string is a palindrome."
   ]
  },
  {
   "cell_type": "code",
   "execution_count": 15,
   "id": "09fb1e0b-e9eb-4b43-b871-df486dc52b94",
   "metadata": {},
   "outputs": [
    {
     "name": "stdin",
     "output_type": "stream",
     "text": [
      "Enter a string:  malayalam\n"
     ]
    },
    {
     "name": "stdout",
     "output_type": "stream",
     "text": [
      "The string is a Palindrome\n"
     ]
    }
   ],
   "source": [
    "ip_value=input(\"Enter a string: \")\n",
    "rev_ip_val= ip_value[::-1]\n",
    "if rev_ip_val==ip_value:\n",
    "    print(\"The string is a Palindrome\")\n",
    "else:\n",
    "    print(\"The string is not a Palindrome\")"
   ]
  },
  {
   "cell_type": "markdown",
   "id": "44650b49-6748-4a83-a433-c3734cfa22fd",
   "metadata": {},
   "source": [
    "## 3. Convert a string to uppercase."
   ]
  },
  {
   "cell_type": "code",
   "execution_count": 17,
   "id": "6c147f5d-f153-45be-8339-ee36b2585e0a",
   "metadata": {},
   "outputs": [
    {
     "name": "stdin",
     "output_type": "stream",
     "text": [
      "Enter a string:  pwskills\n"
     ]
    },
    {
     "name": "stdout",
     "output_type": "stream",
     "text": [
      "PWSKILLS\n"
     ]
    }
   ],
   "source": [
    "a=input(\"Enter a string: \")\n",
    "uppercase= a.upper() # using builtin uppercasefn\n",
    "print(uppercase)"
   ]
  },
  {
   "cell_type": "markdown",
   "id": "c526a049-b991-4663-97cc-026cb31a878e",
   "metadata": {},
   "source": [
    "## 4. Convert a string to lowercase."
   ]
  },
  {
   "cell_type": "code",
   "execution_count": 18,
   "id": "f6ba5942-4948-433f-8cd9-b7032e074a8e",
   "metadata": {},
   "outputs": [
    {
     "name": "stdin",
     "output_type": "stream",
     "text": [
      "Enter a string:  PWSKILLS\n"
     ]
    },
    {
     "name": "stdout",
     "output_type": "stream",
     "text": [
      "pwskills\n"
     ]
    }
   ],
   "source": [
    "c=input(\"Enter a string: \")\n",
    "lowercase= c.lower() # using builtin uppercasefn\n",
    "print(lowercase)"
   ]
  },
  {
   "cell_type": "markdown",
   "id": "3c3def9a-7e5a-4504-94b7-5e5a04c6934a",
   "metadata": {},
   "source": [
    "## 5. Count the number of vowels in a string."
   ]
  },
  {
   "cell_type": "code",
   "execution_count": 21,
   "id": "604b2ebc-b7a5-4f82-ad0c-b67b58e443f6",
   "metadata": {},
   "outputs": [
    {
     "name": "stdin",
     "output_type": "stream",
     "text": [
      "Type a Sentence:  Education\n"
     ]
    },
    {
     "name": "stdout",
     "output_type": "stream",
     "text": [
      "The string education contains 5 Vowels\n"
     ]
    }
   ],
   "source": [
    "op=set() # creating a set ,so that op list cannot hold duplicates\n",
    "ip_str=str(input(\"Type a Sentence: \")) # input from the user\n",
    "ip_str=ip_str.lower() # using lower fn to avoid case errors\n",
    "vowels= [\"a\",\"e\",\"i\",\"o\",\"u\"]\n",
    "for i in vowels:\n",
    "    op.update(i) # using append fn to add the extracted vowels to op List\n",
    "print(f\"The string {ip_str} contains {len(op)} Vowels\")"
   ]
  },
  {
   "cell_type": "markdown",
   "id": "daea4378-5c93-4278-aae1-ea0e90652f67",
   "metadata": {},
   "source": [
    "## 6. Count the number of consonants in a string."
   ]
  },
  {
   "cell_type": "code",
   "execution_count": 34,
   "id": "6fd3d434-8a88-471d-9d61-64bb0c5b0e58",
   "metadata": {},
   "outputs": [
    {
     "name": "stdin",
     "output_type": "stream",
     "text": [
      "Type a Sentence:  the quick brown fox jumps over a lazy dog\n"
     ]
    },
    {
     "name": "stdout",
     "output_type": "stream",
     "text": [
      "The string ; the quick brown fox jumps over a lazy dog contains 22 Consonants\n"
     ]
    }
   ],
   "source": [
    "oput=set() # creating a set ,so that oput list cannot hold duplicates\n",
    "ip_string=str(input(\"Type a Sentence: \")) # input from the user\n",
    "ip_string=ip_string.lower() # using lower fn to avoid case errors\n",
    "vowels= [\"a\",\"e\",\"i\",\"o\",\"u\"]\n",
    "for i in ip_string:\n",
    "    if i not in vowels:\n",
    "        oput.update(i) # using append fn to add the extracted vowels to op List\n",
    "print(f\"The string ; {ip_string} contains {len(oput)} Consonants\")"
   ]
  },
  {
   "cell_type": "markdown",
   "id": "3c5dd449-fd42-4319-be82-88466db907e7",
   "metadata": {},
   "source": [
    "## 7. Remove all whitespaces from a string."
   ]
  },
  {
   "cell_type": "code",
   "execution_count": 33,
   "id": "c4b175d3-d87c-49c7-8c04-72e887e0e868",
   "metadata": {},
   "outputs": [
    {
     "name": "stdin",
     "output_type": "stream",
     "text": [
      "Enter a string:  p w skill s\n"
     ]
    },
    {
     "name": "stdout",
     "output_type": "stream",
     "text": [
      "pwskills\n"
     ]
    }
   ],
   "source": [
    "z=input(\"Enter a string: \")\n",
    "y=z.replace(\" \",\"\") # using replace function \n",
    "print(y)"
   ]
  },
  {
   "cell_type": "markdown",
   "id": "0491cade-9f3e-48e1-a1a9-50e0301f570b",
   "metadata": {},
   "source": [
    "# 8. Find the length of a string without using the `len()` function. "
   ]
  },
  {
   "cell_type": "code",
   "execution_count": 46,
   "id": "9a7311df-152a-43ba-9da9-4af1b6d722d0",
   "metadata": {},
   "outputs": [
    {
     "name": "stdin",
     "output_type": "stream",
     "text": [
      "Enter a string:  pneumonoultramicroscopicsilicovolcanoconiosis\n"
     ]
    },
    {
     "name": "stdout",
     "output_type": "stream",
     "text": [
      "the value of the string; pneumonoultramicroscopicsilicovolcanoconiosis is 45\n"
     ]
    }
   ],
   "source": [
    "input_val= input(\"Enter a string: \")\n",
    "l=0\n",
    "for i in input_val:\n",
    "    l+=1\n",
    "\n",
    "print(f\"the length of the string; {input_val} is {l}\")\n",
    "    \n",
    "\n"
   ]
  },
  {
   "cell_type": "markdown",
   "id": "ba07212a-15f5-4e6a-a2bd-2bd96ab53af9",
   "metadata": {},
   "source": [
    "# 9. Check if a string contains a specific word."
   ]
  },
  {
   "cell_type": "code",
   "execution_count": 47,
   "id": "83bfed27-d0b6-4109-82e1-5b6b18c4736f",
   "metadata": {},
   "outputs": [
    {
     "name": "stdin",
     "output_type": "stream",
     "text": [
      "Enter a string:  the quick brown fox jumps over a lazy dog\n",
      "enter a specific word:  brown\n"
     ]
    },
    {
     "name": "stdout",
     "output_type": "stream",
     "text": [
      "The word brown is present in the string ,the quick brown fox jumps over a lazy dog\n"
     ]
    }
   ],
   "source": [
    "input_value=input(\"Enter a string: \")\n",
    "specific_word= input(\"enter a specific word: \")\n",
    "\n",
    "if specific_word in input_value:\n",
    "    print(f\"The word {specific_word} is present in the string ,{input_value}\")\n",
    "else: \n",
    "    print(f\"The word {specific_word} is not present in the string ,{input_value}\")"
   ]
  },
  {
   "cell_type": "markdown",
   "id": "84a65507-1587-4667-8fab-3decce7d63a4",
   "metadata": {},
   "source": [
    "# 10. Replace a word in a string with another word."
   ]
  },
  {
   "cell_type": "code",
   "execution_count": 48,
   "id": "a2dd3993-b587-4596-941b-bfbbdecbb98d",
   "metadata": {},
   "outputs": [
    {
     "name": "stdout",
     "output_type": "stream",
     "text": [
      "Department of automobile engineering\n"
     ]
    }
   ],
   "source": [
    "text=\"Department of mechanical engineering\"\n",
    "out= text.replace(\"mechanical\",\"automobile\")\n",
    "print(out)"
   ]
  },
  {
   "cell_type": "markdown",
   "id": "ccafed9a-4ac2-4c6e-9493-8e70c46bfcb7",
   "metadata": {},
   "source": [
    "## 11. Count the occurrences of a word in a string."
   ]
  },
  {
   "cell_type": "code",
   "execution_count": 52,
   "id": "6019cdf7-7570-42c0-a50f-c566740be21d",
   "metadata": {},
   "outputs": [
    {
     "data": {
      "text/plain": [
       "2"
      ]
     },
     "execution_count": 52,
     "metadata": {},
     "output_type": "execute_result"
    }
   ],
   "source": [
    "string= \"all is well,all is well\"\n",
    "word=\"all\"\n",
    "string.count(word)"
   ]
  },
  {
   "cell_type": "markdown",
   "id": "1bd85f5e-75f7-44f1-8016-58e55443f076",
   "metadata": {},
   "source": [
    "# 12. Find the first occurrence of a word in a string."
   ]
  },
  {
   "cell_type": "code",
   "execution_count": 54,
   "id": "598a53fd-eb3e-4bd1-aff4-bf7d767e0eba",
   "metadata": {},
   "outputs": [
    {
     "data": {
      "text/plain": [
       "5"
      ]
     },
     "execution_count": 54,
     "metadata": {},
     "output_type": "execute_result"
    }
   ],
   "source": [
    "string=\"play stupid games,win stupid prizes\"\n",
    "word=\"stupid\"\n",
    "string.find(word)"
   ]
  },
  {
   "cell_type": "markdown",
   "id": "af5f2ab3-d3e2-448f-93d3-e8e45964baf5",
   "metadata": {},
   "source": [
    "# 13. Find the last occurrence of a word in a string."
   ]
  },
  {
   "cell_type": "code",
   "execution_count": 56,
   "id": "616d471e-b483-46eb-b051-7e32c2ecb3d0",
   "metadata": {},
   "outputs": [
    {
     "data": {
      "text/plain": [
       "21"
      ]
     },
     "execution_count": 56,
     "metadata": {},
     "output_type": "execute_result"
    }
   ],
   "source": [
    "string=\"pneumonoultramicroscopicsilicovolcanoconiosis\"\n",
    "string.rindex(\"p\")"
   ]
  },
  {
   "cell_type": "markdown",
   "id": "4c043803-149f-4b9b-9c99-8087b8ff009c",
   "metadata": {},
   "source": [
    "# 14. Split a string into a list of words."
   ]
  },
  {
   "cell_type": "code",
   "execution_count": 57,
   "id": "784c8384-70f1-4e4e-8f57-8730d0790273",
   "metadata": {},
   "outputs": [
    {
     "data": {
      "text/plain": [
       "['Split', 'a', 'string', 'into', 'a', 'list', 'of', 'words']"
      ]
     },
     "execution_count": 57,
     "metadata": {},
     "output_type": "execute_result"
    }
   ],
   "source": [
    "string= \"Split a string into a list of words\"\n",
    "string.split()\n"
   ]
  },
  {
   "cell_type": "markdown",
   "id": "e717b66b-b998-4b3a-9a72-e3ed606fe13f",
   "metadata": {},
   "source": [
    "## 15. Join a list of words into a string."
   ]
  },
  {
   "cell_type": "code",
   "execution_count": 63,
   "id": "170fdc41-a482-4ef4-a374-30cb5e8aa356",
   "metadata": {},
   "outputs": [
    {
     "data": {
      "text/plain": [
       "'Split a string into a list of words'"
      ]
     },
     "execution_count": 63,
     "metadata": {},
     "output_type": "execute_result"
    }
   ],
   "source": [
    "string=['Split', 'a', 'string', 'into', 'a', 'list', 'of', 'words'] \n",
    "\" \".join(string)"
   ]
  },
  {
   "cell_type": "markdown",
   "id": "2ad78448-947b-4b8c-8035-0bc8d3a6be88",
   "metadata": {},
   "source": [
    "## 16. Convert a string where words are separated by spaces to one where words are separated by underscores."
   ]
  },
  {
   "cell_type": "code",
   "execution_count": 64,
   "id": "4f883943-67a2-4c10-a009-77c4f4780b8f",
   "metadata": {},
   "outputs": [
    {
     "data": {
      "text/plain": [
       "'Convert_a_string_where_words_are_separated_by_spaces_to_one_where_words_are_separated_by_underscores'"
      ]
     },
     "execution_count": 64,
     "metadata": {},
     "output_type": "execute_result"
    }
   ],
   "source": [
    "t=\"Convert a string where words are separated by spaces to one where words are separated by underscores\"\n",
    "t.replace(\" \",\"_\")"
   ]
  },
  {
   "cell_type": "markdown",
   "id": "6c920f31-2050-4822-a064-90585f40a51e",
   "metadata": {},
   "source": [
    "##  17. Check if a string starts with a specific word or phrase."
   ]
  },
  {
   "cell_type": "code",
   "execution_count": 69,
   "id": "32ac5d45-15f5-4237-82ab-3bd0e7b1051f",
   "metadata": {},
   "outputs": [
    {
     "name": "stdout",
     "output_type": "stream",
     "text": [
      "The string starts with a specific word\n"
     ]
    }
   ],
   "source": [
    "text=\"Check if a string starts with a specific word or phrase.\"\n",
    "word=\"Check\"\n",
    "if text.startswith(word):\n",
    "    print(\"The string starts with a specific word\")"
   ]
  },
  {
   "cell_type": "markdown",
   "id": "1373862b-a04c-4564-aa49-7ce3a9eb0624",
   "metadata": {},
   "source": [
    "## 18. Check if a string ends with a specific word or phrase."
   ]
  },
  {
   "cell_type": "code",
   "execution_count": 72,
   "id": "1fb59ee5-8737-4be9-8c00-b1f1e5c2d5a5",
   "metadata": {},
   "outputs": [
    {
     "name": "stdout",
     "output_type": "stream",
     "text": [
      "The string ends with a specific word\n"
     ]
    }
   ],
   "source": [
    "text=\"Check if a string ends with a specific word or phrase\"\n",
    "word=\"phrase\"\n",
    "if text.endswith(word):\n",
    "    print(\"The string ends with a specific word\")"
   ]
  },
  {
   "cell_type": "markdown",
   "id": "6ebaadc3-fc84-4403-a61d-f607a67a216d",
   "metadata": {},
   "source": [
    "## 19. Convert a string to title case (e.g., \"hello world\" to \"Hello World\")."
   ]
  },
  {
   "cell_type": "code",
   "execution_count": 74,
   "id": "07b19df8-ee0f-450a-b50b-a37c1fbba1f6",
   "metadata": {},
   "outputs": [
    {
     "data": {
      "text/plain": [
       "'Hello World'"
      ]
     },
     "execution_count": 74,
     "metadata": {},
     "output_type": "execute_result"
    }
   ],
   "source": [
    "string=\"hello world\"\n",
    "string.title()"
   ]
  },
  {
   "cell_type": "markdown",
   "id": "9ca754a5-4514-4c19-a0d3-3d3df41d0d04",
   "metadata": {},
   "source": [
    "## 20. Find the longest word in a string."
   ]
  },
  {
   "cell_type": "code",
   "execution_count": 83,
   "id": "34fb2578-3444-4a4c-a158-54f0cb70ee9b",
   "metadata": {},
   "outputs": [
    {
     "data": {
      "text/plain": [
       "'longest'"
      ]
     },
     "execution_count": 83,
     "metadata": {},
     "output_type": "execute_result"
    }
   ],
   "source": [
    "string=\"Find the longest word in a string\"\n",
    "w=string.split()\n",
    "max(w,key=len) \n",
    "    "
   ]
  },
  {
   "cell_type": "markdown",
   "id": "db6ef35d-21e3-4cda-a3a2-61eed8fc8c2d",
   "metadata": {},
   "source": [
    "##  21. Find the shortest word in a string."
   ]
  },
  {
   "cell_type": "code",
   "execution_count": 84,
   "id": "14fb834c-8d05-48eb-9faa-1def41cca494",
   "metadata": {},
   "outputs": [
    {
     "data": {
      "text/plain": [
       "'a'"
      ]
     },
     "execution_count": 84,
     "metadata": {},
     "output_type": "execute_result"
    }
   ],
   "source": [
    "string=\"Find the longest word in a string\"\n",
    "w=string.split()\n",
    "min(w,key=len) "
   ]
  },
  {
   "cell_type": "markdown",
   "id": "64bd7d97-7ba6-4d2d-ba3e-aa0d07452c57",
   "metadata": {},
   "source": [
    "# 22. Reverse the order of words in a string."
   ]
  },
  {
   "cell_type": "code",
   "execution_count": 4,
   "id": "22fa0109-fd2c-490b-84b3-bb4a0c8b83cb",
   "metadata": {},
   "outputs": [
    {
     "data": {
      "text/plain": [
       "'string a in words of order the Reverse'"
      ]
     },
     "execution_count": 4,
     "metadata": {},
     "output_type": "execute_result"
    }
   ],
   "source": [
    "string=\"Reverse the order of words in a string\"\n",
    "w=string.split() # converting the string into a list\n",
    "rw=w[::-1] # reversing the list of elements in a list\n",
    "\" \".join(rw) # again converting it as a string"
   ]
  },
  {
   "cell_type": "markdown",
   "id": "8401ace8-f661-44fd-81d0-aefefd6de8b6",
   "metadata": {},
   "source": [
    "## 23. Check if a string is alphanumeric."
   ]
  },
  {
   "cell_type": "code",
   "execution_count": 15,
   "id": "6f91fd8a-cad4-4c91-a923-a678d3a636a3",
   "metadata": {},
   "outputs": [
    {
     "data": {
      "text/plain": [
       "True"
      ]
     },
     "execution_count": 15,
     "metadata": {},
     "output_type": "execute_result"
    }
   ],
   "source": [
    "string= \"100max\"\n",
    "string.isalnum()"
   ]
  },
  {
   "cell_type": "markdown",
   "id": "30262b9c-a597-4ce4-889d-a52a121230be",
   "metadata": {},
   "source": [
    "##  24. Extract all digits from a string."
   ]
  },
  {
   "cell_type": "code",
   "execution_count": 25,
   "id": "cce2f430-6092-42e9-ad8a-b881c4e3e02f",
   "metadata": {},
   "outputs": [
    {
     "name": "stdout",
     "output_type": "stream",
     "text": [
      "10000\n",
      "10000\n"
     ]
    }
   ],
   "source": [
    "string='I fear not the man who has practiced 10000 kicks once, but I fear the man who has practiced one kick 10000 times.'\n",
    "l1=string.split()\n",
    "for i in l1:\n",
    "    if i.isdigit():\n",
    "        print(i)"
   ]
  },
  {
   "cell_type": "markdown",
   "id": "e6181c96-f408-43ab-959c-7f7e105cf86f",
   "metadata": {},
   "source": [
    "## 25. Extract all alphabets from a string."
   ]
  },
  {
   "cell_type": "code",
   "execution_count": 29,
   "id": "41c02b2f-07ef-41ac-ab63-59a5a87396d0",
   "metadata": {},
   "outputs": [
    {
     "data": {
      "text/plain": [
       "'I fear not the man who has practiced kicks but I fear the man who has practiced one kick'"
      ]
     },
     "execution_count": 29,
     "metadata": {},
     "output_type": "execute_result"
    }
   ],
   "source": [
    "string='I fear not the man who has practiced 10000 kicks once, but I fear the man who has practiced one kick 10000 times.'\n",
    "l1=string.split()\n",
    "l2=[]\n",
    "for i in l1:\n",
    "    if i.isalpha():\n",
    "        l2.append(i)\n",
    "\" \".join(l2)"
   ]
  },
  {
   "cell_type": "markdown",
   "id": "69694816-1b67-4299-b77b-b5b19f55a5ff",
   "metadata": {},
   "source": [
    "## 26. Count the number of uppercase letters in a string."
   ]
  },
  {
   "cell_type": "code",
   "execution_count": 37,
   "id": "20b19971-ad5b-4f1c-99ad-0ec9d6bda9c6",
   "metadata": {},
   "outputs": [
    {
     "name": "stdout",
     "output_type": "stream",
     "text": [
      "6\n"
     ]
    }
   ],
   "source": [
    "string='I fear not the man who has praCTICed 10000 kicks once, but I fear the man who has practiced one kick 10000 times.'\n",
    "l3=[]\n",
    "for i in string:\n",
    "    if i.isupper():\n",
    "        l3.append(i)\n",
    "print(len(l3))"
   ]
  },
  {
   "cell_type": "markdown",
   "id": "5f16d61b-1726-48a0-927a-220d03ff83a6",
   "metadata": {},
   "source": [
    "## 27. Count the number of lowercase letters in a string."
   ]
  },
  {
   "cell_type": "code",
   "execution_count": 39,
   "id": "a2551e8e-2c51-4efe-be4c-a2011d42f86d",
   "metadata": {},
   "outputs": [
    {
     "name": "stdout",
     "output_type": "stream",
     "text": [
      "73\n"
     ]
    }
   ],
   "source": [
    "string='I fear not the man who has praCTICed 10000 kicks once, but I fear the man who has practiced one kick 10000 times.'\n",
    "l4=[]\n",
    "for i in string:\n",
    "    if i.islower():\n",
    "        l4.append(i)\n",
    "print(len(l4))"
   ]
  },
  {
   "cell_type": "markdown",
   "id": "41ec6f76-6bcf-4801-9533-eaeb077db45e",
   "metadata": {},
   "source": [
    "## 28. Swap the case of each character in a string."
   ]
  },
  {
   "cell_type": "code",
   "execution_count": 42,
   "id": "0c6fe474-c9c4-469e-ad69-a6b243afcba6",
   "metadata": {},
   "outputs": [
    {
     "data": {
      "text/plain": [
       "'sWAP the case OF EACH CHARACTER IN A STRING'"
      ]
     },
     "execution_count": 42,
     "metadata": {},
     "output_type": "execute_result"
    }
   ],
   "source": [
    "string= \"Swap THE CASE of each character in a string\"\n",
    "string.swapcase()"
   ]
  },
  {
   "cell_type": "markdown",
   "id": "53330fe4-40c8-4e02-9434-32dbd35dd36f",
   "metadata": {},
   "source": [
    "## 29. Remove a specific word from a string."
   ]
  },
  {
   "cell_type": "code",
   "execution_count": 46,
   "id": "9b93bc30-32b2-4423-abcb-86fb938a4ca7",
   "metadata": {},
   "outputs": [
    {
     "data": {
      "text/plain": [
       "'Remove a  word from a string.'"
      ]
     },
     "execution_count": 46,
     "metadata": {},
     "output_type": "execute_result"
    }
   ],
   "source": [
    "STR=\"Remove a specific word from a string.\"\n",
    "STR.replace(\"specific\",\"\")"
   ]
  },
  {
   "cell_type": "markdown",
   "id": "072237b0-98fe-4341-8651-c0fcaba49eed",
   "metadata": {},
   "source": [
    "## 30. Check if a string is a valid email address."
   ]
  },
  {
   "cell_type": "code",
   "execution_count": 58,
   "id": "1085b742-4277-43c0-8655-b0cc825e2f16",
   "metadata": {},
   "outputs": [
    {
     "name": "stdout",
     "output_type": "stream",
     "text": [
      "The give string is a valid email address\n"
     ]
    }
   ],
   "source": [
    "string=\"naveen@gmail.com\"\n",
    "if \"@\" and \".com\" in string:\n",
    "    print(\"The give string is a valid email address\")\n",
    "else:\n",
    "    print(\"The give string is not a valid email address\")"
   ]
  },
  {
   "cell_type": "markdown",
   "id": "8e83a28e-dd88-4c03-8f41-318ca4b0719c",
   "metadata": {},
   "source": [
    "## 31. Extract the username from an email address string."
   ]
  },
  {
   "cell_type": "code",
   "execution_count": 5,
   "id": "35b82899-fc8a-4187-b678-aa5b355ad8b8",
   "metadata": {},
   "outputs": [
    {
     "name": "stdout",
     "output_type": "stream",
     "text": [
      "the extracted username for the email address naveenlara@gmail.com is naveenlara\n"
     ]
    }
   ],
   "source": [
    "string=\"naveenlara@gmail.com\"\n",
    "op= string.split('@')[0]\n",
    "''' extracting using split function , the given string is split into 2 elements,\n",
    "the element is called using index value''' \n",
    "\n",
    "print(f\"the extracted username for the email address {string} is {op}\")"
   ]
  },
  {
   "cell_type": "markdown",
   "id": "41ddad04-cce3-43e0-8e06-ede07e3c9ab6",
   "metadata": {},
   "source": [
    "## 32. Extract the domain name from an email address string."
   ]
  },
  {
   "cell_type": "code",
   "execution_count": 7,
   "id": "9c20d458-4f4f-4609-881d-5b2ea09c4181",
   "metadata": {},
   "outputs": [
    {
     "name": "stdout",
     "output_type": "stream",
     "text": [
      "the extracted domain name for the email address naveenlara@gmail.com is gmail.com\n"
     ]
    }
   ],
   "source": [
    "string=\"naveenlara@gmail.com\"\n",
    "op= string.split('@')[1] \n",
    "''' extracting using split function , the given string is split into 2 elements,\n",
    "the element is called using index value'''\n",
    "print(f\"the extracted domain name for the email address {string} is {op}\")"
   ]
  },
  {
   "cell_type": "markdown",
   "id": "9e18de09-f746-4251-8030-9e18f823c4c4",
   "metadata": {},
   "source": [
    "## 33. Replace multiple spaces in a string with a single space."
   ]
  },
  {
   "cell_type": "code",
   "execution_count": 11,
   "id": "f3c325db-fa12-43ff-959e-bd2fbec17b43",
   "metadata": {},
   "outputs": [
    {
     "name": "stdout",
     "output_type": "stream",
     "text": [
      "Replace multiple spaces in a string with a single space\n"
     ]
    }
   ],
   "source": [
    "mul_str=\"Replace multiple    spaces in a  string    with a    single     space\"\n",
    "rep_str=mul_str.split() # using split function to split the string into single elements,which removes the multispaces\n",
    "print(\" \".join(rep_str)) # joining the elements to form  a single sentances"
   ]
  },
  {
   "cell_type": "markdown",
   "id": "d037abd8-fcc8-49f6-81e9-a0dfe907360a",
   "metadata": {},
   "source": [
    "## 34. Check if a string is a valid URL."
   ]
  },
  {
   "cell_type": "code",
   "execution_count": 13,
   "id": "5d9bc73d-ddb8-4665-a8b1-3e0358d9e304",
   "metadata": {},
   "outputs": [
    {
     "name": "stdout",
     "output_type": "stream",
     "text": [
      "Collecting validators\n",
      "  Downloading validators-0.21.2-py3-none-any.whl (25 kB)\n",
      "Installing collected packages: validators\n",
      "Successfully installed validators-0.21.2\n",
      "Note: you may need to restart the kernel to use updated packages.\n"
     ]
    }
   ],
   "source": [
    "pip install validators # installing the req lib"
   ]
  },
  {
   "cell_type": "code",
   "execution_count": 14,
   "id": "6584255b-7db2-441c-8c2e-fe6c57ad6406",
   "metadata": {},
   "outputs": [
    {
     "name": "stdout",
     "output_type": "stream",
     "text": [
      "the give URL is Valid\n"
     ]
    }
   ],
   "source": [
    "import validators # importing the library\n",
    "url=\"https://brown-doctor-qyuil.pwskills.app/lab/tree/work/20thAug_Stringbased_Practise_questions.ipynb\"\n",
    "if validators.url(url)== True: # using url fn from validators lib\n",
    "    print(\"the given URL is Valid\")\n",
    "else:\n",
    "    print(\"the given URL is not Valid\")"
   ]
  },
  {
   "cell_type": "markdown",
   "id": "76f3feda-2986-493a-a4b3-afe6b04f4e09",
   "metadata": {},
   "source": [
    "## 35. Extract the protocol (http or https) from a URL string"
   ]
  },
  {
   "cell_type": "code",
   "execution_count": 15,
   "id": "77273cbc-d843-4cc5-b69e-1532cd4fa0ab",
   "metadata": {},
   "outputs": [
    {
     "name": "stdout",
     "output_type": "stream",
     "text": [
      "the extracted protocol for the given url is https\n"
     ]
    }
   ],
   "source": [
    "url=\"https://brown-doctor-qyuil.pwskills.app/lab/tree/work/20thAug_Stringbased_Practise_questions.ipynb\"\n",
    "op= url.split(':')[0]\n",
    "''' extracting using split function , the given string is split into 2 elements,\n",
    "the element is called using index value''' \n",
    "\n",
    "print(f\"the extracted protocol for the given url is {op}\")"
   ]
  },
  {
   "cell_type": "markdown",
   "id": "96146369-17fe-433f-8c69-9fc834a21ae2",
   "metadata": {},
   "source": [
    "## 36. Find the frequency of each character in a string."
   ]
  },
  {
   "cell_type": "code",
   "execution_count": 20,
   "id": "bbb7434f-adec-4e75-869e-09698bf98217",
   "metadata": {},
   "outputs": [
    {
     "name": "stdout",
     "output_type": "stream",
     "text": [
      "The frequency of t is 1 times\n",
      "The frequency of l is 3 times\n",
      "The frequency of u is 2 times\n",
      "The frequency of p is 2 times\n",
      "The frequency of i is 6 times\n",
      "The frequency of v is 1 times\n",
      "The frequency of a is 2 times\n",
      "The frequency of s is 4 times\n",
      "The frequency of c is 6 times\n",
      "The frequency of e is 1 times\n",
      "The frequency of m is 2 times\n",
      "The frequency of r is 2 times\n",
      "The frequency of n is 4 times\n",
      "The frequency of o is 9 times\n"
     ]
    }
   ],
   "source": [
    "string= \"pneumonoultramicroscopicsilicovolcanoconiosis\"\n",
    "set_str=set(string) # converting the above string as set to remove duplicates\n",
    "for i in set_str: # iterating through each elements \n",
    "    print(f\"The frequency of {i} is {string.count(i)} times\")# count fun is used to find the frequency of each char in a string"
   ]
  },
  {
   "cell_type": "markdown",
   "id": "b3868ae8-72ec-4e63-8f2e-549403bad2b4",
   "metadata": {},
   "source": [
    "## 37. Remove all punctuation from a string."
   ]
  },
  {
   "cell_type": "code",
   "execution_count": 2,
   "id": "7bed1d1a-5013-4080-b2a8-76de09621494",
   "metadata": {},
   "outputs": [],
   "source": [
    "import string "
   ]
  },
  {
   "cell_type": "code",
   "execution_count": 3,
   "id": "8b252772-2737-45fb-9c3e-cb1dfb8fd290",
   "metadata": {},
   "outputs": [
    {
     "name": "stdout",
     "output_type": "stream",
     "text": [
      "Remove all  punctuation from a string\n"
     ]
    }
   ],
   "source": [
    "pun_str= \"Remove: all, !! punctuation, from a string.\"\n",
    "rem_str= pun_str.translate(str.maketrans('','',string.punctuation))\n",
    "print(rem_str)"
   ]
  },
  {
   "cell_type": "markdown",
   "id": "26cf4d9e-d3a7-4fd8-beb8-ba02c374b71b",
   "metadata": {},
   "source": [
    "## 38. Check if a string contains only digits."
   ]
  },
  {
   "cell_type": "code",
   "execution_count": 4,
   "id": "d50e9ce0-3ca8-4841-b542-ddf40a7c8fb5",
   "metadata": {},
   "outputs": [
    {
     "name": "stdout",
     "output_type": "stream",
     "text": [
      "The above string contains only digits\n"
     ]
    }
   ],
   "source": [
    "dig_str=\"786888858246\"\n",
    "if dig_str.isdigit() :\n",
    "    print(\"The above string contains only digits\")\n",
    "else:\n",
    "    print(\"The above string not only contains digits\")"
   ]
  },
  {
   "cell_type": "markdown",
   "id": "a65b0f9f-20b8-4628-b9b1-532188614db3",
   "metadata": {},
   "source": [
    "## 39. Check if a string contains only alphabets."
   ]
  },
  {
   "cell_type": "code",
   "execution_count": 31,
   "id": "2ad5d988-d603-4268-8f6a-cd57da8f4bdf",
   "metadata": {},
   "outputs": [
    {
     "name": "stdout",
     "output_type": "stream",
     "text": [
      "The above string contains only alphabets\n"
     ]
    }
   ],
   "source": [
    "apl_str=\"pneumonoultramicroscopicsilicovolcanoconiosis\"\n",
    "if apl_str.isalpha() == True:\n",
    "    print(\"The above string contains only alphabets\")\n",
    "else:\n",
    "    print(\"The above string not only contains alphabets\")\n",
    "    "
   ]
  },
  {
   "cell_type": "markdown",
   "id": "5bf43dbb-b06b-4bb3-aa2e-6d507c288d77",
   "metadata": {},
   "source": [
    "##  40. Convert a string to a list of characters."
   ]
  },
  {
   "cell_type": "code",
   "execution_count": 36,
   "id": "14c49567-0818-4782-9453-a1f87e331c1c",
   "metadata": {},
   "outputs": [
    {
     "name": "stdout",
     "output_type": "stream",
     "text": [
      "['Convert', 'a', 'string', 'to', 'a', 'list', 'of', 'characters']\n"
     ]
    }
   ],
   "source": [
    "li1=\"Convert a string to a list of characters\"\n",
    "list_1= li1.split()\n",
    "print(list_1)"
   ]
  },
  {
   "cell_type": "markdown",
   "id": "e3d37c09-1cb0-4e55-875d-71b94f8160e0",
   "metadata": {},
   "source": [
    "## 41. Check if two strings are anagrams."
   ]
  },
  {
   "cell_type": "code",
   "execution_count": 3,
   "id": "6190b0e5-bdab-41a4-bedf-8e18fed2012c",
   "metadata": {},
   "outputs": [
    {
     "name": "stdout",
     "output_type": "stream",
     "text": [
      "The String are Anagrams\n"
     ]
    }
   ],
   "source": [
    "string=\"triangle\"\n",
    "string1=\"integral\"\n",
    "if sorted(string)==sorted(string1): # sorted fn used to arage the characters in ascending order\n",
    "    print(\"The String are Anagrams\")\n",
    "else:\n",
    "    print(\"The Strings are not Anagrams\")"
   ]
  },
  {
   "cell_type": "markdown",
   "id": "c709535e-4a23-49d0-bf6a-a63f58acdb70",
   "metadata": {},
   "source": [
    "## 42. Encode a string using a Caesar cipher."
   ]
  },
  {
   "cell_type": "code",
   "execution_count": 32,
   "id": "97a5d4fc-c4a7-4e2c-9a94-f22896297d1b",
   "metadata": {},
   "outputs": [
    {
     "data": {
      "text/plain": [
       "[]"
      ]
     },
     "execution_count": 32,
     "metadata": {},
     "output_type": "execute_result"
    }
   ],
   "source": [
    "encode=[] #creating a list to store the encrypted words\n",
    "encode"
   ]
  },
  {
   "cell_type": "code",
   "execution_count": 26,
   "id": "1d2ebace-ef5f-4421-94b3-35dff0d152d4",
   "metadata": {},
   "outputs": [
    {
     "data": {
      "text/plain": [
       "'HJFXJW'"
      ]
     },
     "execution_count": 26,
     "metadata": {},
     "output_type": "execute_result"
    }
   ],
   "source": [
    "code=\"ceaser\" # string to be encrypted\n",
    "shift=5 # shift value\n",
    "for i in code: #iterating through the string\n",
    "    if i.isalpha(): # if condition to check wheather the text is an alphabet\n",
    "        encoded=ord(i.upper())+ shift # using ord fn to find the unicode of the single element in a string\n",
    "        encode.append(chr(encoded)) # changing the unicode to alpha using char() fn\n",
    "        \n",
    "\"\".join(encode) #using join()fn to join the elements in the lsit"
   ]
  },
  {
   "cell_type": "markdown",
   "id": "0052c0cc-f06d-433e-9ef6-6dd432ae18ab",
   "metadata": {},
   "source": [
    "## 43. Decode a Caesar cipher encoded string."
   ]
  },
  {
   "cell_type": "code",
   "execution_count": 38,
   "id": "709dc258-3105-4468-93d6-521f70aa6440",
   "metadata": {},
   "outputs": [
    {
     "data": {
      "text/plain": [
       "[]"
      ]
     },
     "execution_count": 38,
     "metadata": {},
     "output_type": "execute_result"
    }
   ],
   "source": [
    "decoder=[]\n",
    "decoder"
   ]
  },
  {
   "cell_type": "code",
   "execution_count": 39,
   "id": "9c919dbe-1c4a-47b0-a1dd-ae1a52093c51",
   "metadata": {},
   "outputs": [
    {
     "data": {
      "text/plain": [
       "'CEASER'"
      ]
     },
     "execution_count": 39,
     "metadata": {},
     "output_type": "execute_result"
    }
   ],
   "source": [
    "decode=\"HJFXJW\" #creating a list to store the decrypted words\n",
    "shift=5 # shift value\n",
    "for i in decode: #iterating through the string\n",
    "    if i.isalpha():# if condition to check wheather the text is an alphabet\n",
    "        decoded=ord(i.upper()) - shift # using ord fn to find the unicode of the single element in a string\n",
    "        decoder.append(chr(decoded))# changing the unicode to alpha using char() fn\n",
    "        \n",
    "\"\".join(decoder) #using join()fn to join the elements in the lsit"
   ]
  },
  {
   "cell_type": "markdown",
   "id": "1a657ec1-569b-485e-8b41-00e7a5392448",
   "metadata": {},
   "source": [
    "## 44. Find the most frequent word in a string."
   ]
  },
  {
   "cell_type": "code",
   "execution_count": 23,
   "id": "e276f7d0-8584-4a5f-9a1f-fcd27c815060",
   "metadata": {},
   "outputs": [
    {
     "name": "stdout",
     "output_type": "stream",
     "text": [
      "{'surely', 'some', 'bought', 'a', 'of', 'better', 'she', 'Botter', 'Will', 'It', 'Betty', 'in', \"butter's\", 'said', 'bitter,', 'butter', 'it', 'this', 'bit', 'If', 'make', 'batter', 'my', 'will', 'bitter', 'I', 'But', 'put'}\n",
      "the most frequent word is: a,with fequency of 7 times\n"
     ]
    }
   ],
   "source": [
    "st=\"Betty Botter bought some butter But she said this butter's bitter If I put it in my batter It will make my batter bitter, But a bit of better butter Will surely make my batter better\"\n",
    "set_st=set(st.split())\n",
    "print(set_st)\n",
    "maxi=1\n",
    "for i in set_st:\n",
    "    x=st.count(i)\n",
    "    if x > maxi:\n",
    "        maxi=x\n",
    "        print(f\"the most frequent word is: {i},with fequency of {maxi} times\")\n",
    "    \n"
   ]
  },
  {
   "cell_type": "markdown",
   "id": "f895cf80-84c7-477f-8742-8130d3c14956",
   "metadata": {},
   "source": [
    "## 45. Find all unique words in a string."
   ]
  },
  {
   "cell_type": "code",
   "execution_count": 4,
   "id": "a56303c6-0402-45ce-8b4a-6d3b97877a2a",
   "metadata": {},
   "outputs": [
    {
     "name": "stdout",
     "output_type": "stream",
     "text": [
      "{'love.', 'house', 'fit', 'of', 'be', 'bought', 'must', 'calm', 'A', 'full', 'a', '—', 'earned.', 'they', 'things', 'body,', 'These', 'cannot', 'mind,'}\n"
     ]
    }
   ],
   "source": [
    "ip_str=\"A fit body, a calm mind, a house full of love. These things cannot be bought — they must be earned.\"\n",
    "u_str=set(ip_str.split())# using set datatype to remove duplicates\n",
    "print(u_str)"
   ]
  },
  {
   "cell_type": "markdown",
   "id": "e77295b2-12b0-41cc-89e7-3f31f687836f",
   "metadata": {},
   "source": [
    "## 46. Count the number of syllables in a string."
   ]
  },
  {
   "cell_type": "code",
   "execution_count": 7,
   "id": "c00afdd4-0286-468b-ac59-6d20848bdccb",
   "metadata": {},
   "outputs": [
    {
     "name": "stdout",
     "output_type": "stream",
     "text": [
      "Collecting syllables\n",
      "  Downloading syllables-1.0.7-py3-none-any.whl (15 kB)\n",
      "Requirement already satisfied: importlib-metadata<6.0.0,>=5.1.0 in /opt/conda/lib/python3.10/site-packages (from syllables) (5.1.0)\n",
      "Collecting cmudict<2.0.0,>=1.0.11\n",
      "  Downloading cmudict-1.0.13-py3-none-any.whl (939 kB)\n",
      "\u001b[2K     \u001b[90m━━━━━━━━━━━━━━━━━━━━━━━━━━━━━━━━━━━━━━\u001b[0m \u001b[32m939.3/939.3 kB\u001b[0m \u001b[31m20.1 MB/s\u001b[0m eta \u001b[36m0:00:00\u001b[0ma \u001b[36m0:00:01\u001b[0m\n",
      "\u001b[?25hRequirement already satisfied: importlib-resources<6.0.0,>=5.10.1 in /opt/conda/lib/python3.10/site-packages (from cmudict<2.0.0,>=1.0.11->syllables) (5.10.1)\n",
      "Requirement already satisfied: zipp>=0.5 in /opt/conda/lib/python3.10/site-packages (from importlib-metadata<6.0.0,>=5.1.0->syllables) (3.11.0)\n",
      "Installing collected packages: cmudict, syllables\n",
      "Successfully installed cmudict-1.0.13 syllables-1.0.7\n",
      "Note: you may need to restart the kernel to use updated packages.\n"
     ]
    }
   ],
   "source": [
    "pip install syllables #installing the req word"
   ]
  },
  {
   "cell_type": "code",
   "execution_count": 8,
   "id": "d8809373-8ad2-4d57-b3eb-f80f177d09f2",
   "metadata": {},
   "outputs": [],
   "source": [
    "import syllables # importing the req lib"
   ]
  },
  {
   "cell_type": "code",
   "execution_count": 47,
   "id": "c825e641-089c-4ce2-a4a9-e2298aca96ce",
   "metadata": {},
   "outputs": [
    {
     "data": {
      "text/plain": [
       "1"
      ]
     },
     "execution_count": 47,
     "metadata": {},
     "output_type": "execute_result"
    }
   ],
   "source": [
    "syllables.estimate(\"Horn\")"
   ]
  },
  {
   "cell_type": "markdown",
   "id": "aa892ddd-e924-4f77-bbf8-394b557a6e29",
   "metadata": {},
   "source": [
    "## 47. Check if a string contains any special characters."
   ]
  },
  {
   "cell_type": "code",
   "execution_count": 29,
   "id": "abbf1c5b-746a-4a50-af7e-92296cba8b70",
   "metadata": {},
   "outputs": [
    {
     "name": "stdout",
     "output_type": "stream",
     "text": [
      "the string does not contains special characters\n",
      "the string does not contains special characters\n",
      "the string does not contains special characters\n",
      "the string does not contains special characters\n",
      "the string does not contains special characters\n",
      "the string does not contains special characters\n",
      "the string does not contains special characters\n",
      "the string does not contains special characters\n",
      "the string does not contains special characters\n",
      "the string does not contains special characters\n",
      "the string does not contains special characters\n",
      "the string does not contains special characters\n",
      "the string does not contains special characters\n",
      "the string does not contains special characters\n",
      "the string does not contains special characters\n",
      "the string does not contains special characters\n",
      "the string does not contains special characters\n",
      "the string does not contains special characters\n",
      "the string does not contains special characters\n",
      "the string does not contains special characters\n",
      "the string does not contains special characters\n",
      "the string does not contains special characters\n",
      "the string does not contains special characters\n",
      "the string does not contains special characters\n",
      "the string does not contains special characters\n",
      "the string does not contains special characters\n",
      "the string does not contains special characters\n",
      "the string does not contains special characters\n",
      "the string does not contains special characters\n",
      "the string does not contains special characters\n",
      "the string does not contains special characters\n",
      "the string does not contains special characters\n",
      "the string does not contains special characters\n",
      "the string does not contains special characters\n",
      "the string does not contains special characters\n",
      "the string does not contains special characters\n",
      "the string does not contains special characters\n",
      "the string does not contains special characters\n",
      "the string does not contains special characters\n",
      "the string does not contains special characters\n",
      "the string does not contains special characters\n",
      "the string does not contains special characters\n",
      "the string does not contains special characters\n",
      "the string does not contains special characters\n",
      "the string does not contains special characters\n",
      "the string does not contains special characters\n",
      "the string does not contains special characters\n",
      "the string does not contains special characters\n",
      "the string does not contains special characters\n"
     ]
    }
   ],
   "source": [
    "sp=\"Check if a string contains any special characters\"\n",
    "special_characters = \"!@#$%^&*()-+?_=,<>/\"\n",
    "for i in sp:\n",
    "    if i in special_characters:\n",
    "        print(\"the string contains special characters\")\n",
    "    else:\n",
    "        print(\"the string does not contains special characters\")\n",
    "        \n"
   ]
  },
  {
   "cell_type": "markdown",
   "id": "cfb4e835-dd48-4ade-ade2-d9b59361c786",
   "metadata": {},
   "source": [
    "## 47. Find the shortest string in a list of strings."
   ]
  },
  {
   "cell_type": "code",
   "execution_count": 50,
   "id": "8e92c82b-2730-46b7-a55b-65c662970409",
   "metadata": {},
   "outputs": [
    {
     "name": "stdout",
     "output_type": "stream",
     "text": [
      "the shortest strings in the list are ['day', 'the']\n"
     ]
    }
   ],
   "source": [
    "l_str=\"the harder the workout, the easier the day\" #list of strings\n",
    "list_str=set(l_str.split())#using split fn to create new elements and converting into set to remove duplicates\n",
    "sol= min(list_str) # using min fn to get the shortest string\n",
    "shortest_str=[] #list used to add the final values\n",
    "for i in list_str: #iterarting through set \n",
    "    if len(i) == len(sol):\n",
    "        shortest_str.append(i)\n",
    "print(f\"the shortest strings in the list are {shortest_str}\")"
   ]
  },
  {
   "cell_type": "markdown",
   "id": "0f01c651-80ca-4ae4-bac8-8462c2bfc1ef",
   "metadata": {},
   "source": [
    "## 48. Create a list of the first `n` triangular numbers."
   ]
  },
  {
   "cell_type": "code",
   "execution_count": 60,
   "id": "a47b74e9-58dc-4c2b-8600-2c1733f5c350",
   "metadata": {},
   "outputs": [
    {
     "name": "stdin",
     "output_type": "stream",
     "text": [
      "Enter the range:  15\n"
     ]
    },
    {
     "name": "stdout",
     "output_type": "stream",
     "text": [
      "Triangle number for 1 is 1.0\n",
      "Triangle number for 2 is 3.0\n",
      "Triangle number for 3 is 6.0\n",
      "Triangle number for 4 is 10.0\n",
      "Triangle number for 5 is 15.0\n",
      "Triangle number for 6 is 21.0\n",
      "Triangle number for 7 is 28.0\n",
      "Triangle number for 8 is 36.0\n",
      "Triangle number for 9 is 45.0\n",
      "Triangle number for 10 is 55.0\n",
      "Triangle number for 11 is 66.0\n",
      "Triangle number for 12 is 78.0\n",
      "Triangle number for 13 is 91.0\n",
      "Triangle number for 14 is 105.0\n",
      "Triangle number for 15 is 120.0\n"
     ]
    }
   ],
   "source": [
    "ip=int(input(\"Enter the range: \")) # getting the range numbers as input\n",
    "for i in range(1,ip+1): # range fn to get the number of values\n",
    "    y=(((i**2)+i)/2) # cal to get triangular num\n",
    "    print(f\"Triangle number for {i} is {y}\") #output"
   ]
  },
  {
   "cell_type": "markdown",
   "id": "e0d85954-581b-4e74-8e45-4617570ee652",
   "metadata": {},
   "source": [
    "## 49. Check if a list contains another list as a subsequence."
   ]
  },
  {
   "cell_type": "code",
   "execution_count": 76,
   "id": "57de76e1-e328-409d-9c8d-a249b199dd7f",
   "metadata": {},
   "outputs": [
    {
     "name": "stdout",
     "output_type": "stream",
     "text": [
      "the list contains another list as a subsequence\n"
     ]
    }
   ],
   "source": [
    "l1=['a','e','i','o','u']\n",
    "alphabet=['a', 'b', 'c', 'd','e', 'f', 'g', 'h', 'i', 'j','k', 'l','m', 'n', 'o', 'p','q', 'r', 's','t', 'u','v', 'w', 'x', 'y', 'z']\n",
    "if set(l1).issubset(alphabet)== True: # using issubset fn\n",
    "    print(\"the list contains another list as a subsequence\")"
   ]
  },
  {
   "cell_type": "markdown",
   "id": "40d05fce-e312-4ea1-9a79-063878e248db",
   "metadata": {},
   "source": [
    "## 50. Swap two elements in a list by their indices."
   ]
  },
  {
   "cell_type": "code",
   "execution_count": 85,
   "id": "61419e80-ba5c-46c3-b8fc-c65a40e23404",
   "metadata": {},
   "outputs": [
    {
     "name": "stdout",
     "output_type": "stream",
     "text": [
      "input[85, 8798, 78, 1, 35]\n"
     ]
    },
    {
     "data": {
      "text/plain": [
       "[35, 8798, 78, 1, 85]"
      ]
     },
     "execution_count": 85,
     "metadata": {},
     "output_type": "execute_result"
    }
   ],
   "source": [
    "lis=[85,8798,78,1,35]\n",
    "print(f\"input{lis}\")\n",
    "lis[0],lis[4]=lis[4],lis[0] #swapping the element with index\n",
    "lis"
   ]
  },
  {
   "cell_type": "markdown",
   "id": "381cedfb-b98b-4eb4-9944-e65efaf67c42",
   "metadata": {},
   "source": [
    "# Tuple Based Practice Problem :"
   ]
  },
  {
   "cell_type": "markdown",
   "id": "2992f93f-0c83-4ad0-8957-111b98fc61ba",
   "metadata": {},
   "source": [
    "## 1. Create a tuple with integers from 1 to 5."
   ]
  },
  {
   "cell_type": "code",
   "execution_count": 6,
   "id": "68c97c0b-7af3-4a8f-b38a-7c397cd265ee",
   "metadata": {},
   "outputs": [
    {
     "name": "stdout",
     "output_type": "stream",
     "text": [
      "(1, 2, 3, 4, 5)\n"
     ]
    }
   ],
   "source": [
    "tup=tuple(range(1,6)) # using range fn to generate a tuple\n",
    "print(tup)"
   ]
  },
  {
   "cell_type": "markdown",
   "id": "8d7ee721-c9fe-4a89-9b18-251798e211f7",
   "metadata": {},
   "source": [
    "## 2. Access the third element of a tuple.\n"
   ]
  },
  {
   "cell_type": "code",
   "execution_count": 9,
   "id": "0aaf10f8-bf14-48f6-b68b-2f64ff2d8c89",
   "metadata": {},
   "outputs": [
    {
     "name": "stdout",
     "output_type": "stream",
     "text": [
      "3\n"
     ]
    }
   ],
   "source": [
    "tup=tuple(range(1,6))\n",
    "print(tup[2]) # accesing using index of the tuple"
   ]
  },
  {
   "cell_type": "markdown",
   "id": "a1f59cd6-a06f-4f76-bf4a-5c85dfb24295",
   "metadata": {},
   "source": [
    "## 3. Find the length of a tuple without using the `len()` function"
   ]
  },
  {
   "cell_type": "code",
   "execution_count": 15,
   "id": "6fe3f436-a743-4e72-9102-da842d463bec",
   "metadata": {},
   "outputs": [
    {
     "name": "stdout",
     "output_type": "stream",
     "text": [
      "the length of the tup is 5\n"
     ]
    }
   ],
   "source": [
    "tup=tuple(range(1,6))\n",
    "i=1\n",
    "while i<5: # using while loop to iterate through tuples\n",
    "    i+=1\n",
    "    \n",
    "print(f\"the length of the tup is {i}\")"
   ]
  },
  {
   "cell_type": "markdown",
   "id": "0d327028-cef5-4a76-ace1-3facaa5cf999",
   "metadata": {},
   "source": [
    "## 4. Count the occurrences of an element in a tuple."
   ]
  },
  {
   "cell_type": "code",
   "execution_count": 17,
   "id": "cac41524-9546-4fee-b4be-29a3c16adc66",
   "metadata": {},
   "outputs": [
    {
     "data": {
      "text/plain": [
       "2"
      ]
     },
     "execution_count": 17,
     "metadata": {},
     "output_type": "execute_result"
    }
   ],
   "source": [
    "tup=(25,78,5,44,58,778,5,25,4848)\n",
    "tup.count(5) # count fn is used to find the ocuurances of the element in a tuple"
   ]
  },
  {
   "cell_type": "markdown",
   "id": "0feb0316-f88f-4b3a-bb13-4fe459b682a6",
   "metadata": {},
   "source": [
    "## 5. Find the index of the first occurrence of an element in a tuple."
   ]
  },
  {
   "cell_type": "code",
   "execution_count": 23,
   "id": "3d1d3f9f-60c7-46ca-a5c6-585d8dbe3045",
   "metadata": {},
   "outputs": [
    {
     "data": {
      "text/plain": [
       "3"
      ]
     },
     "execution_count": 23,
     "metadata": {},
     "output_type": "execute_result"
    }
   ],
   "source": [
    "tuple_s='Find the index of the first occurrence of an element in a tuple'\n",
    "tuple_s=tuple(tuple_s.split())\n",
    "index= tuple_s.index(\"of\") # using index fn to find the first occurance of an element\n",
    "index"
   ]
  },
  {
   "cell_type": "markdown",
   "id": "08cb7e43-90fa-4d9a-bb4e-19be1ab503a4",
   "metadata": {},
   "source": [
    "## 6. Check if an element exists in a tuple."
   ]
  },
  {
   "cell_type": "code",
   "execution_count": 25,
   "id": "639bf4bb-2c09-4e4a-b214-4628bfe6e977",
   "metadata": {},
   "outputs": [
    {
     "name": "stdin",
     "output_type": "stream",
     "text": [
      "enter the element:  index\n"
     ]
    },
    {
     "name": "stdout",
     "output_type": "stream",
     "text": [
      "the element exists in the tuple\n"
     ]
    }
   ],
   "source": [
    "tuple_test='Find the index of the first occurrence of an element in a tuple'\n",
    "tuple_test=tuple(tuple_test.split())\n",
    "x=input(\"enter the element: \")\n",
    "if x in tuple_test: # using in keyword to find the elements availablity\n",
    "    print(f\"the element exists in the tuple\")\n",
    "else:\n",
    "    print(f\"the element does not exists in the tuple\")\n",
    "    "
   ]
  },
  {
   "cell_type": "markdown",
   "id": "4ab14d3e-751f-4547-9f81-cc44e5bde86d",
   "metadata": {},
   "source": [
    "## 7. Convert a tuple to a list."
   ]
  },
  {
   "cell_type": "code",
   "execution_count": 29,
   "id": "4037792e-ee50-4671-9ba8-f6a9f70ab54b",
   "metadata": {},
   "outputs": [
    {
     "data": {
      "text/plain": [
       "tuple"
      ]
     },
     "execution_count": 29,
     "metadata": {},
     "output_type": "execute_result"
    }
   ],
   "source": [
    "type(tuple_test)"
   ]
  },
  {
   "cell_type": "code",
   "execution_count": 30,
   "id": "dfecafd0-fff4-43e1-8c79-9eb4fd998e16",
   "metadata": {},
   "outputs": [
    {
     "data": {
      "text/plain": [
       "['Find',\n",
       " 'the',\n",
       " 'index',\n",
       " 'of',\n",
       " 'the',\n",
       " 'first',\n",
       " 'occurrence',\n",
       " 'of',\n",
       " 'an',\n",
       " 'element',\n",
       " 'in',\n",
       " 'a',\n",
       " 'tuple']"
      ]
     },
     "execution_count": 30,
     "metadata": {},
     "output_type": "execute_result"
    }
   ],
   "source": [
    "list_test=list(tuple_test) # typecasting as list from tuple\n",
    "list_test"
   ]
  },
  {
   "cell_type": "code",
   "execution_count": 31,
   "id": "cb9a1bec-9642-4d36-9969-10a2640c41ab",
   "metadata": {},
   "outputs": [
    {
     "data": {
      "text/plain": [
       "list"
      ]
     },
     "execution_count": 31,
     "metadata": {},
     "output_type": "execute_result"
    }
   ],
   "source": [
    "type(list_test)"
   ]
  },
  {
   "cell_type": "markdown",
   "id": "67673304-ba72-4a98-9152-5f12569d0972",
   "metadata": {},
   "source": [
    "## 8. Convert a list to a tuple"
   ]
  },
  {
   "cell_type": "code",
   "execution_count": 32,
   "id": "13782fb5-8323-46c8-ac6a-6b1f538574e0",
   "metadata": {},
   "outputs": [
    {
     "data": {
      "text/plain": [
       "list"
      ]
     },
     "execution_count": 32,
     "metadata": {},
     "output_type": "execute_result"
    }
   ],
   "source": [
    "type(list_test)"
   ]
  },
  {
   "cell_type": "code",
   "execution_count": 33,
   "id": "14fbab76-c25d-4f77-9935-6690e6944c49",
   "metadata": {},
   "outputs": [
    {
     "data": {
      "text/plain": [
       "('Find',\n",
       " 'the',\n",
       " 'index',\n",
       " 'of',\n",
       " 'the',\n",
       " 'first',\n",
       " 'occurrence',\n",
       " 'of',\n",
       " 'an',\n",
       " 'element',\n",
       " 'in',\n",
       " 'a',\n",
       " 'tuple')"
      ]
     },
     "execution_count": 33,
     "metadata": {},
     "output_type": "execute_result"
    }
   ],
   "source": [
    "test_tuple=tuple(list_test)# type casting test tuples\n",
    "test_tuple"
   ]
  },
  {
   "cell_type": "markdown",
   "id": "acdab7f1-7917-4b71-8d5e-d8405c080bf2",
   "metadata": {},
   "source": [
    "## 9. Unpack the elements of a tuple into variables."
   ]
  },
  {
   "cell_type": "code",
   "execution_count": 36,
   "id": "ef7bf58f-1678-48bd-a433-83c39a34cee7",
   "metadata": {},
   "outputs": [
    {
     "name": "stdout",
     "output_type": "stream",
     "text": [
      "naveen\n",
      "datascience pro\n",
      "pwskills\n"
     ]
    }
   ],
   "source": [
    "up_tup=(\"naveen\",\"datascience pro\",\"pwskills\")\n",
    "(name,course,institution)=up_tup # assiging a tuple of variable to a tuple\n",
    "print(name)\n",
    "print(course)\n",
    "print(institution) # elements are accesed iusing the variables"
   ]
  },
  {
   "cell_type": "markdown",
   "id": "bbe64bb7-3bee-4051-8f6b-623543a66fd7",
   "metadata": {},
   "source": [
    "## 10. Create a tuple of even numbers from 1 to 10."
   ]
  },
  {
   "cell_type": "code",
   "execution_count": 41,
   "id": "6c47a59f-b066-4efe-bcfa-7ea9da183916",
   "metadata": {},
   "outputs": [
    {
     "data": {
      "text/plain": [
       "(0, 2, 4, 6, 8, 10)"
      ]
     },
     "execution_count": 41,
     "metadata": {},
     "output_type": "execute_result"
    }
   ],
   "source": [
    "even_num=tuple(range(0,11,2)) # using range fn with step_value as 2\n",
    "even_num"
   ]
  },
  {
   "cell_type": "markdown",
   "id": "ec7d0c34-0490-420b-b1ff-f98f2193bcfb",
   "metadata": {},
   "source": [
    "## 11. Create a tuple of odd numbers from 1 to 10."
   ]
  },
  {
   "cell_type": "code",
   "execution_count": 45,
   "id": "bdc994b2-8f43-4875-9daa-9083a14eb123",
   "metadata": {},
   "outputs": [
    {
     "data": {
      "text/plain": [
       "(1, 3, 5, 7, 9)"
      ]
     },
     "execution_count": 45,
     "metadata": {},
     "output_type": "execute_result"
    }
   ],
   "source": [
    "odd_num= tuple(range(1,10,2))# using range fn with start value as 1\n",
    "odd_num"
   ]
  },
  {
   "cell_type": "markdown",
   "id": "5c727a23-1e61-49a1-88e3-e3783a0ef79a",
   "metadata": {},
   "source": [
    "## 12. Concatenate two tuples."
   ]
  },
  {
   "cell_type": "code",
   "execution_count": 48,
   "id": "d1cca3ac-f52a-4580-a7dd-6b5517f8f737",
   "metadata": {},
   "outputs": [
    {
     "data": {
      "text/plain": [
       "(0, 2, 4, 6, 8, 10, 1, 3, 5, 7, 9)"
      ]
     },
     "execution_count": 48,
     "metadata": {},
     "output_type": "execute_result"
    }
   ],
   "source": [
    "odd_num\n",
    "even_num\n",
    "f10=even_num+odd_num # concatinating using operators\n",
    "f10"
   ]
  },
  {
   "cell_type": "markdown",
   "id": "c5b159b0-7d65-4741-8138-9c0ab53262ba",
   "metadata": {},
   "source": [
    "## 13. Repeat a tuple three times."
   ]
  },
  {
   "cell_type": "code",
   "execution_count": 49,
   "id": "25354ab7-da29-466a-b7dd-a364eb248c34",
   "metadata": {},
   "outputs": [
    {
     "name": "stdout",
     "output_type": "stream",
     "text": [
      "((0, 2, 4, 6, 8, 10), (0, 2, 4, 6, 8, 10), (0, 2, 4, 6, 8, 10), (0, 2, 4, 6, 8, 10), (0, 2, 4, 6, 8, 10))\n"
     ]
    }
   ],
   "source": [
    "from itertools import repeat # importing required lib\n",
    "solution=tuple(repeat(even_num,5)) # using repeat fn to repeat the tuples\n",
    "print(solution)"
   ]
  },
  {
   "cell_type": "markdown",
   "id": "3e72b70c-274a-4e93-9310-c712e422e692",
   "metadata": {},
   "source": [
    "## 14. Check if a tuple is empty."
   ]
  },
  {
   "cell_type": "code",
   "execution_count": 50,
   "id": "5f17956e-fb46-4f26-a575-b4d57d0102f4",
   "metadata": {},
   "outputs": [
    {
     "name": "stdout",
     "output_type": "stream",
     "text": [
      "The given tuple is empty\n"
     ]
    }
   ],
   "source": [
    "empty_tup=()\n",
    "if len(empty_tup) == 0:\n",
    "    print(\"The given tuple is empty\")\n",
    "else:\n",
    "    print(\"The given tuple is not empty\")"
   ]
  },
  {
   "cell_type": "markdown",
   "id": "52656860-9f4a-4771-b69b-ca872b8a4a10",
   "metadata": {},
   "source": [
    "## 15. Create a nested tuple"
   ]
  },
  {
   "cell_type": "code",
   "execution_count": 5,
   "id": "ae65efff-09c6-4fa9-a2ed-856c57c493e6",
   "metadata": {},
   "outputs": [
    {
     "data": {
      "text/plain": [
       "(('all', 'work'), ('noplay', 'koi'), ('Kaizen', 'seinso'))"
      ]
     },
     "execution_count": 5,
     "metadata": {},
     "output_type": "execute_result"
    }
   ],
   "source": [
    "n_tup=((\"all\",\"work\"),(\"noplay\",\"koi\"),(\"Kaizen\",\"seinso\"))\n",
    "n_tup"
   ]
  },
  {
   "cell_type": "markdown",
   "id": "27749313-87b1-4228-8eee-ca8a41bde7a2",
   "metadata": {},
   "source": [
    "## 16. Access the first element of a nested tuple."
   ]
  },
  {
   "cell_type": "code",
   "execution_count": 8,
   "id": "65f72ca0-cf68-4c06-a037-44c46e24c9b2",
   "metadata": {},
   "outputs": [
    {
     "name": "stdout",
     "output_type": "stream",
     "text": [
      "('all', 'work')\n",
      "noplay\n"
     ]
    }
   ],
   "source": [
    "n_tup=((\"all\",\"work\"),(\"noplay\",\"koi\"),(\"Kaizen\",\"seinso\"))\n",
    "print(n_tup[0]) # prints the first element of a tuple n_tup\n",
    "print(n_tup[1][0]) # prints the nested first element of the 2 element  in n_tup"
   ]
  },
  {
   "cell_type": "markdown",
   "id": "0e58389a-b1e9-46a9-a76b-694f9934e125",
   "metadata": {},
   "source": [
    "## 17. Create a tuple with a single element."
   ]
  },
  {
   "cell_type": "code",
   "execution_count": 10,
   "id": "13d7c471-99f5-46ff-b048-7e29f3a2c304",
   "metadata": {},
   "outputs": [
    {
     "data": {
      "text/plain": [
       "9626969611"
      ]
     },
     "execution_count": 10,
     "metadata": {},
     "output_type": "execute_result"
    }
   ],
   "source": [
    "s_tup=(9626969611)\n",
    "s_tup"
   ]
  },
  {
   "cell_type": "markdown",
   "id": "fc46533f-fc39-4b30-b4a0-f593ca5f42de",
   "metadata": {},
   "source": [
    "## 18. Compare two tuples."
   ]
  },
  {
   "cell_type": "code",
   "execution_count": 1,
   "id": "2cc7edc0-b8f3-4131-ae7c-b4e53ec7670d",
   "metadata": {},
   "outputs": [
    {
     "name": "stdout",
     "output_type": "stream",
     "text": [
      "All the elements in tup2 are greater then tup1\n"
     ]
    }
   ],
   "source": [
    "tup1=(25,35,45,65)\n",
    "tup2=(88,55,99,102)\n",
    "if tup2 > tup1: #comparing using comparison operator\n",
    "    print(\"All the elements in tup2 are greater then tup1\")\n",
    "else:\n",
    "    print(\"All the elements in tup2 are not greater then tup1\")\n",
    "    \n"
   ]
  },
  {
   "cell_type": "markdown",
   "id": "f7570753-2a13-476b-86d1-f43a269a7b6b",
   "metadata": {},
   "source": [
    "## 19. Delete a tuple."
   ]
  },
  {
   "cell_type": "code",
   "execution_count": 3,
   "id": "63cce60e-2f98-403b-8e8e-84e2306c7056",
   "metadata": {},
   "outputs": [],
   "source": [
    "nes_tup=((789,987),(220,250),350)\n",
    "del nes_tup # using del fn to delete a tuple"
   ]
  },
  {
   "cell_type": "code",
   "execution_count": 4,
   "id": "31dcd426-82c6-4bef-b327-6d11c3589b13",
   "metadata": {},
   "outputs": [
    {
     "ename": "NameError",
     "evalue": "name 'nes_tup' is not defined",
     "output_type": "error",
     "traceback": [
      "\u001b[0;31m---------------------------------------------------------------------------\u001b[0m",
      "\u001b[0;31mNameError\u001b[0m                                 Traceback (most recent call last)",
      "Cell \u001b[0;32mIn[4], line 1\u001b[0m\n\u001b[0;32m----> 1\u001b[0m \u001b[43mnes_tup\u001b[49m \u001b[38;5;66;03m## throws error \u001b[39;00m\n",
      "\u001b[0;31mNameError\u001b[0m: name 'nes_tup' is not defined"
     ]
    }
   ],
   "source": [
    "nes_tup ## throws error "
   ]
  },
  {
   "cell_type": "markdown",
   "id": "e07d5e08-2023-4c5d-8146-0134b46be9c7",
   "metadata": {},
   "source": [
    "## 20. Slice a tuple."
   ]
  },
  {
   "cell_type": "code",
   "execution_count": 11,
   "id": "729053cd-41ed-43fc-a53c-ec3673b976d8",
   "metadata": {},
   "outputs": [
    {
     "name": "stdout",
     "output_type": "stream",
     "text": [
      "(2, 6, 6, 3, 51, 7)\n"
     ]
    }
   ],
   "source": [
    "tup=(2,6,6,4,6,4,3,684,51,7,7,9,7,6,6,9,7,7,7,9,9,7,6,2,2,8,4,9,6,7)\n",
    "s_tup= slice(0,11,2)# using slice fn to slice a tuple with parameters {start value,end value,step value}\n",
    "print(tup[s_tup])"
   ]
  },
  {
   "cell_type": "markdown",
   "id": "6dfc78d5-469a-47ba-bf47-6f77d41c7df3",
   "metadata": {},
   "source": [
    "## 21. Find the maximum value in a tuple."
   ]
  },
  {
   "cell_type": "code",
   "execution_count": 14,
   "id": "ff3c3a2b-0257-4a16-aa7f-93233bc2713b",
   "metadata": {},
   "outputs": [
    {
     "data": {
      "text/plain": [
       "684"
      ]
     },
     "execution_count": 14,
     "metadata": {},
     "output_type": "execute_result"
    }
   ],
   "source": [
    "tup=(2,6,6,4,6,4,3,684,51,7,7,9,7,6,6,9,7,7,7,9,9,7,6,2,2,8,4,9,6,7)\n",
    "max(tup) # gives the maximum value of a tuple"
   ]
  },
  {
   "cell_type": "markdown",
   "id": "8819deab-fde2-482b-b13e-ff3086102a24",
   "metadata": {},
   "source": [
    "## 22. Find the minimum value in a tuple."
   ]
  },
  {
   "cell_type": "code",
   "execution_count": 16,
   "id": "9b6013e2-cba5-4fe0-bff8-f154da7e6d0f",
   "metadata": {},
   "outputs": [
    {
     "data": {
      "text/plain": [
       "2"
      ]
     },
     "execution_count": 16,
     "metadata": {},
     "output_type": "execute_result"
    }
   ],
   "source": [
    "min(tup) # gives the minimum value of a tuple"
   ]
  },
  {
   "cell_type": "markdown",
   "id": "91e74688-f9e6-4864-9b7f-74cfc44b7eed",
   "metadata": {},
   "source": [
    "## 23. Convert a string to a tuple of characters."
   ]
  },
  {
   "cell_type": "code",
   "execution_count": 19,
   "id": "7fdf7c4d-15fe-4d12-b8ef-2bbcffe8c888",
   "metadata": {},
   "outputs": [
    {
     "name": "stdout",
     "output_type": "stream",
     "text": [
      "('a', 'l', 'g', 'o', 'r', 'i', 't', 'h', 'm')\n"
     ]
    }
   ],
   "source": [
    "string=\"algorithm\"\n",
    "tuple_str=tuple(string) # converts a tring into a tuple\n",
    "print(tuple_str)"
   ]
  },
  {
   "cell_type": "markdown",
   "id": "cc2e1bb8-fccb-4f03-b620-5d42d7bf5391",
   "metadata": {},
   "source": [
    "## 24. Convert a tuple of characters to a string."
   ]
  },
  {
   "cell_type": "code",
   "execution_count": 21,
   "id": "4c412e28-4821-464e-a0e8-316676ef0a94",
   "metadata": {},
   "outputs": [
    {
     "data": {
      "text/plain": [
       "'algorithm'"
      ]
     },
     "execution_count": 21,
     "metadata": {},
     "output_type": "execute_result"
    }
   ],
   "source": [
    "\"\".join(tuple_str) # uding join fn"
   ]
  },
  {
   "cell_type": "markdown",
   "id": "dbcfde44-fb5c-4f27-a8d1-12e7b24c5278",
   "metadata": {},
   "source": [
    "## 25. Create a tuple from multiple data types."
   ]
  },
  {
   "cell_type": "code",
   "execution_count": 25,
   "id": "64471c28-587f-40a3-99ca-4e66090b64ab",
   "metadata": {},
   "outputs": [
    {
     "name": "stdout",
     "output_type": "stream",
     "text": [
      "<class 'str'>\n",
      "<class 'float'>\n",
      "<class 'tuple'>\n",
      "<class 'dict'>\n",
      "<class 'int'>\n"
     ]
    }
   ],
   "source": [
    "str_x=\"among us\"\n",
    "float_x=250.00\n",
    "tup_x=(259,\"tyre\")\n",
    "dict_x={\"name\": \"naveen\"}\n",
    "phonenumber=87451258963\n",
    "personal_data=(str_x,float_x,tup_x,dict_x,phonenumber) # tuple that holds multiple datatypes\n",
    "for i in personal_data:\n",
    "    print(type(i))# prints datatype of all elements in a tuple"
   ]
  },
  {
   "cell_type": "code",
   "execution_count": 27,
   "id": "c56416e9-c991-4a67-b418-1bbb4fa89728",
   "metadata": {},
   "outputs": [
    {
     "data": {
      "text/plain": [
       "tuple"
      ]
     },
     "execution_count": 27,
     "metadata": {},
     "output_type": "execute_result"
    }
   ],
   "source": [
    "type(personal_data) # datatype of the tuple"
   ]
  },
  {
   "cell_type": "markdown",
   "id": "85b0bc32-f04f-4232-881f-551940edb5c1",
   "metadata": {},
   "source": [
    "## 26. Check if two tuples are identical."
   ]
  },
  {
   "cell_type": "code",
   "execution_count": 28,
   "id": "1a8f3d32-29c4-4cb5-b38e-8715f31e6a99",
   "metadata": {},
   "outputs": [
    {
     "name": "stdout",
     "output_type": "stream",
     "text": [
      "the tuple are identical\n"
     ]
    }
   ],
   "source": [
    "tup1=((25,35),(35,45))\n",
    "tup2=((25,35),(35,45))\n",
    "sol= tup1==tup2\n",
    "if sol:\n",
    "    print(\"the tuple are identical\")\n",
    "else:\n",
    "    print(\"the tuples are non identical\")"
   ]
  },
  {
   "cell_type": "markdown",
   "id": "374e1260-66d4-4c8d-8d09-b6c67b030d1d",
   "metadata": {},
   "source": [
    "## 27. Sort the elements of a tuple."
   ]
  },
  {
   "cell_type": "code",
   "execution_count": 33,
   "id": "d7f58fa4-886b-47fc-82bb-f955c36272e9",
   "metadata": {},
   "outputs": [
    {
     "data": {
      "text/plain": [
       "('a', 'l', 'g', 'o', 'r', 'i', 't', 'h', 'm')"
      ]
     },
     "execution_count": 33,
     "metadata": {},
     "output_type": "execute_result"
    }
   ],
   "source": [
    "tuple_str"
   ]
  },
  {
   "cell_type": "code",
   "execution_count": 34,
   "id": "ecc612eb-17d0-4837-83b5-f31141c30b23",
   "metadata": {},
   "outputs": [
    {
     "data": {
      "text/plain": [
       "['a', 'g', 'h', 'i', 'l', 'm', 'o', 'r', 't']"
      ]
     },
     "execution_count": 34,
     "metadata": {},
     "output_type": "execute_result"
    }
   ],
   "source": [
    "sorted(tuple_str) # sorts the elements in the tuple in ascending order"
   ]
  },
  {
   "cell_type": "code",
   "execution_count": 36,
   "id": "e417fa6c-e8cc-45e5-94d1-2900ce96f8c7",
   "metadata": {},
   "outputs": [
    {
     "data": {
      "text/plain": [
       "['t', 'r', 'o', 'm', 'l', 'i', 'h', 'g', 'a']"
      ]
     },
     "execution_count": 36,
     "metadata": {},
     "output_type": "execute_result"
    }
   ],
   "source": [
    "sorted(tuple_str,reverse=True) # sorts the elements in the tuple in descending order"
   ]
  },
  {
   "cell_type": "markdown",
   "id": "28f59b10-4427-433b-b76c-461553d02d0e",
   "metadata": {},
   "source": [
    "## 28. Convert a tuple of integers to a tuple of strings."
   ]
  },
  {
   "cell_type": "code",
   "execution_count": 8,
   "id": "d69844df-571d-497c-9d64-8a409cbaace6",
   "metadata": {},
   "outputs": [
    {
     "data": {
      "text/plain": [
       "('2', '5', '29')"
      ]
     },
     "execution_count": 8,
     "metadata": {},
     "output_type": "execute_result"
    }
   ],
   "source": [
    "string3= (2,5,29)\n",
    "inte=tuple(map(str,string3)) # using map fn takes strfn as parameter and string3 as iterable,\n",
    "# the str fn applies to  every element in the tuple,then the result is then converted using tuple () constructor fn\n",
    "inte"
   ]
  },
  {
   "cell_type": "markdown",
   "id": "ca5998c9-82a0-45b2-a1b7-72ea34d35dff",
   "metadata": {},
   "source": [
    "## 29. Convert a tuple of strings to a tuple of integers."
   ]
  },
  {
   "cell_type": "code",
   "execution_count": 6,
   "id": "7d075040-5d29-4b89-a7be-85e3c303e233",
   "metadata": {},
   "outputs": [
    {
     "name": "stdout",
     "output_type": "stream",
     "text": [
      "(8754, 78545, 7854, 852014662)\n"
     ]
    }
   ],
   "source": [
    "string2=(\"8754\",\"78545\",\"7854\",\"852014662\")\n",
    "sol=tuple(map(int,string2)) \n",
    "print(sol)"
   ]
  },
  {
   "cell_type": "markdown",
   "id": "ac9c2716-9b1f-4fe2-b1d0-70dbd3807dc0",
   "metadata": {},
   "source": [
    "## 30. Merge two tuples."
   ]
  },
  {
   "cell_type": "code",
   "execution_count": 10,
   "id": "964ef261-9903-4a39-8fe3-fde5f4c6a792",
   "metadata": {},
   "outputs": [
    {
     "data": {
      "text/plain": [
       "(2, 5, 29, '8754', '78545', '7854', '852014662')"
      ]
     },
     "execution_count": 10,
     "metadata": {},
     "output_type": "execute_result"
    }
   ],
   "source": [
    "string3= (2,5,29)\n",
    "string2=(\"8754\",\"78545\",\"7854\",\"852014662\")\n",
    "merged_tup= string3 + string2 # used + operator to merge two tuples\n",
    "merged_tup"
   ]
  },
  {
   "cell_type": "markdown",
   "id": "8e83b0bb-aae2-4630-ba23-c6fcada04f56",
   "metadata": {},
   "source": [
    "## 31. Flatten a nested tuple."
   ]
  },
  {
   "cell_type": "code",
   "execution_count": 14,
   "id": "f3f39b42-5255-4f4c-a0d1-cd5b569f7676",
   "metadata": {},
   "outputs": [
    {
     "data": {
      "text/plain": [
       "(1, 2, 3, 4, 5, 6, 9)"
      ]
     },
     "execution_count": 14,
     "metadata": {},
     "output_type": "execute_result"
    }
   ],
   "source": [
    "nested_tup=((1,2),(3,4),(5,6),9) # creating a tuple \n",
    "flattened=[] # a list to append the iterated elements\n",
    "for i in nested_tup: # iterating through nested_tup\n",
    "    if type(i)==tuple: # using if condition to check if the element is tuple\n",
    "        for j in i: #iterating through the elements inside i \n",
    "            flattened.append(j) # appending the element inside i\n",
    "    else:\n",
    "        flattened.append(i)# appending the element inside nested_tup\n",
    "            \n",
    "flatened_tup=tuple(flattened)\n",
    "flatened_tup"
   ]
  },
  {
   "cell_type": "markdown",
   "id": "6d9536ea-1c9d-4427-9169-ab501a6ed75f",
   "metadata": {},
   "source": [
    "##  32. Create a tuple of the first 5 prime numbers."
   ]
  },
  {
   "cell_type": "code",
   "execution_count": 30,
   "id": "bda50741-f326-40dd-9748-c79af1cc6535",
   "metadata": {},
   "outputs": [
    {
     "data": {
      "text/plain": [
       "(2, 3, 5, 7, 11)"
      ]
     },
     "execution_count": 30,
     "metadata": {},
     "output_type": "execute_result"
    }
   ],
   "source": [
    "pn=[] #creating a list to add prime numbers\n",
    "\n",
    "for i in range(2,25):# generator fn for generating numbers upto 25\n",
    "    if i==2 or i==3: #condition to add if the values are 3 and 2,because these numbers decide the values of first 5 primenumbers\n",
    "        pn.append(i)   \n",
    "    elif i%2==0 or i%3==0:# if the reminder for i is zero the loop is skipps the values using continue stment\n",
    "        continue\n",
    "    elif len(pn)<5 : ## if the len of the list is less ythan 5 the value of i is added\n",
    "        pn.append(i)\n",
    "    else:\n",
    "        break\n",
    "tuple(pn) # typecasting list as tuple\n"
   ]
  },
  {
   "cell_type": "markdown",
   "id": "607446b7-046b-432c-a413-86499b7d52ae",
   "metadata": {},
   "source": [
    "## 33. Check if a tuple is a palindrome.\n"
   ]
  },
  {
   "cell_type": "code",
   "execution_count": 39,
   "id": "0a3c2228-733d-4697-8d29-30a70b785be1",
   "metadata": {},
   "outputs": [
    {
     "name": "stdout",
     "output_type": "stream",
     "text": [
      "the given tuple is palindrome\n"
     ]
    }
   ],
   "source": [
    "tup=tuple(\"noon\")\n",
    "rev_tup=list(tup)[::-1]\n",
    "if list(tup) == rev_tup:\n",
    "    print(\"the given tuple is palindrome\" )\n",
    "else:\n",
    "    print(\"the given tuple is not a palindrome\" )\n"
   ]
  },
  {
   "cell_type": "markdown",
   "id": "d3c057e8-1c78-476d-81d7-801d54780593",
   "metadata": {},
   "source": [
    "## 34. Create a tuple of squares of numbers from 1 to 5.\n"
   ]
  },
  {
   "cell_type": "code",
   "execution_count": 2,
   "id": "04d47671-77a8-46b3-93f0-b16d57f635a1",
   "metadata": {},
   "outputs": [
    {
     "name": "stdout",
     "output_type": "stream",
     "text": [
      "(1, 4, 9, 16, 25)\n"
     ]
    }
   ],
   "source": [
    "l=[]\n",
    "for i in range(1,6):\n",
    "    l.append(i*i)\n",
    "print(tuple(l))    "
   ]
  },
  {
   "cell_type": "markdown",
   "id": "561fb687-d996-4d65-9ec2-b2c79deb0881",
   "metadata": {},
   "source": [
    "## 35. Filter out all even numbers from a tuple."
   ]
  },
  {
   "cell_type": "code",
   "execution_count": 4,
   "id": "294cad86-fd80-4475-ad22-d5b707e14067",
   "metadata": {},
   "outputs": [],
   "source": [
    "even_num=tuple(range(0,25))"
   ]
  },
  {
   "cell_type": "code",
   "execution_count": 5,
   "id": "7241b6bc-61c5-4cd3-be07-1de1a859a855",
   "metadata": {},
   "outputs": [
    {
     "data": {
      "text/plain": [
       "(0, 2, 4, 6, 8, 10, 12, 14, 16, 18, 20, 22, 24)"
      ]
     },
     "execution_count": 5,
     "metadata": {},
     "output_type": "execute_result"
    }
   ],
   "source": [
    "l_even=[] \n",
    "for i in even_num:\n",
    "    if i%2==0:\n",
    "        l_even.append(i)\n",
    "tuple(l_even)"
   ]
  },
  {
   "cell_type": "markdown",
   "id": "8a9f3682-b4c9-4f3b-b305-1377e91ea919",
   "metadata": {},
   "source": [
    "## 36. Multiply all elements in a tuple by 2.\n"
   ]
  },
  {
   "cell_type": "code",
   "execution_count": 11,
   "id": "7b013eab-350f-46f7-b349-296e891700ee",
   "metadata": {},
   "outputs": [],
   "source": [
    "multi_l=[]"
   ]
  },
  {
   "cell_type": "code",
   "execution_count": 13,
   "id": "f1bed07d-bafc-4ac7-bad7-889d6d8aab5c",
   "metadata": {},
   "outputs": [
    {
     "name": "stdout",
     "output_type": "stream",
     "text": [
      "(0, 2, 4, 6, 8, 10, 12, 14, 16, 18, 20, 22, 24, 26, 28, 30, 32, 34, 36, 38, 40, 42, 44, 46, 48, 0, 2, 4, 6, 8, 10, 12, 14, 16, 18, 20, 22, 24, 26, 28, 30, 32, 34, 36, 38, 40, 42, 44, 46, 48)\n"
     ]
    }
   ],
   "source": [
    "num=tuple(range(0,25))\n",
    "for i in num:\n",
    "    i=i*2\n",
    "    multi_l.append(i)\n",
    "print(tuple(multi_l))"
   ]
  },
  {
   "cell_type": "markdown",
   "id": "c23805fc-da68-4905-b807-94f28a3b549d",
   "metadata": {},
   "source": [
    "## 37. Create a tuple of random numbers."
   ]
  },
  {
   "cell_type": "code",
   "execution_count": 17,
   "id": "11dd4d6b-ed18-48f5-b4f7-3cded939316a",
   "metadata": {},
   "outputs": [
    {
     "name": "stdout",
     "output_type": "stream",
     "text": [
      "(75, 49, 11, 39, 62, 88, 9, 91, 78, 3, 57, 11, 65, 51, 20, 72, 38, 72, 17, 28, 68, 26, 23, 22, 49, 58, 70, 9, 46, 20, 48, 96, 25, 80, 9, 96, 51, 44, 63, 57, 44, 86, 84, 47, 48, 90, 87, 77, 53, 11, 22, 99, 5, 79, 11, 60, 21, 69, 52, 55, 49, 94, 24, 97, 58, 10, 8, 86, 82, 68, 99, 24, 34, 64, 70, 77, 30, 85, 79, 78, 75, 10, 82, 83, 85, 46, 24, 7, 21, 16, 69, 95, 11, 77, 65, 84, 52, 16, 64, 72, 76, 92, 33, 8, 32, 93, 45, 99, 62, 45, 33, 48, 32, 25, 30, 24, 22, 2, 94, 13, 31, 20, 62, 8, 26, 15, 87, 3, 37, 90, 66, 97, 2, 23, 89, 86, 48, 64, 99, 72, 81, 51, 82, 53, 49, 100, 48, 85, 22, 37, 58, 6, 89, 70, 22, 29, 98, 31, 35, 67, 84, 11, 87, 57, 57, 59, 12, 48, 39, 47, 10, 25, 48, 60, 58, 43, 71, 57, 66, 24, 76, 62, 60, 77, 37, 86, 5, 100, 24, 73, 97, 60, 29, 5, 40, 84, 92, 72, 13, 57)\n"
     ]
    }
   ],
   "source": [
    "import random\n",
    "random_num=tuple(random.randint(1,100) for x in range(200))\n",
    "print(random_num)"
   ]
  },
  {
   "cell_type": "markdown",
   "id": "dab47713-87da-4745-bad5-155f98bebf6a",
   "metadata": {},
   "source": [
    "## 38. Check if a tuple is sorted."
   ]
  },
  {
   "cell_type": "code",
   "execution_count": 41,
   "id": "e5570c7c-8d5c-45a3-af6a-c3faa1fae1ed",
   "metadata": {},
   "outputs": [
    {
     "name": "stdout",
     "output_type": "stream",
     "text": [
      "(75, 49, 11, 39, 62, 88, 9, 91, 78, 3, 57, 11, 65, 51, 20, 72, 38, 72, 17, 28, 68, 26, 23, 22, 49, 58, 70, 9, 46, 20, 48, 96, 25, 80, 9, 96, 51, 44, 63, 57, 44, 86, 84, 47, 48, 90, 87, 77, 53, 11, 22, 99, 5, 79, 11, 60, 21, 69, 52, 55, 49, 94, 24, 97, 58, 10, 8, 86, 82, 68, 99, 24, 34, 64, 70, 77, 30, 85, 79, 78, 75, 10, 82, 83, 85, 46, 24, 7, 21, 16, 69, 95, 11, 77, 65, 84, 52, 16, 64, 72, 76, 92, 33, 8, 32, 93, 45, 99, 62, 45, 33, 48, 32, 25, 30, 24, 22, 2, 94, 13, 31, 20, 62, 8, 26, 15, 87, 3, 37, 90, 66, 97, 2, 23, 89, 86, 48, 64, 99, 72, 81, 51, 82, 53, 49, 100, 48, 85, 22, 37, 58, 6, 89, 70, 22, 29, 98, 31, 35, 67, 84, 11, 87, 57, 57, 59, 12, 48, 39, 47, 10, 25, 48, 60, 58, 43, 71, 57, 66, 24, 76, 62, 60, 77, 37, 86, 5, 100, 24, 73, 97, 60, 29, 5, 40, 84, 92, 72, 13, 57)\n"
     ]
    }
   ],
   "source": [
    "print(random_num)"
   ]
  },
  {
   "cell_type": "code",
   "execution_count": 42,
   "id": "74b0dddc-d6ca-45a1-a4b8-176c0228f55b",
   "metadata": {},
   "outputs": [
    {
     "name": "stdout",
     "output_type": "stream",
     "text": [
      "The tuple is not sorted\n"
     ]
    }
   ],
   "source": [
    "if random_num==sorted((list(random_num))):\n",
    "    print(\"The tuple is sorted\")\n",
    "else:\n",
    "    print(\"The tuple is not sorted\")"
   ]
  },
  {
   "cell_type": "markdown",
   "id": "e3686f29-d2cb-4afc-bc79-d1e3777ef0e9",
   "metadata": {},
   "source": [
    "## 39. Rotate a tuple to the left by `n` positions."
   ]
  },
  {
   "cell_type": "code",
   "execution_count": 1,
   "id": "6d88840b-e068-43ad-9f01-c66a32e6b278",
   "metadata": {},
   "outputs": [],
   "source": [
    "from collections import deque"
   ]
  },
  {
   "cell_type": "code",
   "execution_count": 4,
   "id": "dd461472-caad-4338-af70-26f1331cec3f",
   "metadata": {},
   "outputs": [
    {
     "name": "stdout",
     "output_type": "stream",
     "text": [
      "(4, 5, 1, 2, 3)\n"
     ]
    }
   ],
   "source": [
    "ltup=(1,2,3,4,5)\n",
    "sol= deque(ltup) #converting into deque data structure\n",
    "sol.rotate(-3) # roating the element to the left 3rd position\n",
    "print(tuple(sol))"
   ]
  },
  {
   "cell_type": "markdown",
   "id": "5eebb645-3334-4c2b-9161-0d75dfcdc06f",
   "metadata": {},
   "source": [
    "## 40. Rotate a tuple to the right by `n` positions."
   ]
  },
  {
   "cell_type": "code",
   "execution_count": 6,
   "id": "25e3c808-ad3b-45da-b0c4-4b01bc7d7259",
   "metadata": {},
   "outputs": [
    {
     "name": "stdout",
     "output_type": "stream",
     "text": [
      "(3, 4, 5, 1, 2)\n"
     ]
    }
   ],
   "source": [
    "rtup=(1,2,3,4,5)\n",
    "sol=deque(rtup) #converting into deque data structure\n",
    "sol.rotate(3) # roating the element to the right 3rd position\n",
    "print(tuple(sol))"
   ]
  },
  {
   "cell_type": "markdown",
   "id": "3e821b97-5838-432d-bd6d-1eb58b1a8f64",
   "metadata": {},
   "source": [
    "## 41. Create a tuple of the first 5 Fibonacci numbers."
   ]
  },
  {
   "cell_type": "code",
   "execution_count": 22,
   "id": "56534fed-4fce-48ae-83f6-b5a9a71db07a",
   "metadata": {},
   "outputs": [],
   "source": [
    "fib=[]"
   ]
  },
  {
   "cell_type": "code",
   "execution_count": 23,
   "id": "7b5b8212-0555-4ff1-908b-b48cf6f4d0e6",
   "metadata": {},
   "outputs": [
    {
     "data": {
      "text/plain": [
       "(0, 1, 1, 2, 3)"
      ]
     },
     "execution_count": 23,
     "metadata": {},
     "output_type": "execute_result"
    }
   ],
   "source": [
    "a,b=0,1\n",
    "count=0\n",
    "while count<5:\n",
    "    fib.append(a)\n",
    "    c=a+b\n",
    "    a=b\n",
    "    b=c\n",
    "    count+=1\n",
    "tuple(fib)   "
   ]
  },
  {
   "cell_type": "markdown",
   "id": "0f326fa9-8ffe-40eb-ac27-36026ad7510e",
   "metadata": {},
   "source": [
    "## 42. Create a tuple from user input."
   ]
  },
  {
   "cell_type": "code",
   "execution_count": 29,
   "id": "5df44254-bed9-4cd1-bb58-aa72adc6f5c1",
   "metadata": {},
   "outputs": [
    {
     "name": "stdin",
     "output_type": "stream",
     "text": [
      "Enter a tuple value 75581113864\n"
     ]
    },
    {
     "name": "stdout",
     "output_type": "stream",
     "text": [
      "('7', '5', '5', '8', '1', '1', '1', '3', '8', '6', '4')\n"
     ]
    }
   ],
   "source": [
    "tupled_input=tuple(input(\"Enter a tuple value\"))\n",
    "print(tupled_input)"
   ]
  },
  {
   "cell_type": "markdown",
   "id": "12ec639c-3d5e-4b98-ae72-3b2eac4d2fa5",
   "metadata": {},
   "source": [
    "## 43. Swap two elements in a tuple."
   ]
  },
  {
   "cell_type": "code",
   "execution_count": 41,
   "id": "984a3ac7-c4ec-4d1e-8700-fa00f856ecb4",
   "metadata": {},
   "outputs": [
    {
     "data": {
      "text/plain": [
       "('7', '5', '5', '8', '1', '1', '1', '3', '8', '6', '4')"
      ]
     },
     "execution_count": 41,
     "metadata": {},
     "output_type": "execute_result"
    }
   ],
   "source": [
    "tupled_input\n",
    "listed_ip=list(tupled_input)\n",
    "tupled_input"
   ]
  },
  {
   "cell_type": "code",
   "execution_count": 42,
   "id": "6df43674-9841-4eff-bdff-dc2abcabfa20",
   "metadata": {},
   "outputs": [
    {
     "data": {
      "text/plain": [
       "('6', '5', '5', '8', '1', '1', '1', '3', '8', '7', '4')"
      ]
     },
     "execution_count": 42,
     "metadata": {},
     "output_type": "execute_result"
    }
   ],
   "source": [
    "listed_ip[0],listed_ip[9]=listed_ip[9],listed_ip[0]\n",
    "tuple(listed_ip)"
   ]
  },
  {
   "cell_type": "markdown",
   "id": "758552ea-b95b-4489-bf84-54a1d87e64e3",
   "metadata": {},
   "source": [
    "## 44. Reverse the elements of a tuple.\n"
   ]
  },
  {
   "cell_type": "code",
   "execution_count": 44,
   "id": "5f470f5d-fbff-498a-b3b8-aa7713b8cc0b",
   "metadata": {},
   "outputs": [
    {
     "data": {
      "text/plain": [
       "('4', '7', '8', '3', '1', '1', '1', '8', '5', '5', '6')"
      ]
     },
     "execution_count": 44,
     "metadata": {},
     "output_type": "execute_result"
    }
   ],
   "source": [
    "tup25=('6', '5', '5', '8', '1', '1', '1', '3', '8', '7', '4')\n",
    "tup25[::-1]"
   ]
  },
  {
   "cell_type": "markdown",
   "id": "33bcec11-61b9-49df-bd6e-e8fc82b247e4",
   "metadata": {},
   "source": [
    "## 45. Create a tuple of the first `n` powers of 2"
   ]
  },
  {
   "cell_type": "code",
   "execution_count": 59,
   "id": "09b30458-21f4-42ec-b660-20cbda79f97d",
   "metadata": {},
   "outputs": [
    {
     "name": "stdout",
     "output_type": "stream",
     "text": [
      "(0, 1, 4, 9, 16, 25, 36, 49, 64, 81)\n"
     ]
    }
   ],
   "source": [
    "powered_tup=tuple(i**2 for i in range(10))\n",
    "print(powered_tup)"
   ]
  },
  {
   "cell_type": "markdown",
   "id": "5d876309-2d53-4ffe-ab2b-5ebd533a575b",
   "metadata": {},
   "source": [
    "## 46. Find the longest string in a tuple of strings."
   ]
  },
  {
   "cell_type": "code",
   "execution_count": 2,
   "id": "33a68069-88c9-4100-90a3-a94203389fef",
   "metadata": {},
   "outputs": [
    {
     "data": {
      "text/plain": [
       "'custardapple'"
      ]
     },
     "execution_count": 2,
     "metadata": {},
     "output_type": "execute_result"
    }
   ],
   "source": [
    "l_tup=(\"apple\",\"orange\",\"pomogranate\",\"custardapple\",\"grapes\",\"Banana\",\"kiwi\")\n",
    "max(l_tup,key=len) # returns "
   ]
  },
  {
   "cell_type": "markdown",
   "id": "a04c4e5e-d69c-42ef-a6b9-d607476442fa",
   "metadata": {},
   "source": [
    "## 47. Find the shortest string in a tuple of strings."
   ]
  },
  {
   "cell_type": "code",
   "execution_count": 3,
   "id": "baab8855-700e-42f8-8b96-610abad08008",
   "metadata": {},
   "outputs": [
    {
     "data": {
      "text/plain": [
       "'kiwi'"
      ]
     },
     "execution_count": 3,
     "metadata": {},
     "output_type": "execute_result"
    }
   ],
   "source": [
    "l_tup=(\"apple\",\"orange\",\"pomogranate\",\"custardapple\",\"grapes\",\"Banana\",\"kiwi\")\n",
    "min(l_tup,key=len)"
   ]
  },
  {
   "cell_type": "markdown",
   "id": "e6486ea6-449b-43cc-a3e8-48b47d61a5d3",
   "metadata": {},
   "source": [
    "## 48. Create a tuple of the first `n` triangular numbers."
   ]
  },
  {
   "cell_type": "code",
   "execution_count": 5,
   "id": "a48e7e99-e440-4018-aa2d-e341183ea446",
   "metadata": {},
   "outputs": [
    {
     "name": "stdin",
     "output_type": "stream",
     "text": [
      "Enter the range:  25\n"
     ]
    },
    {
     "name": "stdout",
     "output_type": "stream",
     "text": [
      "(1, 3, 6, 10, 15, 21, 28, 36, 45, 55, 66, 78, 91, 105, 120, 136, 153, 171, 190, 210, 231, 253, 276, 300, 325)\n"
     ]
    }
   ],
   "source": [
    "ip=int(input(\"Enter the range: \")) # getting the range numbers as input\n",
    "t=[]\n",
    "for i in range(1,ip+1): # range fn to get the number of values\n",
    "    y=int(((i**2)+i)/2) # cal to get triangular num\n",
    "    t.append(y)#output\n",
    "print(tuple(t))"
   ]
  },
  {
   "cell_type": "markdown",
   "id": "9e295a36-b128-41b7-b748-13c39ea8e145",
   "metadata": {},
   "source": [
    "## 49. Check if a tuple contains another tuple as a subsequence"
   ]
  },
  {
   "cell_type": "code",
   "execution_count": 12,
   "id": "3e1f14fb-4316-413a-ba90-d8e4319c8810",
   "metadata": {},
   "outputs": [
    {
     "name": "stdout",
     "output_type": "stream",
     "text": [
      "The tuples conatins another tuple as subsequence\n"
     ]
    }
   ],
   "source": [
    "t1=tuple(range(5))\n",
    "t2=tuple(range(10))\n",
    "result= set(t1).issubset(t2)\n",
    "if result== True:\n",
    "    print(\"The tuples conatins another tuple as subsequence\")\n",
    "else:\n",
    "    print(\"The tuples does not conatins another tuple as subsequence\")\n",
    "    "
   ]
  },
  {
   "cell_type": "markdown",
   "id": "a4dc6be9-4317-4f84-9f7e-5d5e02c2972d",
   "metadata": {},
   "source": [
    "## 50. Create a tuple of alternating 1s and 0s of length `n`"
   ]
  },
  {
   "cell_type": "code",
   "execution_count": 29,
   "id": "9bccc711-95db-4e4e-a543-01dbd14207cd",
   "metadata": {},
   "outputs": [
    {
     "name": "stdin",
     "output_type": "stream",
     "text": [
      "Enter the Length of the tuple:  55\n"
     ]
    },
    {
     "name": "stdout",
     "output_type": "stream",
     "text": [
      "the length of the tuple is 55\n",
      " (0, 1, 0, 1, 0, 1, 0, 1, 0, 1, 0, 1, 0, 1, 0, 1, 0, 1, 0, 1, 0, 1, 0, 1, 0, 1, 0, 1, 0, 1, 0, 1, 0, 1, 0, 1, 0, 1, 0, 1, 0, 1, 0, 1, 0, 1, 0, 1, 0, 1, 0, 1, 0, 1, 0)\n"
     ]
    }
   ],
   "source": [
    "tu=(0,1)\n",
    "n=int(input(\"Enter the Length of the tuple: \"))\n",
    "n_tup=tuple(tu*n)[0:n] # tuple is multiplied for given input,and the specific index of input len is stored in a variable\n",
    "print(f\"the length of the tuple is {len(n_tup)}\\n {n_tup}\")"
   ]
  },
  {
   "cell_type": "markdown",
   "id": "9c6c2aa4-7f4e-4c0e-80e3-07e85ee27b17",
   "metadata": {},
   "source": [
    "# List Based Practice Problem :\n"
   ]
  },
  {
   "cell_type": "markdown",
   "id": "4257a5b0-ac47-4a14-8e32-72686f736769",
   "metadata": {},
   "source": [
    "## 1. Create a list with integers from 1 to 10."
   ]
  },
  {
   "cell_type": "code",
   "execution_count": 33,
   "id": "5295380d-9777-4f77-b7e4-a1f62bfb8b33",
   "metadata": {},
   "outputs": [
    {
     "data": {
      "text/plain": [
       "[1, 2, 3, 4, 5, 6, 7, 8, 9, 10]"
      ]
     },
     "execution_count": 33,
     "metadata": {},
     "output_type": "execute_result"
    }
   ],
   "source": [
    "li=list(range(1,11))\n",
    "'''range fn is used with start value as 1 ,stop value as 11'''\n",
    "li"
   ]
  },
  {
   "cell_type": "markdown",
   "id": "0c5f14a8-e761-4110-a308-fb7162d7b0bc",
   "metadata": {},
   "source": [
    "## 2. Find the length of a list without using the `len()` function."
   ]
  },
  {
   "cell_type": "code",
   "execution_count": 49,
   "id": "ebfc967d-3e34-4923-938a-74d1c80240fc",
   "metadata": {},
   "outputs": [
    {
     "name": "stdout",
     "output_type": "stream",
     "text": [
      "The length of the list[1, 2, 3, 4, 5, 6, 7, 8, 9, 10] is 10\n"
     ]
    }
   ],
   "source": [
    "l=list(range(1,11))\n",
    "\n",
    "for i in l:\n",
    "    i+=1\n",
    "\n",
    "print(f\"The length of the list{l} is {i-1}\") "
   ]
  },
  {
   "cell_type": "markdown",
   "id": "334edc67-01db-40c0-a8df-fb4894654dff",
   "metadata": {},
   "source": [
    "## 3. Append an element to the end of a list."
   ]
  },
  {
   "cell_type": "code",
   "execution_count": 51,
   "id": "d361d041-11e5-45fb-bea6-a997cd128b29",
   "metadata": {},
   "outputs": [
    {
     "name": "stdout",
     "output_type": "stream",
     "text": [
      "[1, 2, 3, 4, 5, 6, 7, 8, 9, 10, 'numbers']\n"
     ]
    }
   ],
   "source": [
    "la=list(range(1,11))\n",
    "la.append(\"numbers\") # append fn adds an elemnt end of the list\n",
    "print(la)"
   ]
  },
  {
   "cell_type": "markdown",
   "id": "0ce793e1-eef5-40ff-9a25-b2db541ec21b",
   "metadata": {},
   "source": [
    "## 4. Insert an element at a specific index in a list"
   ]
  },
  {
   "cell_type": "code",
   "execution_count": 67,
   "id": "6da7c3f6-8faf-402c-a755-ec74dac158a0",
   "metadata": {},
   "outputs": [
    {
     "data": {
      "text/plain": [
       "['batman', 'aquaman', 'flash', 'superman', 'wonderwoman']"
      ]
     },
     "execution_count": 67,
     "metadata": {},
     "output_type": "execute_result"
    }
   ],
   "source": [
    "lis=['batman',\"aquaman\",\"superman\",\"wonderwoman\"]\n",
    "lis.insert(2,\"flash\") # inserting flash at 2 index value\n",
    "lis"
   ]
  },
  {
   "cell_type": "markdown",
   "id": "3e98d4c5-0784-4bb7-a2a9-b1de5bae79e7",
   "metadata": {},
   "source": [
    "## 5. Remove an element from a list by its value."
   ]
  },
  {
   "cell_type": "code",
   "execution_count": 68,
   "id": "468b1924-5141-409a-b465-efb5843843c4",
   "metadata": {},
   "outputs": [
    {
     "data": {
      "text/plain": [
       "['batman', 'aquaman', 'superman', 'wonderwoman']"
      ]
     },
     "execution_count": 68,
     "metadata": {},
     "output_type": "execute_result"
    }
   ],
   "source": [
    "lis.remove(\"flash\") # removing an element using value\n",
    "lis"
   ]
  },
  {
   "cell_type": "markdown",
   "id": "a9fab8a0-104a-4c74-ad05-5bb8aad5afe7",
   "metadata": {},
   "source": [
    "## 6. Remove an element from a list by its index."
   ]
  },
  {
   "cell_type": "code",
   "execution_count": 69,
   "id": "3f128bb0-b30e-45fb-9cb7-831fc2d554c3",
   "metadata": {},
   "outputs": [
    {
     "data": {
      "text/plain": [
       "['batman', 'aquaman', 'superman']"
      ]
     },
     "execution_count": 69,
     "metadata": {},
     "output_type": "execute_result"
    }
   ],
   "source": [
    "lis.remove(lis[3]) # removing an element using index\n",
    "lis"
   ]
  },
  {
   "cell_type": "markdown",
   "id": "08006ee7-16a7-4fbb-8327-4357b548179c",
   "metadata": {},
   "source": [
    "## 7. Check if an element exists in a list."
   ]
  },
  {
   "cell_type": "code",
   "execution_count": 70,
   "id": "faffdf0b-9d6e-465e-9703-de22780379fe",
   "metadata": {},
   "outputs": [
    {
     "data": {
      "text/plain": [
       "['batman', 'aquaman', 'superman']"
      ]
     },
     "execution_count": 70,
     "metadata": {},
     "output_type": "execute_result"
    }
   ],
   "source": [
    "lis"
   ]
  },
  {
   "cell_type": "code",
   "execution_count": 71,
   "id": "6f3299de-19a2-48f1-b7f0-a6cf5d3bfb8a",
   "metadata": {},
   "outputs": [
    {
     "name": "stdout",
     "output_type": "stream",
     "text": [
      "The element exists in a list\n"
     ]
    }
   ],
   "source": [
    "if \"aquaman\" in lis:\n",
    "    print(\"The element exists in a list\")\n",
    "else:\n",
    "    print(\"The element does not exists in a list\")"
   ]
  },
  {
   "cell_type": "markdown",
   "id": "ddb84e19-cf51-44ef-814c-b998b44e3172",
   "metadata": {},
   "source": [
    "## 8. Find the index of the first occurrence of an element in a list."
   ]
  },
  {
   "cell_type": "code",
   "execution_count": 79,
   "id": "137f3a5c-abbe-4250-9c71-404c8fc56638",
   "metadata": {},
   "outputs": [
    {
     "name": "stdin",
     "output_type": "stream",
     "text": [
      "Enter the element to search:  2\n"
     ]
    },
    {
     "name": "stdout",
     "output_type": "stream",
     "text": [
      "the first occurance of 2 is 11\n"
     ]
    }
   ],
   "source": [
    "n=[25,789,233,3,4,5,6,7,8,9,5,2,2,1,552,2,1,2,2,1,4184,8,51,66]\n",
    "e=int(input(\"Enter the element to search: \"))\n",
    "print(f\"the first occurance of {e} is {n.index(e)}\") #using index fn to find the first occurance"
   ]
  },
  {
   "cell_type": "markdown",
   "id": "68cd762a-73f6-43ee-99af-0a2f4657f57f",
   "metadata": {},
   "source": [
    "## 9. Count the occurrences of an element in a list."
   ]
  },
  {
   "cell_type": "code",
   "execution_count": 81,
   "id": "6f939b49-783a-46af-97ab-bc2f4061ed43",
   "metadata": {},
   "outputs": [
    {
     "name": "stdin",
     "output_type": "stream",
     "text": [
      "Enter the element to count:  2\n"
     ]
    },
    {
     "name": "stdout",
     "output_type": "stream",
     "text": [
      "the occurance of 2 is 5\n"
     ]
    }
   ],
   "source": [
    "n=[25,789,233,3,4,5,6,7,8,9,5,2,2,1,552,2,1,2,2,1,4184,8,51,66]\n",
    "e=int(input(\"Enter the element to count: \"))\n",
    "print(f\"the occurance of {e} is {n.count(e)}\") #using count fn to find the occurances"
   ]
  },
  {
   "cell_type": "markdown",
   "id": "74831ed9-bed4-4e6b-bdb6-47c10d69edce",
   "metadata": {},
   "source": [
    "## 10. Reverse the order of elements in a list.\n"
   ]
  },
  {
   "cell_type": "code",
   "execution_count": 86,
   "id": "93b50aed-7105-432d-85e8-d6f473dc08e8",
   "metadata": {},
   "outputs": [
    {
     "name": "stdout",
     "output_type": "stream",
     "text": [
      "The reversed ordred list is; \n",
      " ['naval ravikanth', 'elon musk', 'sudharshanan ganapathy', 'gary v', 'andrew tate']\n"
     ]
    }
   ],
   "source": [
    "influencers=[\"andrew tate\",\"gary v\",'sudharshanan ganapathy','elon musk','naval ravikanth']\n",
    "print(f\"The reversed ordred list is; \\n {influencers[::-1]}\")"
   ]
  },
  {
   "cell_type": "markdown",
   "id": "1326cde6-6751-493e-bfd6-c2281e34ffa5",
   "metadata": {},
   "source": [
    "## 11. Sort a list in ascending order."
   ]
  },
  {
   "cell_type": "code",
   "execution_count": 90,
   "id": "71e2e4ab-8ccf-4a86-b837-c94f1ffd0c7f",
   "metadata": {},
   "outputs": [
    {
     "name": "stdout",
     "output_type": "stream",
     "text": [
      "[1, 1, 1, 2, 2, 2, 2, 2, 3, 4, 5, 5, 6, 7, 8, 8, 9, 25, 51, 66, 233, 552, 789, 4184]\n"
     ]
    }
   ],
   "source": [
    "n=[25,789,233,3,4,5,6,7,8,9,5,2,2,1,552,2,1,2,2,1,4184,8,51,66]\n",
    "sorted_n=sorted(n)\n",
    "print(sorted_n)"
   ]
  },
  {
   "cell_type": "markdown",
   "id": "b5f9e8c8-b7bf-4894-ac5d-fe8e4daab87a",
   "metadata": {},
   "source": [
    "## 12. Sort a list in descending order."
   ]
  },
  {
   "cell_type": "code",
   "execution_count": 93,
   "id": "e050d095-d013-45bb-bca6-b364f9ed1914",
   "metadata": {},
   "outputs": [
    {
     "name": "stdout",
     "output_type": "stream",
     "text": [
      "[4184, 789, 552, 233, 66, 51, 25, 9, 8, 8, 7, 6, 5, 5, 4, 3, 2, 2, 2, 2, 2, 1, 1, 1]\n"
     ]
    }
   ],
   "source": [
    "n=[25,789,233,3,4,5,6,7,8,9,5,2,2,1,552,2,1,2,2,1,4184,8,51,66]\n",
    "sorted_n=sorted(n,reverse=True)\n",
    "print(sorted_n)"
   ]
  },
  {
   "cell_type": "markdown",
   "id": "b98c8d86-a09d-447e-af43-7029856ede0a",
   "metadata": {},
   "source": [
    "## 13. Create a list of even numbers from 1 to 20."
   ]
  },
  {
   "cell_type": "code",
   "execution_count": 97,
   "id": "ab406a0d-5760-4e4f-bf38-ad41b359bd2f",
   "metadata": {},
   "outputs": [
    {
     "name": "stdout",
     "output_type": "stream",
     "text": [
      "[2, 4, 6, 8, 10, 12, 14, 16, 18, 20]\n"
     ]
    }
   ],
   "source": [
    "even_numbers=list(range(2,21,2))\n",
    "print(even_numbers)"
   ]
  },
  {
   "cell_type": "markdown",
   "id": "95871577-8cc0-470c-bc73-0865d4caab24",
   "metadata": {},
   "source": [
    "## 14. Create a list of odd numbers from 1 to 20."
   ]
  },
  {
   "cell_type": "code",
   "execution_count": 98,
   "id": "27f15125-de5d-447d-ac39-2aecd5cf77fb",
   "metadata": {},
   "outputs": [
    {
     "name": "stdout",
     "output_type": "stream",
     "text": [
      "[1, 3, 5, 7, 9, 11, 13, 15, 17, 19]\n"
     ]
    }
   ],
   "source": [
    "odd_num=list(range(1,20,2))\n",
    "print(odd_num)"
   ]
  },
  {
   "cell_type": "markdown",
   "id": "0848533e-625d-4fb1-ab89-112067a26438",
   "metadata": {},
   "source": [
    "## 15. Find the sum of all elements in a list.\n"
   ]
  },
  {
   "cell_type": "code",
   "execution_count": 102,
   "id": "7fe0b550-dd0c-48d0-aee3-eeeaad101bc3",
   "metadata": {},
   "outputs": [
    {
     "data": {
      "text/plain": [
       "[1, 3, 5, 7, 9, 11, 13, 15, 17, 19]"
      ]
     },
     "execution_count": 102,
     "metadata": {},
     "output_type": "execute_result"
    }
   ],
   "source": [
    "odd_num"
   ]
  },
  {
   "cell_type": "code",
   "execution_count": 103,
   "id": "782f6b6a-591f-45dc-99d3-fc26a95d3e21",
   "metadata": {},
   "outputs": [
    {
     "data": {
      "text/plain": [
       "100"
      ]
     },
     "execution_count": 103,
     "metadata": {},
     "output_type": "execute_result"
    }
   ],
   "source": [
    "sum(odd_num)"
   ]
  },
  {
   "cell_type": "markdown",
   "id": "cae8dc1d-685f-4568-ac64-022fb03d0b32",
   "metadata": {},
   "source": [
    "## 16. Find the maximum value in a list."
   ]
  },
  {
   "cell_type": "code",
   "execution_count": 104,
   "id": "29f8b69a-9350-4e78-86bb-70024b5d7981",
   "metadata": {},
   "outputs": [
    {
     "data": {
      "text/plain": [
       "[2, 4, 6, 8, 10, 12, 14, 16, 18, 20]"
      ]
     },
     "execution_count": 104,
     "metadata": {},
     "output_type": "execute_result"
    }
   ],
   "source": [
    "even_numbers"
   ]
  },
  {
   "cell_type": "code",
   "execution_count": 105,
   "id": "f455f3c5-9ace-433a-bbf3-5a1f0a46407a",
   "metadata": {},
   "outputs": [
    {
     "data": {
      "text/plain": [
       "20"
      ]
     },
     "execution_count": 105,
     "metadata": {},
     "output_type": "execute_result"
    }
   ],
   "source": [
    "max(even_numbers)"
   ]
  },
  {
   "cell_type": "markdown",
   "id": "0e0e4c05-619c-4b2f-afdb-4267cf79842d",
   "metadata": {},
   "source": [
    "## 17. Find the minimum value in a list."
   ]
  },
  {
   "cell_type": "code",
   "execution_count": 107,
   "id": "88ea60b8-c293-49dd-a986-690145234279",
   "metadata": {},
   "outputs": [
    {
     "data": {
      "text/plain": [
       "[2, 4, 6, 8, 10, 12, 14, 16, 18, 20]"
      ]
     },
     "execution_count": 107,
     "metadata": {},
     "output_type": "execute_result"
    }
   ],
   "source": [
    "even_numbers"
   ]
  },
  {
   "cell_type": "code",
   "execution_count": 108,
   "id": "d6d4b3e9-b950-4edb-aa70-ca9510677ed5",
   "metadata": {},
   "outputs": [
    {
     "data": {
      "text/plain": [
       "2"
      ]
     },
     "execution_count": 108,
     "metadata": {},
     "output_type": "execute_result"
    }
   ],
   "source": [
    "min(even_numbers)"
   ]
  },
  {
   "cell_type": "markdown",
   "id": "d52c0e9e-69f7-462a-88da-210aaf820403",
   "metadata": {},
   "source": [
    "## 18. Create a list of squares of numbers from 1 to 10."
   ]
  },
  {
   "cell_type": "code",
   "execution_count": 113,
   "id": "c2ce544e-1db2-41ae-9738-d683c717c723",
   "metadata": {},
   "outputs": [
    {
     "name": "stdout",
     "output_type": "stream",
     "text": [
      "[1, 4, 9, 16, 25, 36, 49, 64, 81, 100]\n"
     ]
    }
   ],
   "source": [
    "squared_list=[x**2 for x in range(1,11)]\n",
    "print(squared_list)\n"
   ]
  },
  {
   "cell_type": "markdown",
   "id": "14503881-174e-47dc-885b-65b288aad5a6",
   "metadata": {},
   "source": [
    "## 19. Create a list of random numbers"
   ]
  },
  {
   "cell_type": "code",
   "execution_count": 37,
   "id": "82a11443-2121-4220-ba57-d03957e374e0",
   "metadata": {},
   "outputs": [
    {
     "name": "stdout",
     "output_type": "stream",
     "text": [
      "[66, 112, 119, 177, 103, 113, 138, 89, 145, 138, 51, 146, 69, 188, 172, 50, 145, 111, 61, 164, 186, 82, 189, 98, 197, 137, 62, 100, 159, 94, 96, 190, 100, 184, 120, 82, 169, 125, 98, 132, 88, 182, 124, 76, 159, 116, 77, 89, 126, 65]\n"
     ]
    }
   ],
   "source": [
    "import random\n",
    "ran_list= list(random.randint(50,200) for x in range(50))\n",
    "print(ran_list)"
   ]
  },
  {
   "cell_type": "markdown",
   "id": "9c8d568a-6016-480d-b7d6-6302361be33a",
   "metadata": {},
   "source": [
    "## 20. Remove duplicates from a list."
   ]
  },
  {
   "cell_type": "code",
   "execution_count": 121,
   "id": "91e6e3a8-ed8e-489a-8b26-395ff7727cec",
   "metadata": {},
   "outputs": [
    {
     "name": "stdout",
     "output_type": "stream",
     "text": [
      "[4184, 789, 552, 233, 66, 51, 25, 9, 8, 8, 7, 6, 5, 5, 4, 3, 2, 2, 2, 2, 2, 1, 1, 1]\n"
     ]
    }
   ],
   "source": [
    "print(sorted_n)"
   ]
  },
  {
   "cell_type": "code",
   "execution_count": 122,
   "id": "e72034e2-bbc4-47ff-82c9-98f49ab91e06",
   "metadata": {},
   "outputs": [
    {
     "data": {
      "text/plain": [
       "[1, 66, 3, 4, 5, 6, 7, 552, 233, 9, 8, 2, 51, 789, 4184, 25]"
      ]
     },
     "execution_count": 122,
     "metadata": {},
     "output_type": "execute_result"
    }
   ],
   "source": [
    "list(set(sorted_n)) # since set does not holds duplicates"
   ]
  },
  {
   "cell_type": "markdown",
   "id": "fdcfa5af-fe74-45f3-9c1f-6df0e275adfc",
   "metadata": {},
   "source": [
    "## 21. Find the common elements between two lists.\n"
   ]
  },
  {
   "cell_type": "code",
   "execution_count": 123,
   "id": "926fe8f2-5dc5-417a-b34f-d5ee304def04",
   "metadata": {},
   "outputs": [
    {
     "name": "stdout",
     "output_type": "stream",
     "text": [
      "['bmw']\n"
     ]
    }
   ],
   "source": [
    "\n",
    "car=[\"benz\",\"bmw\",\"volkswagen\",'porche',\"tata\"]\n",
    "bike=[\"tvs\",\"bmw\",\"yamaha\",\"triumph\"]\n",
    "common = [value for value in car if value in bike]\n",
    "print(common)\n"
   ]
  },
  {
   "cell_type": "markdown",
   "id": "53afdf25-73bc-4d6d-a16b-0b79141b5fb6",
   "metadata": {},
   "source": [
    "## 22. Find the difference between two lists."
   ]
  },
  {
   "cell_type": "code",
   "execution_count": 13,
   "id": "d359bea8-4e5c-4088-bf46-1ecfe08dcb56",
   "metadata": {},
   "outputs": [
    {
     "data": {
      "text/plain": [
       "[25, 20, 99]"
      ]
     },
     "execution_count": 13,
     "metadata": {},
     "output_type": "execute_result"
    }
   ],
   "source": [
    "list1=[25,35,20,18,99]\n",
    "list2=[35,88,18]\n",
    "result_list=[i for i in list1 if i not in list2]\n",
    "result_list"
   ]
  },
  {
   "cell_type": "markdown",
   "id": "3692487f-8228-4e15-9427-620f715a3d7a",
   "metadata": {},
   "source": [
    "## 23. Merge two lists.\n"
   ]
  },
  {
   "cell_type": "code",
   "execution_count": 14,
   "id": "164c4feb-28d6-4112-ae14-3cd1122e5a52",
   "metadata": {},
   "outputs": [
    {
     "data": {
      "text/plain": [
       "[25, 20, 99]"
      ]
     },
     "execution_count": 14,
     "metadata": {},
     "output_type": "execute_result"
    }
   ],
   "source": [
    "result_list"
   ]
  },
  {
   "cell_type": "code",
   "execution_count": 16,
   "id": "effa1b8f-0513-48fa-b935-ca6df52c091e",
   "metadata": {},
   "outputs": [
    {
     "data": {
      "text/plain": [
       "[35, 88, 18]"
      ]
     },
     "execution_count": 16,
     "metadata": {},
     "output_type": "execute_result"
    }
   ],
   "source": [
    "list2"
   ]
  },
  {
   "cell_type": "code",
   "execution_count": 18,
   "id": "b632eb8b-0671-4368-a6b0-773f0037744e",
   "metadata": {},
   "outputs": [
    {
     "data": {
      "text/plain": [
       "[25, 20, 99, 35, 88, 18]"
      ]
     },
     "execution_count": 18,
     "metadata": {},
     "output_type": "execute_result"
    }
   ],
   "source": [
    "merged_list= result_list + list2\n",
    "merged_list"
   ]
  },
  {
   "cell_type": "markdown",
   "id": "8a5fa22d-2b77-48e9-b892-25f54a70cd13",
   "metadata": {},
   "source": [
    "## 24. Multiply all elements in a list by 2"
   ]
  },
  {
   "cell_type": "code",
   "execution_count": 19,
   "id": "23a11584-6e04-48d1-b785-312a25456705",
   "metadata": {},
   "outputs": [
    {
     "data": {
      "text/plain": [
       "[25, 20, 99, 35, 88, 18]"
      ]
     },
     "execution_count": 19,
     "metadata": {},
     "output_type": "execute_result"
    }
   ],
   "source": [
    "merged_list"
   ]
  },
  {
   "cell_type": "code",
   "execution_count": 21,
   "id": "db3d608f-5a27-412c-85d5-307ccfedc31e",
   "metadata": {},
   "outputs": [
    {
     "name": "stdout",
     "output_type": "stream",
     "text": [
      "[50, 40, 198, 70, 176, 36]\n"
     ]
    }
   ],
   "source": [
    "multi_list= list(i*2 for i in merged_list)\n",
    "print(multi_list)"
   ]
  },
  {
   "cell_type": "markdown",
   "id": "d9a2f074-b090-4e5a-b153-f98ddd09c60d",
   "metadata": {},
   "source": [
    "## 25. Filter out all even numbers from a list"
   ]
  },
  {
   "cell_type": "code",
   "execution_count": 38,
   "id": "8b105bdf-2595-48ab-86ad-e07e4d48958d",
   "metadata": {},
   "outputs": [
    {
     "name": "stdout",
     "output_type": "stream",
     "text": [
      "[66, 112, 119, 177, 103, 113, 138, 89, 145, 138, 51, 146, 69, 188, 172, 50, 145, 111, 61, 164, 186, 82, 189, 98, 197, 137, 62, 100, 159, 94, 96, 190, 100, 184, 120, 82, 169, 125, 98, 132, 88, 182, 124, 76, 159, 116, 77, 89, 126, 65]\n"
     ]
    }
   ],
   "source": [
    "print(ran_list)"
   ]
  },
  {
   "cell_type": "code",
   "execution_count": 41,
   "id": "a07ec8cb-ae92-4df4-9148-d9be00e840a9",
   "metadata": {},
   "outputs": [
    {
     "name": "stdout",
     "output_type": "stream",
     "text": [
      "[66, 112, 138, 138, 146, 188, 172, 50, 164, 186, 82, 98, 62, 100, 94, 96, 190, 100, 184, 120, 82, 98, 132, 88, 182, 124, 76, 116, 126]\n"
     ]
    }
   ],
   "source": [
    "eve_num= list(i for i in ran_list if i%2==0)\n",
    "print(eve_num)"
   ]
  },
  {
   "cell_type": "markdown",
   "id": "e5dba488-06e5-4f7c-a25d-4ea42bb67df2",
   "metadata": {},
   "source": [
    "## 26. Convert a list of strings to a list of integers."
   ]
  },
  {
   "cell_type": "code",
   "execution_count": 48,
   "id": "7b72006d-8e02-44ef-b8d1-b137210d2127",
   "metadata": {},
   "outputs": [],
   "source": [
    "stringl=['1', '2', '3', '4', '5', '6', '7', '8', '9', '10']"
   ]
  },
  {
   "cell_type": "code",
   "execution_count": 50,
   "id": "5db21e09-9867-4388-b649-dec0a6f2676b",
   "metadata": {},
   "outputs": [
    {
     "data": {
      "text/plain": [
       "[1, 2, 3, 4, 5, 6, 7, 8, 9, 10]"
      ]
     },
     "execution_count": 50,
     "metadata": {},
     "output_type": "execute_result"
    }
   ],
   "source": [
    "intl=list(map(int,stringl))\n",
    "intl"
   ]
  },
  {
   "cell_type": "markdown",
   "id": "249e0e8d-f476-438c-83f6-2760cea444c1",
   "metadata": {},
   "source": [
    "## 27. Convert a list of integers to a list of strings."
   ]
  },
  {
   "cell_type": "code",
   "execution_count": 51,
   "id": "aac04926-f2ac-4cdd-9ed3-480f7021a762",
   "metadata": {},
   "outputs": [
    {
     "data": {
      "text/plain": [
       "[1, 2, 3, 4, 5, 6, 7, 8, 9, 10]"
      ]
     },
     "execution_count": 51,
     "metadata": {},
     "output_type": "execute_result"
    }
   ],
   "source": [
    "intl"
   ]
  },
  {
   "cell_type": "code",
   "execution_count": 52,
   "id": "decabf82-b401-46bf-9c71-1578919d8c88",
   "metadata": {},
   "outputs": [
    {
     "name": "stdout",
     "output_type": "stream",
     "text": [
      "['1', '2', '3', '4', '5', '6', '7', '8', '9', '10']\n"
     ]
    }
   ],
   "source": [
    "str_l=list(map(str,intl))\n",
    "print(str_l)"
   ]
  },
  {
   "cell_type": "markdown",
   "id": "22d78812-1d96-4fae-9cb5-40e241b03609",
   "metadata": {},
   "source": [
    "## 28. Flatten a nested list.\n"
   ]
  },
  {
   "cell_type": "code",
   "execution_count": 56,
   "id": "97358c33-6db9-4a3a-b6fb-391cd7a2f0fb",
   "metadata": {},
   "outputs": [
    {
     "data": {
      "text/plain": [
       "[1, 2, 3, 4, 5, 6, 7, 8]"
      ]
     },
     "execution_count": 56,
     "metadata": {},
     "output_type": "execute_result"
    }
   ],
   "source": [
    "nested_list = [[1, 2, 3], [4, 5], [6, 7, 8]]\n",
    "f_list=[i for j in nested_list for i in j ]\n",
    "f_list"
   ]
  },
  {
   "cell_type": "markdown",
   "id": "9955da89-d581-4c2a-aa6e-603fd4c0e9ce",
   "metadata": {},
   "source": [
    "## 29. Create a list of the first 10 Fibonacci numbers"
   ]
  },
  {
   "cell_type": "code",
   "execution_count": 60,
   "id": "3f49b638-e6f4-42ce-8e9e-83a61c27fb5a",
   "metadata": {},
   "outputs": [],
   "source": [
    "fib_list=[]"
   ]
  },
  {
   "cell_type": "code",
   "execution_count": 61,
   "id": "7921508f-4c4f-4cf3-8725-c190b758ac9b",
   "metadata": {},
   "outputs": [
    {
     "name": "stdout",
     "output_type": "stream",
     "text": [
      "[0, 1, 1, 2, 3, 5, 8, 13, 21, 34]\n"
     ]
    }
   ],
   "source": [
    "a,b=0,1\n",
    "count=0\n",
    "while count<10:\n",
    "    fib_list.append(a)\n",
    "    c=a+b\n",
    "    a=b\n",
    "    b=c\n",
    "    count+=1\n",
    "print(fib_list)"
   ]
  },
  {
   "cell_type": "markdown",
   "id": "44803488-a58b-4368-b234-fd9042c121cb",
   "metadata": {},
   "source": [
    "## 30. Check if a list is sorted."
   ]
  },
  {
   "cell_type": "code",
   "execution_count": 65,
   "id": "e171c576-55dc-4130-977c-dcf9d480b0af",
   "metadata": {},
   "outputs": [
    {
     "name": "stdout",
     "output_type": "stream",
     "text": [
      "The list is sorted\n"
     ]
    }
   ],
   "source": [
    "if fib_list==sorted(fib_list):\n",
    "    print(\"The list is sorted\")\n",
    "else:\n",
    "    print(\"The list is not sorted\")\n",
    "    "
   ]
  },
  {
   "cell_type": "markdown",
   "id": "9345f6e6-ca51-44d9-829a-23b80d9ed706",
   "metadata": {},
   "source": [
    "## 31. Rotate a list to the left by `n` positions."
   ]
  },
  {
   "cell_type": "code",
   "execution_count": 72,
   "id": "5ee830ef-189e-42bd-bd62-8681eee5b1fe",
   "metadata": {},
   "outputs": [],
   "source": [
    "from collections import deque"
   ]
  },
  {
   "cell_type": "code",
   "execution_count": 81,
   "id": "ee785595-daa5-4c69-8999-86a8e992f1c8",
   "metadata": {},
   "outputs": [
    {
     "name": "stdout",
     "output_type": "stream",
     "text": [
      "[3, 4, 5, 6, 7, 8, 9, 10, 11, 12, 13, 14, 15, 16, 17, 18, 19, 0, 1, 2]\n"
     ]
    }
   ],
   "source": [
    "n_list=list(range(20))\n",
    "res=deque(n_list)\n",
    "res.rotate(-3)\n",
    "print(list(res))"
   ]
  },
  {
   "cell_type": "markdown",
   "id": "d9c2557b-0cc5-4858-bf56-6ec7d51054aa",
   "metadata": {},
   "source": [
    "## 32. Rotate a list to the right by `n` positions.\n"
   ]
  },
  {
   "cell_type": "code",
   "execution_count": 82,
   "id": "fc4f8b13-88f0-4cd6-ac98-9016f26ae817",
   "metadata": {},
   "outputs": [
    {
     "name": "stdout",
     "output_type": "stream",
     "text": [
      "[15, 16, 17, 18, 19, 0, 1, 2, 3, 4, 5, 6, 7, 8, 9, 10, 11, 12, 13, 14]\n"
     ]
    }
   ],
   "source": [
    "n_list=list(range(20))\n",
    "res=deque(n_list)\n",
    "res.rotate(5)\n",
    "print(list(res))"
   ]
  },
  {
   "cell_type": "markdown",
   "id": "832c633f-2565-4b28-8937-a0aa5f44734d",
   "metadata": {},
   "source": [
    "## 33. Create a list of prime numbers up to 50."
   ]
  },
  {
   "cell_type": "code",
   "execution_count": 2,
   "id": "6c2bf720-64b1-4708-9e1f-c970255e11db",
   "metadata": {},
   "outputs": [],
   "source": [
    "prime_num=[2,3,5,7]+[i for i in range(50) if i%2!=0 and i%3!=0 and i%5!=0 and i%7!=0]"
   ]
  },
  {
   "cell_type": "code",
   "execution_count": 3,
   "id": "b26a2960-91e7-498e-a27d-84a50fdb3293",
   "metadata": {},
   "outputs": [
    {
     "data": {
      "text/plain": [
       "[1, 2, 3, 5, 7, 11, 13, 17, 19, 23, 29, 31, 37, 41, 43, 47]"
      ]
     },
     "execution_count": 3,
     "metadata": {},
     "output_type": "execute_result"
    }
   ],
   "source": [
    "sorted(prime_num)"
   ]
  },
  {
   "cell_type": "markdown",
   "id": "2161ca6b-1854-42fd-a79a-c6f088a5bcae",
   "metadata": {},
   "source": [
    "## 34. Split a list into chunks of size `n`."
   ]
  },
  {
   "cell_type": "code",
   "execution_count": 4,
   "id": "afd7dd88-72b3-4c22-8161-0b9b522362ae",
   "metadata": {},
   "outputs": [
    {
     "data": {
      "text/plain": [
       "[2, 3, 5, 7, 1, 11, 13, 17, 19, 23, 29, 31, 37, 41, 43, 47]"
      ]
     },
     "execution_count": 4,
     "metadata": {},
     "output_type": "execute_result"
    }
   ],
   "source": [
    "prime_num"
   ]
  },
  {
   "cell_type": "code",
   "execution_count": 5,
   "id": "05e2a61e-7de8-41af-b7f6-dd1aff83183c",
   "metadata": {},
   "outputs": [
    {
     "name": "stdin",
     "output_type": "stream",
     "text": [
      "Enter a value to split:  3\n"
     ]
    },
    {
     "name": "stdout",
     "output_type": "stream",
     "text": [
      "[[2, 3, 5], [7, 1, 11], [13, 17, 19], [23, 29, 31], [37, 41, 43], [47]]\n"
     ]
    }
   ],
   "source": [
    "n=int(input(\"Enter a value to split: \"))\n",
    "split_list=[prime_num[i:i+n] for i in range(0,len(prime_num),n)]\n",
    "print(split_list)"
   ]
  },
  {
   "cell_type": "markdown",
   "id": "9125c135-afa9-4daa-941b-18dc3c3e1a63",
   "metadata": {},
   "source": [
    "# 35. Find the second largest number in a list.\n"
   ]
  },
  {
   "cell_type": "code",
   "execution_count": 114,
   "id": "9c568634-ce9a-4abf-98f4-8442f3964738",
   "metadata": {},
   "outputs": [
    {
     "data": {
      "text/plain": [
       "[2, 3, 5, 1, 7, 11, 13, 17, 19, 23, 29, 31, 37, 41, 43, 47, 49]"
      ]
     },
     "execution_count": 114,
     "metadata": {},
     "output_type": "execute_result"
    }
   ],
   "source": [
    "prime_num"
   ]
  },
  {
   "cell_type": "code",
   "execution_count": 117,
   "id": "39bc3b8b-9973-4855-92af-381d2bfb8f26",
   "metadata": {},
   "outputs": [
    {
     "name": "stdout",
     "output_type": "stream",
     "text": [
      "The second largest num is 47\n"
     ]
    }
   ],
   "source": [
    "second_largest_num=sorted(prime_num)[len(prime_num)-2]\n",
    "print(f\"The second largest num is {second_largest_num}\")"
   ]
  },
  {
   "cell_type": "markdown",
   "id": "3ef94332-973c-4dce-bccb-06c853578ea4",
   "metadata": {},
   "source": [
    "# 36. Replace every element in a list with its square"
   ]
  },
  {
   "cell_type": "code",
   "execution_count": 118,
   "id": "7d42b009-bf8b-4f95-aa75-2b09a2cf53af",
   "metadata": {},
   "outputs": [
    {
     "data": {
      "text/plain": [
       "[2, 3, 5, 1, 7, 11, 13, 17, 19, 23, 29, 31, 37, 41, 43, 47, 49]"
      ]
     },
     "execution_count": 118,
     "metadata": {},
     "output_type": "execute_result"
    }
   ],
   "source": [
    "prime_num"
   ]
  },
  {
   "cell_type": "code",
   "execution_count": 119,
   "id": "be4f0268-f066-490f-b812-38e48c604777",
   "metadata": {},
   "outputs": [
    {
     "name": "stdout",
     "output_type": "stream",
     "text": [
      "[4, 9, 25, 1, 49, 121, 169, 289, 361, 529, 841, 961, 1369, 1681, 1849, 2209, 2401]\n"
     ]
    }
   ],
   "source": [
    "squared_list=list(i*i for i in prime_num)\n",
    "print(squared_list)"
   ]
  },
  {
   "cell_type": "markdown",
   "id": "12ee6b65-921e-45ac-ba40-c2f9d71e213e",
   "metadata": {},
   "source": [
    "## 37. Convert a list to a dictionary where list elements become keys and their indices become values.\n"
   ]
  },
  {
   "cell_type": "code",
   "execution_count": 126,
   "id": "70f3b87b-2e3e-420b-8f78-e0f5f20b4923",
   "metadata": {},
   "outputs": [
    {
     "name": "stdout",
     "output_type": "stream",
     "text": [
      "{'wonderwoman': 0, 'goblin': 1, 'aquaman': 2, 'superman': 3, 'flash': 4, 'batman': 5, 'alfred': 6}\n"
     ]
    }
   ],
   "source": [
    "dc=[\"wonderwoman\",\"goblin\",'aquaman',\"superman\",\"flash\",\"batman\",\"alfred\"]\n",
    "dict_= dict(zip(dc,range(len(dc))))\n",
    "print(dict_)"
   ]
  },
  {
   "cell_type": "markdown",
   "id": "836da549-59b7-4dff-81fc-f96e14301467",
   "metadata": {},
   "source": [
    "## 38. Shuffle the elements of a list randomly."
   ]
  },
  {
   "cell_type": "code",
   "execution_count": 127,
   "id": "3950b1d4-cccd-4161-b28a-990e67f8ea5b",
   "metadata": {},
   "outputs": [
    {
     "data": {
      "text/plain": [
       "[2, 3, 5, 1, 7, 11, 13, 17, 19, 23, 29, 31, 37, 41, 43, 47, 49]"
      ]
     },
     "execution_count": 131,
     "metadata": {},
     "output_type": "execute_result"
    }
   ],
   "source": [
    "prime_num"
   ]
  },
  {
   "cell_type": "code",
   "execution_count": 133,
   "id": "da8c763e-e4c0-475b-85ee-5ad06c92e0fa",
   "metadata": {},
   "outputs": [],
   "source": [
    "random.shuffle(prime_num)"
   ]
  },
  {
   "cell_type": "code",
   "execution_count": 134,
   "id": "fd6df881-78d9-447d-a8f5-af020750d1ef",
   "metadata": {},
   "outputs": [
    {
     "data": {
      "text/plain": [
       "[1, 41, 19, 43, 23, 7, 29, 17, 13, 5, 31, 37, 3, 49, 2, 47, 11]"
      ]
     },
     "execution_count": 134,
     "metadata": {},
     "output_type": "execute_result"
    }
   ],
   "source": [
    "prime_num"
   ]
  },
  {
   "cell_type": "markdown",
   "id": "0ab7abef-f960-4394-8c3e-f891706958d2",
   "metadata": {},
   "source": [
    "## 39. Create a list of the first 10 factorial numbers"
   ]
  },
  {
   "cell_type": "code",
   "execution_count": 139,
   "id": "4439a192-cd3c-47a4-b01a-4f1766ffa476",
   "metadata": {},
   "outputs": [],
   "source": [
    "import math"
   ]
  },
  {
   "cell_type": "code",
   "execution_count": 143,
   "id": "fc1a4471-5c8f-4a5c-8529-493979a53aa6",
   "metadata": {},
   "outputs": [
    {
     "name": "stdout",
     "output_type": "stream",
     "text": [
      "[1, 1, 2, 6, 24, 120, 720, 5040, 40320, 362880]\n"
     ]
    }
   ],
   "source": [
    "fact_list=list(map(math.factorial,range(10)))\n",
    "print(fact_list)"
   ]
  },
  {
   "cell_type": "code",
   "execution_count": null,
   "id": "b6afa1fd-702b-4076-a3ba-ebc8309d9308",
   "metadata": {},
   "outputs": [
    {
     "data": {
      "text/plain": [
       "10"
      ]
     },
     "execution_count": 144,
     "metadata": {},
     "output_type": "execute_result"
    }
   ],
   "source": [
    "len(fact_list)"
   ]
  },
  {
   "cell_type": "markdown",
   "id": "d7716ce0-dc0c-4260-a800-83592cf5b352",
   "metadata": {},
   "source": [
    "## 40. Check if two lists have at least one element in common"
   ]
  },
  {
   "cell_type": "code",
   "execution_count": 150,
   "id": "022f2a48-d462-4c32-a529-3ab2ffdc499d",
   "metadata": {},
   "outputs": [
    {
     "name": "stdout",
     "output_type": "stream",
     "text": [
      "[1, 41, 19, 43, 23, 7, 29, 17, 13, 5, 31, 37, 3, 49, 2, 47, 11] \n",
      " [1, 1, 2, 6, 24, 120, 720, 5040, 40320, 362880]\n"
     ]
    }
   ],
   "source": [
    "print(f\"{prime_num} \\n {fact_list}\")"
   ]
  },
  {
   "cell_type": "code",
   "execution_count": 151,
   "id": "bb185fd2-6df8-4cd4-b3ac-3daf3bc0f323",
   "metadata": {},
   "outputs": [
    {
     "name": "stdout",
     "output_type": "stream",
     "text": [
      "the list has at least one common element\n"
     ]
    }
   ],
   "source": [
    "if set(prime_num)& set(fact_list):\n",
    "    print(\"the list has at least one common element\")\n",
    "else:\n",
    "    print(\"the list has at least one common element\")"
   ]
  },
  {
   "cell_type": "markdown",
   "id": "db07e5e0-aef5-4f34-8dbb-ca3bd9fa542f",
   "metadata": {},
   "source": [
    "## 41. Remove all elements from a list."
   ]
  },
  {
   "cell_type": "code",
   "execution_count": 169,
   "id": "87a7e326-3b01-4439-a6c6-06f9799f2d97",
   "metadata": {},
   "outputs": [
    {
     "data": {
      "text/plain": [
       "[2, 3, 5, 1, 7, 11, 13, 17, 19, 23, 29, 31, 37, 41, 43, 47, 49]"
      ]
     },
     "execution_count": 169,
     "metadata": {},
     "output_type": "execute_result"
    }
   ],
   "source": [
    "prime_num"
   ]
  },
  {
   "cell_type": "code",
   "execution_count": 170,
   "id": "cbbb8c63-49c8-4ffd-9332-e4020289b5e5",
   "metadata": {},
   "outputs": [],
   "source": [
    "prime_num.clear()"
   ]
  },
  {
   "cell_type": "code",
   "execution_count": 171,
   "id": "fb9dd619-fdda-4ffc-af4b-a6bf09518fa3",
   "metadata": {},
   "outputs": [
    {
     "name": "stdout",
     "output_type": "stream",
     "text": [
      "[]\n"
     ]
    }
   ],
   "source": [
    "print(prime_num)"
   ]
  },
  {
   "cell_type": "markdown",
   "id": "4e53b577-cc19-4cfa-97c2-c9afc9cb2021",
   "metadata": {},
   "source": [
    "## 42. Replace negative numbers in a list with 0"
   ]
  },
  {
   "cell_type": "code",
   "execution_count": 190,
   "id": "2fb6bdf6-cfcf-4d60-996b-5bd08f927062",
   "metadata": {},
   "outputs": [
    {
     "name": "stdout",
     "output_type": "stream",
     "text": [
      "[21, 78, 55, 0, 98, 0, 44, 0]\n"
     ]
    }
   ],
   "source": [
    "l8=[21,78,55,-22,98,-58,44,-21]\n",
    "lrep=[i if i>0 else 0 for i in l8]\n",
    "print(lrep)\n",
    "        "
   ]
  },
  {
   "cell_type": "markdown",
   "id": "091b3a42-e75c-45e1-aa81-e8d7685120c9",
   "metadata": {},
   "source": [
    "## 43. Convert a string into a list of words."
   ]
  },
  {
   "cell_type": "code",
   "execution_count": 191,
   "id": "fbc1664d-6f6a-40a0-9391-1842b29eee20",
   "metadata": {},
   "outputs": [
    {
     "data": {
      "text/plain": [
       "['Convert', 'a', 'string', 'into', 'a', 'list', 'of', 'words']"
      ]
     },
     "execution_count": 191,
     "metadata": {},
     "output_type": "execute_result"
    }
   ],
   "source": [
    "string=\"Convert a string into a list of words\"\n",
    "str_l= string.split()\n",
    "str_l"
   ]
  },
  {
   "cell_type": "markdown",
   "id": "76303768-22c1-40af-9d03-0539a735973c",
   "metadata": {},
   "source": [
    "## 44. Convert a list of words into a string."
   ]
  },
  {
   "cell_type": "code",
   "execution_count": 192,
   "id": "d87af2ff-3550-4558-90ee-f4161fb2ce2b",
   "metadata": {},
   "outputs": [
    {
     "data": {
      "text/plain": [
       "'Convert a string into a list of words'"
      ]
     },
     "execution_count": 192,
     "metadata": {},
     "output_type": "execute_result"
    }
   ],
   "source": [
    "\" \".join(str_l)"
   ]
  },
  {
   "cell_type": "markdown",
   "id": "bac7de17-2461-4ec3-956d-4e3417aae23d",
   "metadata": {},
   "source": [
    "## 45. Create a list of the first `n` powers of 2."
   ]
  },
  {
   "cell_type": "code",
   "execution_count": 193,
   "id": "478f3180-9bf3-405e-8212-9a296aaf667c",
   "metadata": {},
   "outputs": [
    {
     "name": "stdout",
     "output_type": "stream",
     "text": [
      "[1, 2, 4, 8, 16, 32, 64, 128, 256, 512]\n"
     ]
    }
   ],
   "source": [
    "pow_list=[2**i for i in range(10)]\n",
    "print(pow_list)"
   ]
  },
  {
   "cell_type": "markdown",
   "id": "6f87af57-1740-4443-a9e4-ec2eaac5b2e8",
   "metadata": {},
   "source": [
    "## 46. Find the longest string in a list of strings."
   ]
  },
  {
   "cell_type": "code",
   "execution_count": 197,
   "id": "6c7d95fc-d2f3-4956-ab1d-4f216b5360f6",
   "metadata": {},
   "outputs": [
    {
     "name": "stdout",
     "output_type": "stream",
     "text": [
      "the longest strings in the list are ['workout,']\n"
     ]
    }
   ],
   "source": [
    "l_str=\"the harder the workout, the easier the day\" #list of strings\n",
    "list_str=set(l_str.split())#using split fn to create new elements and converting into set to remove duplicates\n",
    "sol= max(list_str) # using max fn to get the shortest string\n",
    "longest_str=[] #list used to add the final values\n",
    "for i in list_str: #iterarting through set \n",
    "    if len(i) == len(sol):\n",
    "        longest_str.append(i)\n",
    "print(f\"the longest strings in the list are {longest_str}\")"
   ]
  },
  {
   "cell_type": "markdown",
   "id": "2b5b60ab-df65-40ff-919c-de6f82d7ef06",
   "metadata": {},
   "source": [
    "## 47. Find the shortest string in a list of strings.\n"
   ]
  },
  {
   "cell_type": "code",
   "execution_count": 198,
   "id": "f803110c-b9f6-4789-8ade-1795e9e6a147",
   "metadata": {},
   "outputs": [
    {
     "name": "stdout",
     "output_type": "stream",
     "text": [
      "the shortest strings in the list are ['the', 'day']\n"
     ]
    }
   ],
   "source": [
    "l_str=\"the harder the workout, the easier the day\" #list of strings\n",
    "list_str=set(l_str.split())#using split fn to create new elements and converting into set to remove duplicates\n",
    "sol= min(list_str) # using min fn to get the shortest string\n",
    "shortest_str=[] #list used to add the final values\n",
    "for i in list_str: #iterarting through set \n",
    "    if len(i) == len(sol):\n",
    "        shortest_str.append(i)\n",
    "print(f\"the shortest strings in the list are {shortest_str}\")"
   ]
  },
  {
   "cell_type": "markdown",
   "id": "b58e8699-59e7-45fb-a62a-6755b9e7b65d",
   "metadata": {},
   "source": [
    "## 48. Create a list of the first `n` triangular numbers."
   ]
  },
  {
   "cell_type": "code",
   "execution_count": 199,
   "id": "1d8edd4e-db63-4a72-b78c-85fc58a2f4b2",
   "metadata": {},
   "outputs": [
    {
     "name": "stdin",
     "output_type": "stream",
     "text": [
      "Enter the range:  5\n"
     ]
    },
    {
     "name": "stdout",
     "output_type": "stream",
     "text": [
      "Triangle number for 1 is 1.0\n",
      "Triangle number for 2 is 3.0\n",
      "Triangle number for 3 is 6.0\n",
      "Triangle number for 4 is 10.0\n",
      "Triangle number for 5 is 15.0\n"
     ]
    }
   ],
   "source": [
    "ip=int(input(\"Enter the range: \")) # getting the range numbers as input\n",
    "for i in range(1,ip+1): # range fn to get the number of values\n",
    "    y=(((i**2)+i)/2) # cal to get triangular num\n",
    "    print(f\"Triangle number for {i} is {y}\") #output"
   ]
  },
  {
   "cell_type": "markdown",
   "id": "6c53fe75-94a5-47c7-947c-bd2132cfc44c",
   "metadata": {},
   "source": [
    "## 49. Check if a list contains another list as a subsequence."
   ]
  },
  {
   "cell_type": "code",
   "execution_count": 200,
   "id": "c145ccf7-eb77-4a19-baf1-5e656e7d1c55",
   "metadata": {},
   "outputs": [
    {
     "name": "stdout",
     "output_type": "stream",
     "text": [
      "the list contains another list as a subsequence\n"
     ]
    }
   ],
   "source": [
    "l1=['a','e','i','o','u']\n",
    "alphabet=['a', 'b', 'c', 'd','e', 'f', 'g', 'h', 'i', 'j','k', 'l','m', 'n', 'o', 'p','q', 'r', 's','t', 'u','v', 'w', 'x', 'y', 'z']\n",
    "if set(l1).issubset(alphabet)== True: # using issubset fn\n",
    "    print(\"the list contains another list as a subsequence\")"
   ]
  },
  {
   "cell_type": "markdown",
   "id": "bcfa7043-961c-40a0-a2fe-ea6ab68df9e8",
   "metadata": {},
   "source": [
    "## 50. Swap two elements in a list by their indices"
   ]
  },
  {
   "cell_type": "code",
   "execution_count": 202,
   "id": "9337bed3-c1df-493a-a7fb-e39742122248",
   "metadata": {},
   "outputs": [
    {
     "name": "stdout",
     "output_type": "stream",
     "text": [
      "input[85, 8798, 78, 1, 35]\n"
     ]
    },
    {
     "data": {
      "text/plain": [
       "[35, 8798, 78, 1, 85]"
      ]
     },
     "execution_count": 202,
     "metadata": {},
     "output_type": "execute_result"
    }
   ],
   "source": [
    "lis=[85,8798,78,1,35]\n",
    "print(f\"input{lis}\")\n",
    "lis[0],lis[4]=lis[4],lis[0] #swapping the element with index\n",
    "lis"
   ]
  },
  {
   "cell_type": "markdown",
   "id": "d8cff5a5-8a9b-41d3-ae7d-0084c9652150",
   "metadata": {},
   "source": [
    "# Set Based Practice Problem "
   ]
  },
  {
   "cell_type": "markdown",
   "id": "017153bd-9536-4e82-a681-77cae5b6a1d5",
   "metadata": {},
   "source": [
    "## 1. Create a set with integers from 1 to 5"
   ]
  },
  {
   "cell_type": "code",
   "execution_count": 51,
   "id": "27966678-644b-4c53-87d3-3babb9204cc2",
   "metadata": {},
   "outputs": [
    {
     "data": {
      "text/plain": [
       "{1, 2, 3, 4, 5}"
      ]
     },
     "execution_count": 51,
     "metadata": {},
     "output_type": "execute_result"
    }
   ],
   "source": [
    "int_set=set(range(1,6))\n",
    "int_set"
   ]
  },
  {
   "cell_type": "markdown",
   "id": "abd84f19-c0ca-49a9-b7c9-dfa42571ba1e",
   "metadata": {},
   "source": [
    "## 2. Add an element to a set."
   ]
  },
  {
   "cell_type": "code",
   "execution_count": 52,
   "id": "fceec532-a60f-4004-812f-5bcf3e3fdf68",
   "metadata": {},
   "outputs": [
    {
     "data": {
      "text/plain": [
       "{1, 2, 3, 4, 5, 6}"
      ]
     },
     "execution_count": 52,
     "metadata": {},
     "output_type": "execute_result"
    }
   ],
   "source": [
    "int_set.add(6)\n",
    "int_set"
   ]
  },
  {
   "cell_type": "markdown",
   "id": "a70da2ec-2ea9-4cfe-b298-a649183b7752",
   "metadata": {},
   "source": [
    "## 3. Remove an element from a set."
   ]
  },
  {
   "cell_type": "code",
   "execution_count": 53,
   "id": "3ff7e0f6-ca46-4765-b117-7c3f079743d5",
   "metadata": {},
   "outputs": [
    {
     "data": {
      "text/plain": [
       "{1, 2, 3, 4, 5}"
      ]
     },
     "execution_count": 53,
     "metadata": {},
     "output_type": "execute_result"
    }
   ],
   "source": [
    "int_set.remove(6)\n",
    "int_set"
   ]
  },
  {
   "cell_type": "markdown",
   "id": "caf32aba-3d14-4fba-a131-d5a25b0c58a5",
   "metadata": {},
   "source": [
    "## 4. Check if an element exists in a set."
   ]
  },
  {
   "cell_type": "code",
   "execution_count": 57,
   "id": "23f90c50-f466-4c4b-bde7-3d70b11f338e",
   "metadata": {},
   "outputs": [
    {
     "name": "stdin",
     "output_type": "stream",
     "text": [
      "Enter a value:  5\n"
     ]
    },
    {
     "name": "stdout",
     "output_type": "stream",
     "text": [
      "the element 5  is available in the set\n"
     ]
    }
   ],
   "source": [
    "int_=int(input(\"Enter a value: \"))\n",
    "if int_ in int_set:\n",
    "    print(f\"the element {int_}  is available in the set\")\n",
    "else:\n",
    "    print(f\"the element {int_}is available in the set\")\n",
    "    "
   ]
  },
  {
   "cell_type": "markdown",
   "id": "5a0ca9ea-a822-44bd-a0b5-15b8c63a7a57",
   "metadata": {},
   "source": [
    "## 5. Find the length of a set without using the `len()` function"
   ]
  },
  {
   "cell_type": "code",
   "execution_count": 58,
   "id": "aadc6076-b901-411a-8391-07dc21f6f110",
   "metadata": {},
   "outputs": [
    {
     "name": "stdout",
     "output_type": "stream",
     "text": [
      "the Length of the set is 10\n"
     ]
    }
   ],
   "source": [
    "set1=set(range(10))\n",
    "for i in set1:\n",
    "    set_len=list(set1).index(i)+1\n",
    "    \n",
    "print(f\"the Length of the set is {set_len}\")"
   ]
  },
  {
   "cell_type": "markdown",
   "id": "07aa847c-5828-44d5-84c3-57f2d92462e3",
   "metadata": {},
   "source": [
    "## 6. Clear all elements from a set."
   ]
  },
  {
   "cell_type": "code",
   "execution_count": 59,
   "id": "80e283c5-38e2-45e1-9b79-54461b261094",
   "metadata": {},
   "outputs": [
    {
     "data": {
      "text/plain": [
       "{0, 1, 2, 3, 4, 5, 6, 7, 8, 9}"
      ]
     },
     "execution_count": 59,
     "metadata": {},
     "output_type": "execute_result"
    }
   ],
   "source": [
    "set1"
   ]
  },
  {
   "cell_type": "code",
   "execution_count": 60,
   "id": "6f0f205f-e269-4325-b428-6b8ea7a12622",
   "metadata": {},
   "outputs": [
    {
     "data": {
      "text/plain": [
       "set()"
      ]
     },
     "execution_count": 60,
     "metadata": {},
     "output_type": "execute_result"
    }
   ],
   "source": [
    "set1.clear()\n",
    "set1"
   ]
  },
  {
   "cell_type": "markdown",
   "id": "bf9f4468-0be0-4f6a-bf2c-9ec6498a4152",
   "metadata": {},
   "source": [
    "## 7. Create a set of even numbers from 1 to 10"
   ]
  },
  {
   "cell_type": "code",
   "execution_count": 61,
   "id": "e5c46b5d-be94-4d91-913a-a4370e545c43",
   "metadata": {},
   "outputs": [
    {
     "name": "stdout",
     "output_type": "stream",
     "text": [
      "{0, 2, 4, 6, 8, 10}\n"
     ]
    }
   ],
   "source": [
    "eve_num=set(range(0,11,2))\n",
    "print(eve_num)"
   ]
  },
  {
   "cell_type": "markdown",
   "id": "6d8eb01f-66bd-433a-a56c-00edf2f6d42b",
   "metadata": {},
   "source": [
    "## 8. Create a set of odd numbers from 1 to 10."
   ]
  },
  {
   "cell_type": "code",
   "execution_count": 62,
   "id": "4ece6bda-2bc4-4cf1-a681-83e7b3135968",
   "metadata": {},
   "outputs": [
    {
     "name": "stdout",
     "output_type": "stream",
     "text": [
      "{1, 3, 5, 7, 9}\n"
     ]
    }
   ],
   "source": [
    "odd_num=set(range(1,10,2))\n",
    "print(odd_num)"
   ]
  },
  {
   "cell_type": "markdown",
   "id": "98fc1f72-bebe-42ea-adb6-def33dcfc914",
   "metadata": {},
   "source": [
    "## 9. Find the union of two sets."
   ]
  },
  {
   "cell_type": "code",
   "execution_count": 63,
   "id": "01703674-1237-49c7-b754-9d429c973508",
   "metadata": {},
   "outputs": [
    {
     "data": {
      "text/plain": [
       "{0, 1, 2, 3, 4, 5, 6, 7, 8, 9}"
      ]
     },
     "execution_count": 63,
     "metadata": {},
     "output_type": "execute_result"
    }
   ],
   "source": [
    "set1=set(range(10))\n",
    "set1"
   ]
  },
  {
   "cell_type": "code",
   "execution_count": 64,
   "id": "7957cc1e-0f6f-4f71-b7cb-b42111a67c47",
   "metadata": {},
   "outputs": [
    {
     "data": {
      "text/plain": [
       "{0, 1, 2, 3, 4, 5, 6, 7, 8, 9, 10, 11, 12, 13, 14, 15, 16, 17, 18, 19}"
      ]
     },
     "execution_count": 64,
     "metadata": {},
     "output_type": "execute_result"
    }
   ],
   "source": [
    "set2=set(range(20))\n",
    "set2"
   ]
  },
  {
   "cell_type": "code",
   "execution_count": 65,
   "id": "54d0527f-96e1-4aaf-aa96-ae7f6f0d32c1",
   "metadata": {},
   "outputs": [
    {
     "data": {
      "text/plain": [
       "{0, 1, 2, 3, 4, 5, 6, 7, 8, 9, 10, 11, 12, 13, 14, 15, 16, 17, 18, 19}"
      ]
     },
     "execution_count": 65,
     "metadata": {},
     "output_type": "execute_result"
    }
   ],
   "source": [
    "set3=set2.union(set1)\n",
    "set3"
   ]
  },
  {
   "cell_type": "markdown",
   "id": "e6630a70-964b-46ef-8d3f-acb9a1d0ad09",
   "metadata": {},
   "source": [
    "## 10. Find the intersection of two sets."
   ]
  },
  {
   "cell_type": "code",
   "execution_count": 66,
   "id": "165be5d9-9b83-4c64-a8a1-f9aee2ca88b8",
   "metadata": {},
   "outputs": [
    {
     "data": {
      "text/plain": [
       "{0, 1, 2, 3, 4, 5, 6, 7, 8, 9}"
      ]
     },
     "execution_count": 66,
     "metadata": {},
     "output_type": "execute_result"
    }
   ],
   "source": [
    "set4= set2.intersection(set1)\n",
    "set4"
   ]
  },
  {
   "cell_type": "markdown",
   "id": "c825bd74-7b50-4108-b2fa-df1cd040c6ba",
   "metadata": {},
   "source": [
    "## 11. Find the difference between two sets."
   ]
  },
  {
   "cell_type": "code",
   "execution_count": 67,
   "id": "a55128b2-96f5-4fa2-a9a3-e8359875c4a6",
   "metadata": {},
   "outputs": [
    {
     "data": {
      "text/plain": [
       "{10, 11, 12, 13, 14, 15, 16, 17, 18, 19}"
      ]
     },
     "execution_count": 67,
     "metadata": {},
     "output_type": "execute_result"
    }
   ],
   "source": [
    "set5= set2.difference(set1)\n",
    "set5"
   ]
  },
  {
   "cell_type": "markdown",
   "id": "10506703-dfe0-4768-a1d0-2befcec81a6b",
   "metadata": {},
   "source": [
    "## 12. Check if a set is a subset of another set."
   ]
  },
  {
   "cell_type": "code",
   "execution_count": 68,
   "id": "d0790bb5-257d-4e81-b115-4e52cbefa5f0",
   "metadata": {},
   "outputs": [
    {
     "name": "stdout",
     "output_type": "stream",
     "text": [
      "the given set is a subset of another set\n"
     ]
    }
   ],
   "source": [
    "if set1.issubset(set2):\n",
    "    print(\"the given set is a subset of another set\")\n",
    "else:\n",
    "     print(\"the given set is not a subset of another set\")"
   ]
  },
  {
   "cell_type": "markdown",
   "id": "cd87cc39-aed3-452e-aeba-ff684814f974",
   "metadata": {},
   "source": [
    "## 13. Check if a set is a superset of another set."
   ]
  },
  {
   "cell_type": "code",
   "execution_count": 69,
   "id": "362a2b72-fb01-44ad-9cbf-ff8ab385f438",
   "metadata": {},
   "outputs": [
    {
     "name": "stdout",
     "output_type": "stream",
     "text": [
      "the given set is a superset of another set\n"
     ]
    }
   ],
   "source": [
    "if set2.issuperset(set1):\n",
    "    print(\"the given set is a superset of another set\")\n",
    "else:\n",
    "     print(\"the given set is not a superset of another set\")"
   ]
  },
  {
   "cell_type": "markdown",
   "id": "6f3d9627-8a36-4546-b4ae-bbef96d8fad0",
   "metadata": {},
   "source": [
    "## 14. Create a set from a list."
   ]
  },
  {
   "cell_type": "code",
   "execution_count": 70,
   "id": "98c5c5be-fcfc-4eea-b97e-355f5dd629e4",
   "metadata": {},
   "outputs": [
    {
     "data": {
      "text/plain": [
       "[10, 11, 12, 13, 14, 15, 16, 17, 18, 19]"
      ]
     },
     "execution_count": 70,
     "metadata": {},
     "output_type": "execute_result"
    }
   ],
   "source": [
    "l_set= list(set5)\n",
    "l_set"
   ]
  },
  {
   "cell_type": "markdown",
   "id": "efad7e43-9146-46f6-8fed-ed7756e30912",
   "metadata": {},
   "source": [
    "## 15. Convert a set to a list"
   ]
  },
  {
   "cell_type": "code",
   "execution_count": 71,
   "id": "c81d9352-3dd7-469a-9447-95d9b7ade1d6",
   "metadata": {},
   "outputs": [
    {
     "data": {
      "text/plain": [
       "{10, 11, 12, 13, 14, 15, 16, 17, 18, 19}"
      ]
     },
     "execution_count": 71,
     "metadata": {},
     "output_type": "execute_result"
    }
   ],
   "source": [
    "set6=set(l_set)\n",
    "set6"
   ]
  },
  {
   "cell_type": "markdown",
   "id": "bcb282e7-a83f-4180-b3c1-aab731918bb3",
   "metadata": {},
   "source": [
    "## 16. Remove a random element from a set."
   ]
  },
  {
   "cell_type": "code",
   "execution_count": 72,
   "id": "6c984c52-a57c-4cc6-965d-41fa5fadfbb1",
   "metadata": {},
   "outputs": [
    {
     "data": {
      "text/plain": [
       "{0, 1, 2, 3, 4, 5, 6, 7, 8, 9, 10, 11, 12, 13, 14, 15, 16, 17, 18, 19}"
      ]
     },
     "execution_count": 72,
     "metadata": {},
     "output_type": "execute_result"
    }
   ],
   "source": [
    "import random\n",
    "set2"
   ]
  },
  {
   "cell_type": "code",
   "execution_count": 73,
   "id": "912ca98e-c232-49aa-aa30-f10d3c84a93d",
   "metadata": {},
   "outputs": [
    {
     "name": "stdout",
     "output_type": "stream",
     "text": [
      "the set is {0, 1, 2, 3, 4, 5, 7, 8, 9, 10, 11, 12, 13, 14, 15, 16, 17, 18, 19} and the removed int element is 6\n"
     ]
    }
   ],
   "source": [
    "ran_i=random.randint(0,20)\n",
    "set2.remove(ran_i)\n",
    "print(f\"the set is {set2} and the removed int element is {ran_i}\")"
   ]
  },
  {
   "cell_type": "markdown",
   "id": "2f8a4c11-0895-4acb-aae2-87dd7d747390",
   "metadata": {},
   "source": [
    "## 17. Pop an element from a set."
   ]
  },
  {
   "cell_type": "code",
   "execution_count": 79,
   "id": "0c69f36b-cd13-49f8-824e-5426ea5fb0ab",
   "metadata": {},
   "outputs": [
    {
     "name": "stdout",
     "output_type": "stream",
     "text": [
      "popped element is 1\n"
     ]
    }
   ],
   "source": [
    "set17=set(range(1,20))\n",
    "e=set17.pop()\n",
    "print(f\"popped element is {e}\")"
   ]
  },
  {
   "cell_type": "markdown",
   "id": "0d1fdbca-af8f-4a82-b34d-e0b297846f62",
   "metadata": {},
   "source": [
    "## 18. Check if two sets have no elements in common."
   ]
  },
  {
   "cell_type": "code",
   "execution_count": 94,
   "id": "efc91d6d-18b5-45ca-b837-38e6e26fd68e",
   "metadata": {},
   "outputs": [
    {
     "name": "stdout",
     "output_type": "stream",
     "text": [
      "two sets have no elements in common\n"
     ]
    }
   ],
   "source": [
    "st=set(range(10))\n",
    "ts=set(range(11,20))\n",
    "if ts.isdisjoint(st):\n",
    "    print('two sets have no elements in common')\n",
    "else:\n",
    "    print('two sets have common elements')\n",
    "    "
   ]
  },
  {
   "cell_type": "markdown",
   "id": "aadeafae-7801-4a2e-9fc3-b162a15786a8",
   "metadata": {},
   "source": [
    "## 19. Find the symmetric difference between two sets."
   ]
  },
  {
   "cell_type": "code",
   "execution_count": 96,
   "id": "c4bf5c3a-255b-487f-9e5d-8ce2a99a4be2",
   "metadata": {},
   "outputs": [
    {
     "data": {
      "text/plain": [
       "{0, 1, 2, 3, 4, 5, 6, 7, 8, 9, 10}"
      ]
     },
     "execution_count": 96,
     "metadata": {},
     "output_type": "execute_result"
    }
   ],
   "source": [
    "sets=set(range(20))\n",
    "tests=set(range(11,20))\n",
    "sets.symmetric_difference(tests)"
   ]
  },
  {
   "cell_type": "markdown",
   "id": "0d52012a-4321-4b1a-a501-4aca25283ccf",
   "metadata": {},
   "source": [
    "## 20. Update a set with elements from another set."
   ]
  },
  {
   "cell_type": "code",
   "execution_count": 99,
   "id": "c0e98dec-0347-4f24-bfc3-808f946ffd60",
   "metadata": {},
   "outputs": [],
   "source": [
    "set12=set()\n"
   ]
  },
  {
   "cell_type": "code",
   "execution_count": 100,
   "id": "57966823-c36a-4027-b613-c7dc9b4867f5",
   "metadata": {},
   "outputs": [
    {
     "data": {
      "text/plain": [
       "{11, 12, 13, 14, 15, 16, 17, 18, 19}"
      ]
     },
     "execution_count": 100,
     "metadata": {},
     "output_type": "execute_result"
    }
   ],
   "source": [
    "set12.update(tests)\n",
    "set12"
   ]
  },
  {
   "cell_type": "markdown",
   "id": "b2adea5d-f2a0-4071-9986-a1add78ed5c6",
   "metadata": {},
   "source": [
    "## 21. Create a set of the first 5 prime numbers."
   ]
  },
  {
   "cell_type": "code",
   "execution_count": 107,
   "id": "21e1d258-d5fa-4aec-9779-81ec39c5475a",
   "metadata": {},
   "outputs": [
    {
     "data": {
      "text/plain": [
       "{1, 2, 3, 5, 7}"
      ]
     },
     "execution_count": 107,
     "metadata": {},
     "output_type": "execute_result"
    }
   ],
   "source": [
    "prime_num=[2,3,5]+[i for i in range(10) if i%2!=0 and i%3!=0 and i%5!=0 ]\n",
    "set(prime_num)"
   ]
  },
  {
   "cell_type": "markdown",
   "id": "8227be8f-ad2f-4b47-8ae5-7353136b8dc9",
   "metadata": {},
   "source": [
    "## 22. Check if two sets are identical."
   ]
  },
  {
   "cell_type": "code",
   "execution_count": 110,
   "id": "76335bcf-e7b9-4ece-948e-3af8f6a4b6cc",
   "metadata": {},
   "outputs": [
    {
     "name": "stdout",
     "output_type": "stream",
     "text": [
      "the sets are identical\n"
     ]
    }
   ],
   "source": [
    "s=set(range(10))\n",
    "t=set(range(10))\n",
    "if s== t:\n",
    "    print(\"the sets are identical\")\n",
    "else:\n",
    "    print(\"the sets are not identical\")\n",
    "    "
   ]
  },
  {
   "cell_type": "markdown",
   "id": "9e702926-5c5c-4f92-9686-c605f5a84104",
   "metadata": {},
   "source": [
    "## 23. Create a frozen set.\n",
    "\n",
    "##### creates an immutable set object from an iterable"
   ]
  },
  {
   "cell_type": "code",
   "execution_count": 111,
   "id": "024e47ad-9374-48c1-b384-8b33c677b07a",
   "metadata": {},
   "outputs": [
    {
     "data": {
      "text/plain": [
       "frozenset({0, 1, 2, 3, 4, 5, 6, 7, 8, 9})"
      ]
     },
     "execution_count": 111,
     "metadata": {},
     "output_type": "execute_result"
    }
   ],
   "source": [
    "fz=frozenset(s)\n",
    "fz"
   ]
  },
  {
   "cell_type": "markdown",
   "id": "632b8d50-c153-4a75-9457-887ef528a0e0",
   "metadata": {},
   "source": [
    "## 24. Check if a set is disjoint with another set."
   ]
  },
  {
   "cell_type": "code",
   "execution_count": 113,
   "id": "2a5d5c0b-89d8-4857-939c-36427339edbd",
   "metadata": {},
   "outputs": [
    {
     "name": "stdout",
     "output_type": "stream",
     "text": [
      " set is disjoint with another set\n"
     ]
    }
   ],
   "source": [
    "st=set(range(10))\n",
    "ts=set(range(11,20))\n",
    "if ts.isdisjoint(st):\n",
    "    print(' set is disjoint with another set')\n",
    "else:\n",
    "    print(' set is not disjoint with another set')\n",
    "    "
   ]
  },
  {
   "cell_type": "markdown",
   "id": "aece7e51-9d3c-4a8a-80e4-6fd93bb36c82",
   "metadata": {},
   "source": [
    "## 25. Create a set of squares of numbers from 1 to 5."
   ]
  },
  {
   "cell_type": "code",
   "execution_count": 115,
   "id": "2d5d5e2b-d62c-40c1-9b14-ad021b9b0dd0",
   "metadata": {},
   "outputs": [
    {
     "data": {
      "text/plain": [
       "{0, 1, 4, 9, 16, 25}"
      ]
     },
     "execution_count": 115,
     "metadata": {},
     "output_type": "execute_result"
    }
   ],
   "source": [
    "sq_set= set(i**2 for i in range(6))\n",
    "sq_set"
   ]
  },
  {
   "cell_type": "markdown",
   "id": "b23cec3c-d191-403b-ae04-fcfe16dff711",
   "metadata": {},
   "source": [
    "## 26. Filter out all even numbers from a set."
   ]
  },
  {
   "cell_type": "code",
   "execution_count": 121,
   "id": "c49ac734-3ea8-42ff-9c7f-a7f2160360ea",
   "metadata": {},
   "outputs": [
    {
     "data": {
      "text/plain": [
       "{0, 2, 4, 6, 8, 10, 12, 14, 16, 18, 20}"
      ]
     },
     "execution_count": 121,
     "metadata": {},
     "output_type": "execute_result"
    }
   ],
   "source": [
    "eve_num= set(i for i in set(range(21)) if i %2==0 )\n",
    "eve_num"
   ]
  },
  {
   "cell_type": "markdown",
   "id": "cb5b8ca6-30b8-468a-85c2-ece28f9ba301",
   "metadata": {},
   "source": [
    "## 27. Multiply all elements in a set by 2."
   ]
  },
  {
   "cell_type": "code",
   "execution_count": 122,
   "id": "e76164ac-c98b-4cc4-9888-f9046bf125c9",
   "metadata": {},
   "outputs": [
    {
     "data": {
      "text/plain": [
       "{0, 2, 4, 6, 8, 10, 12, 14, 16, 18, 20, 22, 24, 26, 28, 30, 32, 34, 36, 38, 40}"
      ]
     },
     "execution_count": 122,
     "metadata": {},
     "output_type": "execute_result"
    }
   ],
   "source": [
    "multi_set= set(i*2 for i in set(range(21)) )\n",
    "multi_set"
   ]
  },
  {
   "cell_type": "markdown",
   "id": "77931079-aa97-4da1-b266-2b606f49ec75",
   "metadata": {},
   "source": [
    "## 28. Create a set of random numbers"
   ]
  },
  {
   "cell_type": "code",
   "execution_count": 7,
   "id": "2f666789-d931-45ff-ab05-ac1bc8ab3cc3",
   "metadata": {},
   "outputs": [
    {
     "name": "stdout",
     "output_type": "stream",
     "text": [
      "{50, 51, 52, 53, 54, 55, 56, 57, 58, 59, 60, 61, 62, 63, 64, 66, 67, 69, 70, 73, 75, 76, 77, 78, 79, 80, 81, 82, 83, 84, 85, 87, 88, 89, 90, 91, 92, 93, 94, 95, 96, 97, 98, 99, 100}\n"
     ]
    }
   ],
   "source": [
    "import random\n",
    "ran_set=set(random.randint(50,100) for x in range(100))\n",
    "print(ran_set)"
   ]
  },
  {
   "cell_type": "markdown",
   "id": "f5c045c4-01d0-4afd-a1d2-6eaea64765d2",
   "metadata": {},
   "source": [
    "## 29. Check if a set is empty"
   ]
  },
  {
   "cell_type": "code",
   "execution_count": 11,
   "id": "8f2fa8a8-65f0-4ab6-964e-d80ab2474f35",
   "metadata": {},
   "outputs": [],
   "source": [
    "area59=set()"
   ]
  },
  {
   "cell_type": "code",
   "execution_count": 13,
   "id": "9dc6ceda-e25b-423b-be86-b9758e06a1e2",
   "metadata": {},
   "outputs": [
    {
     "name": "stdout",
     "output_type": "stream",
     "text": [
      "the set is  empty\n"
     ]
    }
   ],
   "source": [
    "if len(area59)==0:\n",
    "    print(\"the set is  empty\")\n",
    "else:\n",
    "    print(\"the set is not empty\")"
   ]
  },
  {
   "cell_type": "markdown",
   "id": "52f0ff62-5bc3-412a-b1aa-a3a2de44c28a",
   "metadata": {},
   "source": [
    "# 30. Create a nested set (hint: use frozenset)."
   ]
  },
  {
   "cell_type": "code",
   "execution_count": 14,
   "id": "906ecccd-d010-473a-84ab-1c92e67f8a58",
   "metadata": {},
   "outputs": [
    {
     "data": {
      "text/plain": [
       "{frozenset({2, 32}), frozenset({2, 3}), frozenset({22, 88})}"
      ]
     },
     "execution_count": 14,
     "metadata": {},
     "output_type": "execute_result"
    }
   ],
   "source": [
    "set_f=set([frozenset((2,32)),frozenset((2,3)),frozenset((88,22))])\n",
    "set_f"
   ]
  },
  {
   "cell_type": "markdown",
   "id": "9b279793-ac6d-4866-b19b-3c0d4d2a03d8",
   "metadata": {},
   "source": [
    "## 31. Remove an element from a set using the discard method"
   ]
  },
  {
   "cell_type": "code",
   "execution_count": 5,
   "id": "effece02-e2d2-4af5-983c-3ba99aceaada",
   "metadata": {},
   "outputs": [
    {
     "data": {
      "text/plain": [
       "{0, 1, 2, 3, 4, 5, 6, 7, 8, 9, 10, 11, 12, 14, 15, 16, 17, 18, 19}"
      ]
     },
     "execution_count": 5,
     "metadata": {},
     "output_type": "execute_result"
    }
   ],
   "source": [
    "dis_set=set(range(20))\n",
    "dis_set.discard(13)## removed 13 from set\n",
    "dis_set"
   ]
  },
  {
   "cell_type": "markdown",
   "id": "446715f8-46d3-42f5-bc10-7ad866a7a39a",
   "metadata": {},
   "source": [
    "## 32. Compare two sets"
   ]
  },
  {
   "cell_type": "code",
   "execution_count": 6,
   "id": "5969b3e7-788f-449e-932c-a117a1a08550",
   "metadata": {},
   "outputs": [
    {
     "data": {
      "text/plain": [
       "{0, 1, 2, 3, 4, 5, 6, 7, 8, 9}"
      ]
     },
     "execution_count": 6,
     "metadata": {},
     "output_type": "execute_result"
    }
   ],
   "source": [
    "set1=set(range(0,10))\n",
    "set2=set(range(20))\n",
    "set1.intersection(set2) # brngs the common elements by comparing 2 sets"
   ]
  },
  {
   "cell_type": "markdown",
   "id": "5889853e-7ed0-42d1-ac9b-2d5bdec816c3",
   "metadata": {},
   "source": [
    "## 33. Create a set from a string."
   ]
  },
  {
   "cell_type": "code",
   "execution_count": 7,
   "id": "222183a2-6ffe-4905-9548-3547234c9f8f",
   "metadata": {},
   "outputs": [],
   "source": [
    "set_string= \"Create a set from a string\"\n",
    "sets=set(set_string.split())"
   ]
  },
  {
   "cell_type": "code",
   "execution_count": 8,
   "id": "c8e8e46a-b09a-470d-8310-e740eef9675b",
   "metadata": {},
   "outputs": [
    {
     "data": {
      "text/plain": [
       "{'Create', 'a', 'from', 'set', 'string'}"
      ]
     },
     "execution_count": 8,
     "metadata": {},
     "output_type": "execute_result"
    }
   ],
   "source": [
    "sets"
   ]
  },
  {
   "cell_type": "markdown",
   "id": "1c0488ce-0869-4e0c-b5c3-dd97456c3df2",
   "metadata": {},
   "source": [
    "## 34. Convert a set of strings to a set of integers."
   ]
  },
  {
   "cell_type": "code",
   "execution_count": 9,
   "id": "0a89e73f-2198-487b-9064-47cad08fe467",
   "metadata": {},
   "outputs": [
    {
     "data": {
      "text/plain": [
       "{1, 2, 3, 4, 8, 9, 13, 22, 33, 55, 58, 78}"
      ]
     },
     "execution_count": 9,
     "metadata": {},
     "output_type": "execute_result"
    }
   ],
   "source": [
    "set_str=('1','2','3','4','8','9','78','33','58','55','13','22')\n",
    "set_int=set(map(int,set_str))\n",
    "set_int"
   ]
  },
  {
   "cell_type": "markdown",
   "id": "67b14aa9-7a42-4b4e-85ef-4a7ccf431bf8",
   "metadata": {},
   "source": [
    "## 35. Convert a set of integers to a set of strings."
   ]
  },
  {
   "cell_type": "code",
   "execution_count": 10,
   "id": "78435e2c-c41b-4e09-8297-e752199d11b6",
   "metadata": {},
   "outputs": [
    {
     "data": {
      "text/plain": [
       "{1, 2, 3, 4, 8, 9, 13, 22, 33, 55, 58, 78}"
      ]
     },
     "execution_count": 10,
     "metadata": {},
     "output_type": "execute_result"
    }
   ],
   "source": [
    "set_int"
   ]
  },
  {
   "cell_type": "code",
   "execution_count": 11,
   "id": "4b5bbdd3-7488-4156-af57-1bc52735485b",
   "metadata": {},
   "outputs": [
    {
     "data": {
      "text/plain": [
       "{'1', '13', '2', '22', '3', '33', '4', '55', '58', '78', '8', '9'}"
      ]
     },
     "execution_count": 11,
     "metadata": {},
     "output_type": "execute_result"
    }
   ],
   "source": [
    "set_str=set(map(str,set_int))\n",
    "set_str"
   ]
  },
  {
   "cell_type": "markdown",
   "id": "cac30814-df77-45b2-bd9f-b356ced03174",
   "metadata": {},
   "source": [
    "## 36. Create a set from a tuple --- doubt"
   ]
  },
  {
   "cell_type": "code",
   "execution_count": 16,
   "id": "126b144a-c42a-4a06-938c-9d6a8bf55c66",
   "metadata": {},
   "outputs": [
    {
     "data": {
      "text/plain": [
       "tuple"
      ]
     },
     "execution_count": 16,
     "metadata": {},
     "output_type": "execute_result"
    }
   ],
   "source": [
    "tps=tuple(set_str)\n",
    "type(tps)"
   ]
  },
  {
   "cell_type": "markdown",
   "id": "cd90509b-82d1-422e-aeea-64e5b7bbcd31",
   "metadata": {},
   "source": [
    "## 37. Convert a set to a tuple."
   ]
  },
  {
   "cell_type": "code",
   "execution_count": 17,
   "id": "cb528f79-5cb4-436f-80ec-be804717b0c5",
   "metadata": {},
   "outputs": [
    {
     "data": {
      "text/plain": [
       "tuple"
      ]
     },
     "execution_count": 17,
     "metadata": {},
     "output_type": "execute_result"
    }
   ],
   "source": [
    "tps=tuple(set_str)\n",
    "type(tps)"
   ]
  },
  {
   "cell_type": "markdown",
   "id": "0ece5db0-8195-4895-b55a-bba725c1c5ca",
   "metadata": {},
   "source": [
    "## 38. Find the maximum value in a set."
   ]
  },
  {
   "cell_type": "code",
   "execution_count": 20,
   "id": "37e57310-758b-4e3d-a52e-05450285c04e",
   "metadata": {},
   "outputs": [
    {
     "data": {
      "text/plain": [
       "78"
      ]
     },
     "execution_count": 20,
     "metadata": {},
     "output_type": "execute_result"
    }
   ],
   "source": [
    "max(set_int)"
   ]
  },
  {
   "cell_type": "markdown",
   "id": "9f1f1d3c-483d-412d-82a4-352a744e7cde",
   "metadata": {},
   "source": [
    "## 39. Find the minimum value in a set."
   ]
  },
  {
   "cell_type": "code",
   "execution_count": 22,
   "id": "5a8a8393-fbb5-475d-b303-d8f7f7ca5c98",
   "metadata": {},
   "outputs": [
    {
     "data": {
      "text/plain": [
       "1"
      ]
     },
     "execution_count": 22,
     "metadata": {},
     "output_type": "execute_result"
    }
   ],
   "source": [
    "min(set_int)"
   ]
  },
  {
   "cell_type": "markdown",
   "id": "b18d3e75-30dc-4f14-95f7-4ff01d537d61",
   "metadata": {},
   "source": [
    "## 40. Create a set from user input."
   ]
  },
  {
   "cell_type": "code",
   "execution_count": 24,
   "id": "7f9d69c5-6a8d-4293-9b92-4d59299782b5",
   "metadata": {},
   "outputs": [
    {
     "name": "stdin",
     "output_type": "stream",
     "text": [
      "Enter :  Create a set from user input.\n"
     ]
    },
    {
     "data": {
      "text/plain": [
       "{'Create', 'a', 'from', 'input.', 'set', 'user'}"
      ]
     },
     "execution_count": 24,
     "metadata": {},
     "output_type": "execute_result"
    }
   ],
   "source": [
    "user_in=input(\"Enter : \")\n",
    "user_set=set(user_in.split())\n",
    "user_set"
   ]
  },
  {
   "cell_type": "markdown",
   "id": "6daf59cd-6021-430e-ac9b-56594ad692ab",
   "metadata": {},
   "source": [
    "## 41. Check if the intersection of two sets is empty"
   ]
  },
  {
   "cell_type": "code",
   "execution_count": 30,
   "id": "c57c89c8-56ee-42bf-82f2-68b21d72051f",
   "metadata": {},
   "outputs": [],
   "source": [
    "strings=\"Check if the intersection of two sets is empty\"\n",
    "set_strings=set(strings.split())\n",
    "inters=set(set_strings.intersection(user_set))"
   ]
  },
  {
   "cell_type": "code",
   "execution_count": 31,
   "id": "8a9d5a55-633b-45da-ad47-f999e6c2c484",
   "metadata": {},
   "outputs": [
    {
     "name": "stdout",
     "output_type": "stream",
     "text": [
      "the intersection of two sets is empty\n"
     ]
    }
   ],
   "source": [
    "if len(inters)==0 :\n",
    "    print(\"the intersection of two sets is empty\")\n",
    "else:\n",
    "    print(\"the intersection of two sets is not empty\")"
   ]
  },
  {
   "cell_type": "markdown",
   "id": "ae080074-3df0-41c8-9ecd-a78bfa2fb8cc",
   "metadata": {},
   "source": [
    "## 42. Create a set of the first 5 Fibonacci numbers"
   ]
  },
  {
   "cell_type": "code",
   "execution_count": 33,
   "id": "3ebbeebe-728d-4cad-b608-073aa40dd9ad",
   "metadata": {},
   "outputs": [],
   "source": [
    "fib=[]"
   ]
  },
  {
   "cell_type": "code",
   "execution_count": 35,
   "id": "05c41072-cea5-4ca5-ac7e-f9cea93b8aa1",
   "metadata": {},
   "outputs": [
    {
     "data": {
      "text/plain": [
       "{0, 1, 2, 3, 5}"
      ]
     },
     "execution_count": 35,
     "metadata": {},
     "output_type": "execute_result"
    }
   ],
   "source": [
    "a,b=0,1\n",
    "count=0\n",
    "while count<6:\n",
    "    fib.append(a)\n",
    "    c=a+b\n",
    "    a=b\n",
    "    b=c\n",
    "    count+=1\n",
    "set(fib)   "
   ]
  },
  {
   "cell_type": "markdown",
   "id": "40b4c7f4-e142-4a75-9ae5-2c71ae763f91",
   "metadata": {},
   "source": [
    "## 43. Remove duplicates from a list using sets."
   ]
  },
  {
   "cell_type": "code",
   "execution_count": 37,
   "id": "57e0fb8d-3f4f-4e27-a5bb-e0aae05fc4c1",
   "metadata": {},
   "outputs": [
    {
     "name": "stdout",
     "output_type": "stream",
     "text": [
      "['Remove', 'duplicates', 'from', 'a', 'list', 'using', 'sets', 'Remove', 'duplicates', 'from', 'a', 'list', 'using', 'sets']\n"
     ]
    },
    {
     "data": {
      "text/plain": [
       "{'Remove', 'a', 'duplicates', 'from', 'list', 'sets', 'using'}"
      ]
     },
     "execution_count": 37,
     "metadata": {},
     "output_type": "execute_result"
    }
   ],
   "source": [
    "s=\"Remove duplicates from a list using sets Remove duplicates from a list using sets\"\n",
    "print(s.split())\n",
    "rem_s=set(s.split())\n",
    "rem_s"
   ]
  },
  {
   "cell_type": "markdown",
   "id": "d1c5af3e-a6b7-4205-9e35-145a1dfdd04d",
   "metadata": {},
   "source": [
    "## 44. Check if two sets have the same elements, regardless of their count.\n"
   ]
  },
  {
   "cell_type": "code",
   "execution_count": 39,
   "id": "a887e845-a8ba-4c59-97fc-9a039ceb7399",
   "metadata": {},
   "outputs": [
    {
     "name": "stdout",
     "output_type": "stream",
     "text": [
      "two sets have the same elements\n"
     ]
    }
   ],
   "source": [
    "sets1=set(range(20))\n",
    "sets2=set(range(20))\n",
    "if sets1==sets2 :\n",
    "    print(\"two sets have the same elements\")\n",
    "else:\n",
    "    print(\"two sets does not have the same elements\")"
   ]
  },
  {
   "cell_type": "markdown",
   "id": "d51a7122-5a11-43b2-aabb-83d2400ae70b",
   "metadata": {},
   "source": [
    "## 45. Create a set of the first `n` powers of 2"
   ]
  },
  {
   "cell_type": "code",
   "execution_count": 40,
   "id": "b321582a-0cb3-43aa-8f16-9c4999c123ea",
   "metadata": {},
   "outputs": [
    {
     "data": {
      "text/plain": [
       "{0, 1, 4, 9, 16, 25, 36, 49, 64, 81}"
      ]
     },
     "execution_count": 40,
     "metadata": {},
     "output_type": "execute_result"
    }
   ],
   "source": [
    "pow_set=set(i**2 for i in range(10))\n",
    "pow_set"
   ]
  },
  {
   "cell_type": "markdown",
   "id": "0e2368ca-9ff7-4c34-ba9c-a399c8a000f4",
   "metadata": {},
   "source": [
    "## 46. Find the common elements between a set and a list."
   ]
  },
  {
   "cell_type": "code",
   "execution_count": 44,
   "id": "d4fcde89-87b6-4610-9d7e-c79df623092c",
   "metadata": {},
   "outputs": [
    {
     "data": {
      "text/plain": [
       "{0, 1, 4, 9, 16}"
      ]
     },
     "execution_count": 44,
     "metadata": {},
     "output_type": "execute_result"
    }
   ],
   "source": [
    "int_list=list(range(20))\n",
    "pow_set.intersection(int_list)"
   ]
  },
  {
   "cell_type": "markdown",
   "id": "18d624f6-8e10-44a3-81ee-d959c18c51c7",
   "metadata": {},
   "source": [
    "## 47. Create a set of the first `n` triangular numbers.\n"
   ]
  },
  {
   "cell_type": "code",
   "execution_count": 52,
   "id": "489d19c2-58ec-4207-b56d-e48a28142bf5",
   "metadata": {},
   "outputs": [],
   "source": [
    "triangular_num=set()"
   ]
  },
  {
   "cell_type": "code",
   "execution_count": 53,
   "id": "b0cf49bc-e424-4c2a-ae5f-e76c4ce240cf",
   "metadata": {},
   "outputs": [
    {
     "name": "stdin",
     "output_type": "stream",
     "text": [
      "Enter the range:  5\n"
     ]
    }
   ],
   "source": [
    "ip=int(input(\"Enter the range: \")) # getting the range numbers as input\n",
    "for i in range(1,ip+1): # range fn to get the number of values\n",
    "    y=(((i**2)+i)/2) # cal to get triangular num\n",
    "    triangular_num.add(y)\n",
    "    #print(f\"Triangle number for {i} is {y}\") #output"
   ]
  },
  {
   "cell_type": "code",
   "execution_count": 54,
   "id": "ecde19c1-cdbc-4f3b-9dbc-409a6c1f3c43",
   "metadata": {},
   "outputs": [
    {
     "data": {
      "text/plain": [
       "{1.0, 3.0, 6.0, 10.0, 15.0}"
      ]
     },
     "execution_count": 54,
     "metadata": {},
     "output_type": "execute_result"
    }
   ],
   "source": [
    "triangular_num"
   ]
  },
  {
   "cell_type": "markdown",
   "id": "36a667e8-5ce9-4724-aace-8ac609cccda6",
   "metadata": {},
   "source": [
    "## 48. Check if a set contains another set as a subset."
   ]
  },
  {
   "cell_type": "code",
   "execution_count": 60,
   "id": "adfd1dda-ddac-4413-b72f-871c03101698",
   "metadata": {},
   "outputs": [
    {
     "name": "stdout",
     "output_type": "stream",
     "text": [
      "the list contains another list as a subsequence\n"
     ]
    }
   ],
   "source": [
    "l1=['a','e','i','o','u']\n",
    "l1=set(l1)\n",
    "alphabet=['a', 'b', 'c', 'd','e', 'f', 'g', 'h', 'i', 'j','k', 'l','m', 'n', 'o', 'p','q', 'r', 's','t', 'u','v', 'w', 'x', 'y', 'z']\n",
    "l1==set(l1),alphabet==set(alphabet)\n",
    "if l1.issubset(alphabet)== True: # using issubset fn\n",
    "    print(\"the list contains another list as a subsequence\")"
   ]
  },
  {
   "cell_type": "markdown",
   "id": "8a50825d-5702-451f-8e07-e93c1755ba9d",
   "metadata": {},
   "source": [
    "## 49. Create a set of alternating 1s and 0s of length `n`"
   ]
  },
  {
   "cell_type": "code",
   "execution_count": 65,
   "id": "19e4913d-d14f-4a29-8c21-db17b8e465a2",
   "metadata": {},
   "outputs": [
    {
     "name": "stdin",
     "output_type": "stream",
     "text": [
      "Enter the Length of the tuple:  10000\n"
     ]
    },
    {
     "name": "stdout",
     "output_type": "stream",
     "text": [
      "the length of the tuple is 10000\n",
      " {0, 1}\n"
     ]
    }
   ],
   "source": [
    "tu=(0,1)\n",
    "n=int(input(\"Enter the Length of the tuple: \"))\n",
    "n_tup=tuple(tu*n)[0:n] # tuple is multiplied for given input,and the specific index of input len is stored in a variable\n",
    "print(f\"the given length for the tuple is {len(n_tup)}\\n {set(n_tup)}\") # set deletes the duplicate values"
   ]
  },
  {
   "cell_type": "markdown",
   "id": "383d4fd7-9cb7-4516-9921-6fee48b7efc2",
   "metadata": {},
   "source": [
    "## 50. Merge multiple sets into one"
   ]
  },
  {
   "cell_type": "code",
   "execution_count": 68,
   "id": "2f620791-40e5-4555-8092-56930a8226ec",
   "metadata": {},
   "outputs": [
    {
     "name": "stdout",
     "output_type": "stream",
     "text": [
      "{0, 1, 2, 3, 4, 5, 6, 7, 8, 9, 10, 11, 12, 13, 14, 15, 16, 17, 18, 19, 20, 21, 22, 23, 24, 25, 26, 27, 28, 29, 30, 31, 32, 33, 34, 35, 36, 37, 38, 39, 40, 41, 42, 43, 44, 45, 46, 47, 48, 49, 50, 51, 52, 53, 54, 55, 56, 57, 58, 59, 60, 61, 62, 63, 64, 65, 66, 67, 68, 69, 70, 71, 72, 73, 74, 75, 76, 77, 78, 79, 80, 81, 82, 83, 84, 85, 86, 87, 88, 89, 90, 91, 92, 93, 94, 95, 96, 97, 98, 99, 100, 101, 102, 103, 104, 105, 106, 107, 108, 109, 110, 111, 112, 113, 114, 115, 116, 117, 118, 119, 120, 121, 122, 123, 124, 125, 126, 127, 128, 129, 130, 131, 132, 133, 134, 135, 136, 137, 138, 139, 140, 141, 142, 143, 144, 145, 146, 147, 148, 149, 150, 151, 152, 153, 154, 155, 156, 157, 158, 159, 160, 161, 162, 163, 164, 165, 166, 167, 168, 169, 170, 171, 172, 173, 174, 175, 176, 177, 178, 179, 180, 181, 182, 183, 184, 185, 186, 187, 188, 189, 190, 191, 192, 193, 194, 195, 196, 197, 198, 199, 200, 201, 202, 203, 204, 205, 206, 207, 208, 209, 210, 211, 212, 213, 214, 215, 216, 217, 218, 219, 220, 221, 222, 223, 224, 225, 226, 227, 228, 229, 230, 231, 232, 233, 234, 235, 236, 237, 238, 239, 240, 241, 242, 243, 244, 245, 246, 247, 248, 249, 250, 251, 252, 253, 254, 255, 256, 257, 258, 259, 260, 261, 262, 263, 264, 265, 266, 267, 268, 269, 270, 271, 272, 273, 274, 275, 276, 277, 278, 279, 280, 281, 282, 283, 284, 285, 286, 287, 288, 289, 290, 291, 292, 293, 294, 295, 296, 297, 298, 299, 300, 301, 302, 303, 304, 305, 306, 307, 308, 309, 310, 311, 312, 313, 314, 315, 316, 317, 318, 319, 320, 321, 322, 323, 324, 325, 326, 327, 328, 329, 330, 331, 332, 333, 334, 335, 336, 337, 338, 339, 340, 341, 342, 343, 344, 345, 346, 347, 348, 349, 350, 351, 352, 353, 354, 355, 356, 357, 358, 359, 360, 361, 362, 363, 364, 365, 366, 367, 368, 369, 370, 371, 372, 373, 374, 375, 376, 377, 378, 379, 380, 381, 382, 383, 384, 385, 386, 387, 388, 389, 390, 391, 392, 393, 394, 395, 396, 397, 398, 399, 400, 401, 402, 403, 404, 405, 406, 407, 408, 409, 410, 411, 412, 413, 414, 415, 416, 417, 418, 419, 420, 421, 422, 423, 424, 425, 426, 427, 428, 429, 430, 431, 432, 433, 434, 435, 436, 437, 438, 439, 440, 441, 442, 443, 444, 445, 446, 447, 448, 449, 450, 451, 452, 453, 454, 455, 456, 457, 458, 459, 460, 461, 462, 463, 464, 465, 466, 467, 468, 469, 470, 471, 472, 473, 474, 475, 476, 477, 478, 479, 480, 481, 482, 483, 484, 485, 486, 487, 488, 489, 490, 491, 492, 493, 494, 495, 496, 497, 498, 499, 500, 501, 502, 503, 504, 505, 506, 507, 508, 509, 510, 511, 512, 513, 514, 515, 516, 517, 518, 519, 520, 521, 522, 523, 524, 525, 526, 527, 528, 529, 530, 531, 532, 533, 534, 535, 536, 537, 538, 539, 540, 541, 542, 543, 544, 545, 546, 547, 548, 549, 550, 551, 552, 553, 554, 555, 556, 557, 558, 559, 560, 561, 562, 563, 564, 565, 566, 567, 568, 569, 570, 571, 572, 573, 574, 575, 576, 577, 578, 579, 580, 581, 582, 583, 584, 585, 586, 587, 588, 589, 590, 591, 592, 593, 594, 595, 596, 597, 598, 599, 600, 601, 602, 603, 604, 605, 606, 607, 608, 609, 610, 611, 612, 613, 614, 615, 616, 617, 618, 619, 620, 621, 622, 623, 624, 625, 626, 627, 628, 629, 630, 631, 632, 633, 634, 635, 636, 637, 638, 639, 640, 641, 642, 643, 644, 645, 646, 647, 648, 649, 650, 651, 652, 653, 654, 655, 656, 657, 658, 659, 660, 661, 662, 663, 664, 665, 666, 667, 668, 669, 670, 671, 672, 673, 674, 675, 676, 677, 678, 679, 680, 681, 682, 683, 684, 685, 686, 687, 688, 689, 690, 691, 692, 693, 694, 695, 696, 697, 698, 699, 700, 701, 702, 703, 704, 705, 706, 707, 708, 709, 710, 711, 712, 713, 714, 715, 716, 717, 718, 719, 720, 721, 722, 723, 724, 725, 726, 727, 728, 729, 730, 731, 732, 733, 734, 735, 736, 737, 738, 739, 740, 741, 742, 743, 744, 745, 746, 747, 748, 749, 750, 751, 752, 753, 754, 755, 756, 757, 758, 759, 760, 761, 762, 763, 764, 765, 766, 767, 768, 769, 770, 771, 772, 773, 774, 775, 776, 777, 778, 779, 780, 781, 782, 783, 784, 785, 786, 787, 788, 789, 790, 791, 792, 793, 794, 795, 796, 797, 798, 799, 800, 801, 802, 803, 804, 805, 806, 807, 808, 809, 810, 811, 812, 813, 814, 815, 816, 817, 818, 819, 820, 821, 822, 823, 824, 825, 826, 827, 828, 829, 830, 831, 832, 833, 834, 835, 836, 837, 838, 839, 840, 841, 842, 843, 844, 845, 846, 847, 848, 849, 850, 851, 852, 853, 854, 855, 856, 857, 858, 859, 860, 861, 862, 863, 864, 865, 866, 867, 868, 869, 870, 871, 872, 873, 874, 875, 876, 877, 878, 879, 880, 881, 882, 883, 884, 885, 886, 887, 888, 889, 890, 891, 892, 893, 894, 895, 896, 897, 898, 899, 900, 901, 902, 903, 904, 905, 906, 907, 908, 909, 910, 911, 912, 913, 914, 915, 916, 917, 918, 919, 920, 921, 922, 923, 924, 925, 926, 927, 928, 929, 930, 931, 932, 933, 934, 935, 936, 937, 938, 939, 940, 941, 942, 943, 944, 945, 946, 947, 948, 949, 950, 951, 952, 953, 954, 955, 956, 957, 958, 959, 960, 961, 962, 963, 964, 965, 966, 967, 968, 969, 970, 971, 972, 973, 974, 975, 976, 977, 978, 979, 980, 981, 982, 983, 984, 985, 986, 987, 988, 989, 990, 991, 992, 993, 994, 995, 996, 997, 998, 999}\n"
     ]
    }
   ],
   "source": [
    "s99=set(range(100))\n",
    "s100=set(range(500))\n",
    "s200=set(range(1000))\n",
    "set258=s99.union(s100,s200)\n",
    "print(set258)"
   ]
  },
  {
   "cell_type": "code",
   "execution_count": null,
   "id": "70cb74dd-2314-44db-9af7-922bc791371f",
   "metadata": {},
   "outputs": [],
   "source": []
  }
 ],
 "metadata": {
  "kernelspec": {
   "display_name": "Python 3 (ipykernel)",
   "language": "python",
   "name": "python3"
  },
  "language_info": {
   "codemirror_mode": {
    "name": "ipython",
    "version": 3
   },
   "file_extension": ".py",
   "mimetype": "text/x-python",
   "name": "python",
   "nbconvert_exporter": "python",
   "pygments_lexer": "ipython3",
   "version": "3.10.8"
  }
 },
 "nbformat": 4,
 "nbformat_minor": 5
}
