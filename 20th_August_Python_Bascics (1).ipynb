{
 "cells": [
  {
   "cell_type": "markdown",
   "id": "e58e5398-ea48-44a2-9da0-dc8d5f9e8fe3",
   "metadata": {},
   "source": [
    "# Python Basics "
   ]
  },
  {
   "cell_type": "markdown",
   "id": "1eba08d9-693b-4832-bdb4-e5badafce255",
   "metadata": {},
   "source": [
    "# 1. Declare two variables, `x` and `y`, and assign them integer values.Swap the values of these variables without using any temporary variable."
   ]
  },
  {
   "cell_type": "code",
   "execution_count": 1,
   "id": "eda3d550-b4e5-4aab-b409-c89fd2efb950",
   "metadata": {},
   "outputs": [],
   "source": [
    "x=2\n",
    "y=5"
   ]
  },
  {
   "cell_type": "code",
   "execution_count": 7,
   "id": "c2563915-daf5-4d9e-b6a1-0837cc7add91",
   "metadata": {},
   "outputs": [
    {
     "name": "stdout",
     "output_type": "stream",
     "text": [
      "2 5\n"
     ]
    }
   ],
   "source": [
    "print(x,y)"
   ]
  },
  {
   "cell_type": "code",
   "execution_count": 8,
   "id": "9a698adf-c6ff-4910-84b4-757d278af457",
   "metadata": {},
   "outputs": [],
   "source": [
    "x,y = y,x #swapping the variables"
   ]
  },
  {
   "cell_type": "code",
   "execution_count": 10,
   "id": "02c1d8c9-96b3-4017-921f-ce4d6d6e8cc8",
   "metadata": {},
   "outputs": [
    {
     "name": "stdout",
     "output_type": "stream",
     "text": [
      "2\n"
     ]
    }
   ],
   "source": [
    "print(y)"
   ]
  },
  {
   "cell_type": "code",
   "execution_count": 12,
   "id": "ca68929a-0a61-45b6-99d8-8595775d1b07",
   "metadata": {},
   "outputs": [
    {
     "name": "stdout",
     "output_type": "stream",
     "text": [
      "5 2\n"
     ]
    }
   ],
   "source": [
    "print(x,y)"
   ]
  },
  {
   "cell_type": "markdown",
   "id": "eb89d093-9a46-4bce-b82c-d560dd812323",
   "metadata": {},
   "source": [
    "# 2. Create a program that calculates the area of a rectangle. Take the length and width as inputs from the user and store them in variables. Calculate and display the area."
   ]
  },
  {
   "cell_type": "code",
   "execution_count": 3,
   "id": "cacec500-b64a-4659-b631-5a4e2847db60",
   "metadata": {},
   "outputs": [
    {
     "name": "stdin",
     "output_type": "stream",
     "text": [
      "Enter the length of the rectangle 55\n",
      "Enter the width of the rectangle 87\n"
     ]
    },
    {
     "name": "stdout",
     "output_type": "stream",
     "text": [
      "Area of the Rectangle is 4785sq.mm\n"
     ]
    }
   ],
   "source": [
    "length= int(input(\"Enter the length of the rectangle\")) #getting inputs from the user\n",
    "width=int(input(\"Enter the width of the rectangle\"))\n",
    "Area = length * width # calculation\n",
    "print(f\"Area of the Rectangle is {Area}sq.mm\") #ouTput"
   ]
  },
  {
   "cell_type": "markdown",
   "id": "392062e4-fe61-4a4c-9910-c5bb31256994",
   "metadata": {},
   "source": [
    "# 3. Write a Python program that converts temperature from Celsius to Fahrenheit. Take the temperature in Celsius as input, store it in a variable, convert it to Fahrenheit, and display the result."
   ]
  },
  {
   "cell_type": "code",
   "execution_count": 1,
   "id": "e447d153-f4cd-4dc1-ac77-e8eefb45a422",
   "metadata": {},
   "outputs": [
    {
     "name": "stdin",
     "output_type": "stream",
     "text": [
      "Enter a the value in celcius:  55\n"
     ]
    },
    {
     "name": "stdout",
     "output_type": "stream",
     "text": [
      "55deg celcius equals to 131.0 deg fahrenheits\n"
     ]
    }
   ],
   "source": [
    "celcius=int(input(\"Enter a the value in celcius: \"))\n",
    "fahrenheit= (celcius*(9/5))+32 #calculation\n",
    "print(f\"{celcius}deg celcius equals to {fahrenheit} deg fahrenheits\")"
   ]
  },
  {
   "cell_type": "markdown",
   "id": "8f30cd74-260b-49cb-85b3-d2752432446d",
   "metadata": {},
   "source": [
    "# TOPIC: String Based Questions"
   ]
  },
  {
   "cell_type": "markdown",
   "id": "b6e4c18a-26fb-4e7c-bf8c-cf3ebd377768",
   "metadata": {},
   "source": [
    "## 1. Write a Python program that takes a string as input and prints the length of the string."
   ]
  },
  {
   "cell_type": "code",
   "execution_count": 2,
   "id": "1d0ededb-5382-4617-8550-fd2b41ca68fe",
   "metadata": {},
   "outputs": [
    {
     "name": "stdin",
     "output_type": "stream",
     "text": [
      "Enter a String Value:  pwskills\n"
     ]
    }
   ],
   "source": [
    "input_str=str(input(\"Enter a String Value: \"))"
   ]
  },
  {
   "cell_type": "code",
   "execution_count": 5,
   "id": "deb669d0-545a-4437-93b7-408418880204",
   "metadata": {},
   "outputs": [
    {
     "name": "stdout",
     "output_type": "stream",
     "text": [
      "The length of the string pwskills is 8\n"
     ]
    }
   ],
   "source": [
    "op=len(input_str) # using len fn to get the length of str\n",
    "print(f\"The length of the string {input_str} is {op}\")"
   ]
  },
  {
   "cell_type": "markdown",
   "id": "8770b035-7725-43d1-ac5d-79313f5dac3e",
   "metadata": {},
   "source": [
    "# 2. Create a program that takes a sentence from the user and counts the number of vowels (a, e, i, o, u) in the string."
   ]
  },
  {
   "cell_type": "code",
   "execution_count": 8,
   "id": "9162b33e-25de-44e2-8807-4ebf53ccf43f",
   "metadata": {},
   "outputs": [],
   "source": [
    "op=set() # creating a set ,so that op list cannot hold duplicates"
   ]
  },
  {
   "cell_type": "code",
   "execution_count": 9,
   "id": "6aff515d-f630-4276-84e2-6ddb95f1d9f1",
   "metadata": {},
   "outputs": [
    {
     "name": "stdin",
     "output_type": "stream",
     "text": [
      "Type a Sentence:  All is well \n"
     ]
    }
   ],
   "source": [
    "ip_str=str(input(\"Type a Sentence: \")) # input from the user\n",
    "ip_str=ip_str.lower() # using lower fn to avoid case errors\n",
    "vowels= [\"a\",\"e\",\"i\",\"o\",\"u\"]"
   ]
  },
  {
   "cell_type": "code",
   "execution_count": 11,
   "id": "aff60ca0-7760-4f93-8773-a6f076aac15c",
   "metadata": {},
   "outputs": [
    {
     "name": "stdout",
     "output_type": "stream",
     "text": [
      "The all is well  contains 5 Vowels\n"
     ]
    }
   ],
   "source": [
    "for i in vowels:\n",
    "    op.update(i) # using append fn to add the extracted vowels to op List\n",
    "print(f\"The {ip_str} contains {len(op)} Vowels\")\n",
    "    "
   ]
  },
  {
   "cell_type": "markdown",
   "id": "ca7c80e3-658e-4eff-80a2-3253038604a9",
   "metadata": {},
   "source": [
    "# 3. Given a string, reverse the order of characters using string slicing and print the reversed string."
   ]
  },
  {
   "cell_type": "code",
   "execution_count": 19,
   "id": "d57f0406-a09b-4ab0-b881-3fb130c1e7bd",
   "metadata": {},
   "outputs": [
    {
     "name": "stdin",
     "output_type": "stream",
     "text": [
      "Enter a Value:  PWSKILLS\n"
     ]
    },
    {
     "name": "stdout",
     "output_type": "stream",
     "text": [
      "The reversed string is SLLIKSWP\n"
     ]
    }
   ],
   "source": [
    "istr=input(\"Enter a Value: \")\n",
    "print(f\"The reversed string is {istr[::-1]}\")"
   ]
  },
  {
   "cell_type": "markdown",
   "id": "12e85721-34a1-41fa-b455-1f4a210681a0",
   "metadata": {},
   "source": [
    "# 4. Write a program that takes a string as input and checks if it is a palindrome (reads the same forwards and backwards)."
   ]
  },
  {
   "cell_type": "code",
   "execution_count": 3,
   "id": "a5b158d1-e96c-4577-a08c-5d6014d966cc",
   "metadata": {},
   "outputs": [
    {
     "name": "stdin",
     "output_type": "stream",
     "text": [
      "Enter a Value:  Malayalam\n"
     ]
    },
    {
     "name": "stdout",
     "output_type": "stream",
     "text": [
      "The Given text malayalam is a palindrome \n"
     ]
    }
   ],
   "source": [
    "ipstring= input(\"Enter a Value: \")\n",
    "ipstring=ipstring.lower() # convert as lower to avoid case errors\n",
    "reversedstr=ipstring[::-1]\n",
    "if ipstring ==reversedstr:\n",
    "    print(f\"The Given text {ipstring} is a palindrome \")\n",
    "else:\n",
    "      print(f\"The Given text {ipstring} is not a palindrome \")"
   ]
  },
  {
   "cell_type": "markdown",
   "id": "bd00f7a6-b2f8-4e40-8954-105a3e51d3b8",
   "metadata": {},
   "source": [
    "# 5. Create a program that takes a string as input and removes all the spaces from it. Print the modified string without spaces."
   ]
  },
  {
   "cell_type": "code",
   "execution_count": 9,
   "id": "2a11c283-1250-4e4d-a0ae-8a276bf5e27b",
   "metadata": {},
   "outputs": [
    {
     "name": "stdin",
     "output_type": "stream",
     "text": [
      "Enter a value:  Pw Skills\n"
     ]
    },
    {
     "name": "stdout",
     "output_type": "stream",
     "text": [
      "The modified string is PwSkills\n"
     ]
    }
   ],
   "source": [
    "str_ip=input(\"Enter a value: \")\n",
    "print(f'The modified string is {str_ip.replace(\" \",\"\")}')# using replace fn to remove blank spaces"
   ]
  },
  {
   "cell_type": "code",
   "execution_count": null,
   "id": "1dcfc62f-2f96-44a4-931a-11eb427345c1",
   "metadata": {},
   "outputs": [],
   "source": []
  }
 ],
 "metadata": {
  "kernelspec": {
   "display_name": "Python 3 (ipykernel)",
   "language": "python",
   "name": "python3"
  },
  "language_info": {
   "codemirror_mode": {
    "name": "ipython",
    "version": 3
   },
   "file_extension": ".py",
   "mimetype": "text/x-python",
   "name": "python",
   "nbconvert_exporter": "python",
   "pygments_lexer": "ipython3",
   "version": "3.10.8"
  }
 },
 "nbformat": 4,
 "nbformat_minor": 5
}
